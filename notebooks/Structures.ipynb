{
 "cells": [
  {
   "cell_type": "code",
   "execution_count": 10,
   "metadata": {
    "slideshow": {
     "slide_type": "skip"
    }
   },
   "outputs": [],
   "source": [
    "#include <iostream>\n",
    "using namespace std;"
   ]
  },
  {
   "cell_type": "markdown",
   "metadata": {
    "slideshow": {
     "slide_type": "slide"
    }
   },
   "source": [
    "# User-Defined Data Types"
   ]
  },
  {
   "cell_type": "markdown",
   "metadata": {
    "slideshow": {
     "slide_type": "slide"
    }
   },
   "source": [
    "## Introduction\n",
    "\n",
    "- Enumerated types\n",
    "- Enum classes\n",
    "- Structs\n",
    "- Classes"
   ]
  },
  {
   "cell_type": "markdown",
   "metadata": {
    "slideshow": {
     "slide_type": "slide"
    }
   },
   "source": [
    "## User-Defined Data Types\n",
    "\n",
    "- C++ contains quite a few built in data types.\n",
    "    But these types aren't always sufficient for the kinds of things we want to do.\n",
    "- C++ contains capabilities that allow programmers to create their own data types.\n",
    "    These data types are called **user-defined data types**."
   ]
  },
  {
   "cell_type": "markdown",
   "metadata": {
    "slideshow": {
     "slide_type": "slide"
    }
   },
   "source": [
    "## Enumerated Type\n",
    "\n",
    "- The simplest user-defined data type is the **enumerated type**.\n",
    "- An enumerated type (also called an *enumeration* or *enum*) is a data type where every possible value is defined as a **symbolic constant** (called an **enumerator**).\n",
    "- Enumerations are defined via the `enum` keyword."
   ]
  },
  {
   "cell_type": "code",
   "execution_count": 1,
   "metadata": {
    "slideshow": {
     "slide_type": "slide"
    }
   },
   "outputs": [],
   "source": [
    "// Define a new enumeration named MyColor\n",
    "enum MyColor\n",
    "{\n",
    "    // Here are the enumerators\n",
    "    // These define all the possible values this type can hold\n",
    "    // Each enumerator is separated by a comma, not a semicolon\n",
    "    COLOR_RED,\n",
    "    COLOR_BLUE,\n",
    "    COLOR_GREEN\n",
    "}; // the enum itself must end with a semicolon"
   ]
  },
  {
   "cell_type": "code",
   "execution_count": 3,
   "metadata": {
    "slideshow": {
     "slide_type": "fragment"
    }
   },
   "outputs": [],
   "source": [
    "{\n",
    "    // Define a few variables of enumerated type Color\n",
    "    MyColor paint = COLOR_RED;\n",
    "    MyColor house(COLOR_BLUE);\n",
    "    MyColor apple { COLOR_GREEN };\n",
    "}"
   ]
  },
  {
   "cell_type": "markdown",
   "metadata": {
    "slideshow": {
     "slide_type": "slide"
    }
   },
   "source": [
    "## Enums\n",
    "\n",
    "- Declaring an enumeration (or any user-defined data type) does not allocate any memory.\n",
    "- When a *variable of the enumerated type* is defined, memory is allocated for that variable at that time.\n",
    "- Providing a name for an enumeration is *optional*, but common.\n",
    "    - Enums without a name are sometimes called anonymous enums.\n",
    "    - Enumeration names are often named starting with a capital letter.\n",
    "- Enumerators must be given names, and are typically named either using all caps (e.g. `COLOR_WHITE`)."
   ]
  },
  {
   "cell_type": "markdown",
   "metadata": {
    "slideshow": {
     "slide_type": "slide"
    }
   },
   "source": [
    "## Enumerator scope\n",
    "\n",
    "Because enumerators are placed into the **same namespace** as the enumeration, an enumerator name **can't be used** in multiple enumerations within the same namespace:"
   ]
  },
  {
   "cell_type": "code",
   "execution_count": 4,
   "metadata": {
    "slideshow": {
     "slide_type": "fragment"
    }
   },
   "outputs": [
    {
     "name": "stderr",
     "output_type": "stream",
     "text": [
      "\u001b[1minput_line_11:6:16: \u001b[0m\u001b[0;1;31merror: \u001b[0m\u001b[1mredefinition of enumerator 'BLUE'\u001b[0m\n",
      "               BLUE, // error, BLUE was already used in enum Color in th...\n",
      "\u001b[0;1;32m               ^\n",
      "\u001b[0m\u001b[1minput_line_11:3:14: \u001b[0m\u001b[0;1;30mnote: \u001b[0mprevious definition is here\u001b[0m\n",
      "             BLUE, // BLUE is put into the global namespace\n",
      "\u001b[0;1;32m             ^\n",
      "\u001b[0m"
     ]
    },
    {
     "ename": "Interpreter Error",
     "evalue": "",
     "output_type": "error",
     "traceback": [
      "Interpreter Error: "
     ]
    }
   ],
   "source": [
    "enum Color { RED, \n",
    "             BLUE, // BLUE is put into the global namespace\n",
    "             GREEN };\n",
    "\n",
    "enum Feeling { HAPPY,\n",
    "               BLUE, // error, BLUE was already used in enum Color in the global namespace\n",
    "               TIRED};"
   ]
  },
  {
   "cell_type": "markdown",
   "metadata": {
    "slideshow": {
     "slide_type": "slide"
    }
   },
   "source": [
    "## Enumerator values\n",
    "\n",
    "- Each enumerator is automatically assigned an integer value based on its position in the enumeration list.\n",
    "    - By default, the first enumerator is assigned the integer value 0\n",
    "    - Each subsequent enumerator has a value one greater than the previous enumerator"
   ]
  },
  {
   "cell_type": "code",
   "execution_count": 3,
   "metadata": {
    "slideshow": {
     "slide_type": "slide"
    }
   },
   "outputs": [],
   "source": [
    "enum ColorEnum\n",
    "{\n",
    "    COLOR_BLACK, // assigned 0\n",
    "    COLOR_RED, // assigned 1\n",
    "    COLOR_BLUE, // assigned 2\n",
    "    COLOR_GREEN, // assigned 3\n",
    "    COLOR_WHITE, // assigned 4\n",
    "    COLOR_CYAN, // assigned 5\n",
    "    COLOR_YELLOW, // assigned 6\n",
    "    COLOR_MAGENTA // assigned 7\n",
    "};"
   ]
  },
  {
   "cell_type": "code",
   "execution_count": 4,
   "metadata": {
    "slideshow": {
     "slide_type": "fragment"
    }
   },
   "outputs": [
    {
     "name": "stdout",
     "output_type": "stream",
     "text": [
      "4\n",
      "6\n"
     ]
    }
   ],
   "source": [
    "{\n",
    "    ColorEnum paint(COLOR_WHITE), brush{COLOR_YELLOW};\n",
    "    cout << paint << endl;\n",
    "    cout << brush << endl;\n",
    "}"
   ]
  },
  {
   "cell_type": "markdown",
   "metadata": {
    "slideshow": {
     "slide_type": "slide"
    }
   },
   "source": [
    "## Enumerator values (cont.)\n",
    "\n",
    "- It is possible to explicitly define the value of enumerator.\n",
    "- These integer values can be positive or negative and can share the same value as other enumerators.\n",
    "- Any non-defined enumerators are given a value one greater than the previous enumerator."
   ]
  },
  {
   "cell_type": "code",
   "execution_count": null,
   "metadata": {
    "slideshow": {
     "slide_type": "slide"
    }
   },
   "outputs": [],
   "source": [
    "// define a new enum named Animal\n",
    "enum Animal\n",
    "{\n",
    "    ANIMAL_CAT = -3,\n",
    "    ANIMAL_DOG, // assigned -2\n",
    "    ANIMAL_PIG, // assigned -1\n",
    "    ANIMAL_HORSE = 5,\n",
    "    ANIMAL_GIRAFFE = 5, // shares same value as ANIMAL_HORSE\n",
    "    ANIMAL_CHICKEN // assigned 6\n",
    "};"
   ]
  },
  {
   "cell_type": "code",
   "execution_count": 7,
   "metadata": {},
   "outputs": [
    {
     "name": "stdout",
     "output_type": "stream",
     "text": [
      "-1\n",
      "6\n"
     ]
    }
   ],
   "source": [
    "{\n",
    "    cout << ANIMAL_PIG << endl;\n",
    "    cout << ANIMAL_CHICKEN << endl;\n",
    "}"
   ]
  },
  {
   "cell_type": "markdown",
   "metadata": {
    "slideshow": {
     "slide_type": "slide"
    }
   },
   "source": [
    "## Enum type evaluation\n",
    "\n",
    "- Because enumerated values evaluate to integers, they can be assigned to integer variables."
   ]
  },
  {
   "cell_type": "code",
   "execution_count": 9,
   "metadata": {
    "scrolled": true,
    "slideshow": {
     "slide_type": "fragment"
    }
   },
   "outputs": [
    {
     "name": "stdout",
     "output_type": "stream",
     "text": [
      "-1\n",
      "-1"
     ]
    }
   ],
   "source": [
    "{\n",
    "    int mypet = ANIMAL_PIG;\n",
    "    cout << mypet << endl;\n",
    "    cout << ANIMAL_PIG; // evaluates to integer before being passed to std::cout\n",
    "}"
   ]
  },
  {
   "cell_type": "markdown",
   "metadata": {
    "slideshow": {
     "slide_type": "fragment"
    }
   },
   "source": [
    "- The compiler will not implicitly convert an integer to an enumerated value."
   ]
  },
  {
   "cell_type": "code",
   "execution_count": 14,
   "metadata": {
    "slideshow": {
     "slide_type": "fragment"
    }
   },
   "outputs": [
    {
     "name": "stdout",
     "output_type": "stream",
     "text": [
      "-1\n",
      "0\n"
     ]
    }
   ],
   "source": [
    "{\n",
    "    //Animal animal = 5; // will cause compiler error\n",
    "    Animal pig = static_cast<Animal>(-1); // ugly\n",
    "    cout << pig << endl;\n",
    "    Animal bird = static_cast<Animal>(0); // no such animal\n",
    "    cout << bird  << endl; \n",
    "}"
   ]
  },
  {
   "cell_type": "markdown",
   "metadata": {
    "slideshow": {
     "slide_type": "slide"
    }
   },
   "source": [
    "## Type Safety\n",
    "\n",
    "Although enumerated types are distinct types in C++, they are **not type safe**."
   ]
  },
  {
   "cell_type": "code",
   "execution_count": 15,
   "metadata": {
    "slideshow": {
     "slide_type": "fragment"
    }
   },
   "outputs": [
    {
     "name": "stderr",
     "output_type": "stream",
     "text": [
      "\u001b[1minput_line_22:18:33: \u001b[0m\u001b[0;1;35mwarning: \u001b[0m\u001b[1mcomparison of two values with different enumeration types ('Color' and 'Fruit')\n",
      "      [-Wenum-compare]\u001b[0m\n",
      "    cout << boolalpha << (color == fruit) << endl;\n",
      "\u001b[0;1;32m                          ~~~~~ ^  ~~~~~\n",
      "\u001b[0m"
     ]
    },
    {
     "name": "stdout",
     "output_type": "stream",
     "text": [
      "true\n"
     ]
    }
   ],
   "source": [
    "{\n",
    "    enum Color\n",
    "    {\n",
    "        red, // red is placed in the same scope as Color\n",
    "        blue\n",
    "    };\n",
    " \n",
    "    enum Fruit\n",
    "    {\n",
    "        banana, // banana is placed in the same scope as Fruit\n",
    "        apple\n",
    "    };\n",
    "    \n",
    "    Color color{ red }; // Color and red can be accessed in the same scope\n",
    "    Fruit fruit{ banana }; // Fruit and banana can be accessed in the same scope\n",
    "    \n",
    "    cout << boolalpha << (color == fruit) << endl;\n",
    "}"
   ]
  },
  {
   "cell_type": "markdown",
   "metadata": {
    "slideshow": {
     "slide_type": "slide"
    }
   },
   "source": [
    "## Enum class\n",
    "\n",
    "C++11 defines a new concept, the **enum class** (also called a **scoped enumeration**), which makes enumerations both strongly typed and strongly scoped:\n",
    "\n",
    "- A scoped enumeration introduced by `enum class` and followed by a type name, is a set of identifiers representing integer constants.\n",
    "- The values of these enumeration constants start at 0, unless specified otherwise, and increment by 1.\n",
    "- The identifiers must be unique, but separate enumeration constants can have the same value.\n",
    "- Variables of an `enum class` can be assigned only one of the values declared in the enumeration."
   ]
  },
  {
   "cell_type": "code",
   "execution_count": 21,
   "metadata": {
    "slideshow": {
     "slide_type": "slide"
    }
   },
   "outputs": [
    {
     "name": "stderr",
     "output_type": "stream",
     "text": [
      "\u001b[1minput_line_28:21:11: \u001b[0m\u001b[0;1;35mwarning: \u001b[0m\u001b[1mcomparison of two values with different enumeration types ('Color' and 'Fruit')\n",
      "      [-Wenum-compare]\u001b[0m\n",
      "    color == fruit;\n",
      "\u001b[0;1;32m    ~~~~~ ^  ~~~~~\n",
      "\u001b[0m\u001b[1minput_line_28:21:11: \u001b[0m\u001b[0;1;31merror: \u001b[0m\u001b[1minvalid operands to binary expression ('Color' and 'Fruit')\u001b[0m\n",
      "    color == fruit;\n",
      "\u001b[0;1;32m    ~~~~~ ^  ~~~~~\n",
      "\u001b[0m\u001b[1m/home/art/Applications/miniconda3/envs/cling/bin/../lib/gcc/x86_64-conda_cos6-linux-gnu/7.3.0/../../../../x86_64-conda_cos6-linux-gnu/include/c++/7.3.0/bits/stl_pair.h:443:5: \u001b[0m\u001b[0;1;30mnote: \u001b[0mcandidate template ignored: could not match 'pair<type-parameter-0-0,\n",
      "      type-parameter-0-1>' against 'Color'\u001b[0m\n",
      "    operator==(const pair<_T1, _T2>& __x, const pair<_T1, _T2>& __y)\n",
      "\u001b[0;1;32m    ^\n",
      "\u001b[0m\u001b[1m/home/art/Applications/miniconda3/envs/cling/bin/../lib/gcc/x86_64-conda_cos6-linux-gnu/7.3.0/../../../../x86_64-conda_cos6-linux-gnu/include/c++/7.3.0/bits/stl_iterator.h:299:5: \u001b[0m\u001b[0;1;30mnote: \u001b[0mcandidate template ignored: could not match\n",
      "      'reverse_iterator<type-parameter-0-0>' against 'Color'\u001b[0m\n",
      "    operator==(const reverse_iterator<_Iterator>& __x,\n",
      "\u001b[0;1;32m    ^\n",
      "\u001b[0m\u001b[1m/home/art/Applications/miniconda3/envs/cling/bin/../lib/gcc/x86_64-conda_cos6-linux-gnu/7.3.0/../../../../x86_64-conda_cos6-linux-gnu/include/c++/7.3.0/bits/stl_iterator.h:337:5: \u001b[0m\u001b[0;1;30mnote: \u001b[0mcandidate template ignored: could not match\n",
      "      'reverse_iterator<type-parameter-0-0>' against 'Color'\u001b[0m\n",
      "    operator==(const reverse_iterator<_IteratorL>& __x,\n",
      "\u001b[0;1;32m    ^\n",
      "\u001b[0m\u001b[1m/home/art/Applications/miniconda3/envs/cling/bin/../lib/gcc/x86_64-conda_cos6-linux-gnu/7.3.0/../../../../x86_64-conda_cos6-linux-gnu/include/c++/7.3.0/bits/stl_iterator.h:1118:5: \u001b[0m\u001b[0;1;30mnote: \u001b[0mcandidate template ignored: could not match 'move_iterator<type-parameter-0-0>'\n",
      "      against 'Color'\u001b[0m\n",
      "    operator==(const move_iterator<_IteratorL>& __x,\n",
      "\u001b[0;1;32m    ^\n",
      "\u001b[0m\u001b[1m/home/art/Applications/miniconda3/envs/cling/bin/../lib/gcc/x86_64-conda_cos6-linux-gnu/7.3.0/../../../../x86_64-conda_cos6-linux-gnu/include/c++/7.3.0/bits/stl_iterator.h:1124:5: \u001b[0m\u001b[0;1;30mnote: \u001b[0mcandidate template ignored: could not match 'move_iterator<type-parameter-0-0>'\n",
      "      against 'Color'\u001b[0m\n",
      "    operator==(const move_iterator<_Iterator>& __x,\n",
      "\u001b[0;1;32m    ^\n",
      "\u001b[0m\u001b[1m/home/art/Applications/miniconda3/envs/cling/bin/../lib/gcc/x86_64-conda_cos6-linux-gnu/7.3.0/../../../../x86_64-conda_cos6-linux-gnu/include/c++/7.3.0/bits/postypes.h:216:5: \u001b[0m\u001b[0;1;30mnote: \u001b[0mcandidate template ignored: could not match 'fpos<type-parameter-0-0>' against\n",
      "      'Color'\u001b[0m\n",
      "    operator==(const fpos<_StateT>& __lhs, const fpos<_StateT>& __rhs)\n",
      "\u001b[0;1;32m    ^\n",
      "\u001b[0m\u001b[1m/home/art/Applications/miniconda3/envs/cling/bin/../lib/gcc/x86_64-conda_cos6-linux-gnu/7.3.0/../../../../x86_64-conda_cos6-linux-gnu/include/c++/7.3.0/bits/allocator.h:146:5: \u001b[0m\u001b[0;1;30mnote: \u001b[0mcandidate template ignored: could not match 'allocator<type-parameter-0-0>'\n",
      "      against 'Color'\u001b[0m\n",
      "    operator==(const allocator<_T1>&, const allocator<_T2>&)\n",
      "\u001b[0;1;32m    ^\n",
      "\u001b[0m\u001b[1m/home/art/Applications/miniconda3/envs/cling/bin/../lib/gcc/x86_64-conda_cos6-linux-gnu/7.3.0/../../../../x86_64-conda_cos6-linux-gnu/include/c++/7.3.0/bits/allocator.h:152:5: \u001b[0m\u001b[0;1;30mnote: \u001b[0mcandidate template ignored: could not match 'allocator<type-parameter-0-0>'\n",
      "      against 'Color'\u001b[0m\n",
      "    operator==(const allocator<_Tp>&, const allocator<_Tp>&)\n",
      "\u001b[0;1;32m    ^\n",
      "\u001b[0m\u001b[1m/home/art/Applications/miniconda3/envs/cling/bin/../lib/gcc/x86_64-conda_cos6-linux-gnu/7.3.0/../../../../x86_64-conda_cos6-linux-gnu/include/c++/7.3.0/bits/basic_string.h:5997:5: \u001b[0m\u001b[0;1;30mnote: \u001b[0mcandidate template ignored: could not match 'basic_string<type-parameter-0-0,\n",
      "      type-parameter-0-1, type-parameter-0-2>' against 'Color'\u001b[0m\n",
      "    operator==(const basic_string<_CharT, _Traits, _Alloc>& __lhs,\n",
      "\u001b[0;1;32m    ^\n",
      "\u001b[0m\u001b[1m/home/art/Applications/miniconda3/envs/cling/bin/../lib/gcc/x86_64-conda_cos6-linux-gnu/7.3.0/../../../../x86_64-conda_cos6-linux-gnu/include/c++/7.3.0/bits/basic_string.h:6005:5: \u001b[0m\u001b[0;1;30mnote: \u001b[0mcandidate template ignored: could not match 'basic_string<type-parameter-0-0,\n",
      "      char_traits<type-parameter-0-0>, allocator<type-parameter-0-0> >' against\n",
      "      'Color'\u001b[0m\n",
      "    operator==(const basic_string<_CharT>& __lhs,\n",
      "\u001b[0;1;32m    ^\n",
      "\u001b[0m\u001b[1m/home/art/Applications/miniconda3/envs/cling/bin/../lib/gcc/x86_64-conda_cos6-linux-gnu/7.3.0/../../../../x86_64-conda_cos6-linux-gnu/include/c++/7.3.0/bits/basic_string.h:6019:5: \u001b[0m\u001b[0;1;30mnote: \u001b[0mcandidate template ignored: could not match 'const _CharT *' against 'Color'\u001b[0m\n",
      "    operator==(const _CharT* __lhs,\n",
      "\u001b[0;1;32m    ^\n",
      "\u001b[0m\u001b[1m/home/art/Applications/miniconda3/envs/cling/bin/../lib/gcc/x86_64-conda_cos6-linux-gnu/7.3.0/../../../../x86_64-conda_cos6-linux-gnu/include/c++/7.3.0/bits/basic_string.h:6031:5: \u001b[0m\u001b[0;1;30mnote: \u001b[0mcandidate template ignored: could not match 'basic_string<type-parameter-0-0,\n",
      "      type-parameter-0-1, type-parameter-0-2>' against 'Color'\u001b[0m\n",
      "    operator==(const basic_string<_CharT, _Traits, _Alloc>& __lhs,\n",
      "\u001b[0;1;32m    ^\n",
      "\u001b[0m\u001b[1m/home/art/Applications/miniconda3/envs/cling/bin/../lib/gcc/x86_64-conda_cos6-linux-gnu/7.3.0/../../../../x86_64-conda_cos6-linux-gnu/include/c++/7.3.0/array:252:5: \u001b[0m\u001b[0;1;30mnote: \u001b[0mcandidate template ignored: could not match 'array<type-parameter-0-0, _Nm>'\n",
      "      against 'Color'\u001b[0m\n",
      "    operator==(const array<_Tp, _Nm>& __one, const array<_Tp, _Nm>& __two)\n",
      "\u001b[0;1;32m    ^\n",
      "\u001b[0m\u001b[1m/home/art/Applications/miniconda3/envs/cling/bin/../lib/gcc/x86_64-conda_cos6-linux-gnu/7.3.0/../../../../x86_64-conda_cos6-linux-gnu/include/c++/7.3.0/tuple:1397:5: \u001b[0m\u001b[0;1;30mnote: \u001b[0mcandidate template ignored: could not match 'tuple<type-parameter-0-0...>'\n",
      "      against 'Color'\u001b[0m\n",
      "    operator==(const tuple<_TElements...>& __t,\n",
      "\u001b[0;1;32m    ^\n",
      "\u001b[0m\u001b[1m/home/art/Applications/miniconda3/envs/cling/bin/../lib/gcc/x86_64-conda_cos6-linux-gnu/7.3.0/../../../../x86_64-conda_cos6-linux-gnu/include/c++/7.3.0/bits/std_function.h:764:5: \u001b[0m\u001b[0;1;30mnote: \u001b[0mcandidate template ignored: could not match 'function<type-parameter-0-0\n",
      "      (type-parameter-0-1...)>' against 'Color'\u001b[0m\n",
      "    operator==(const function<_Res(_Args...)>& __f, nullptr_t) noexcept\n",
      "\u001b[0;1;32m    ^\n",
      "\u001b[0m\u001b[1m/home/art/Applications/miniconda3/envs/cling/bin/../lib/gcc/x86_64-conda_cos6-linux-gnu/7.3.0/../../../../x86_64-conda_cos6-linux-gnu/include/c++/7.3.0/bits/std_function.h:770:5: \u001b[0m\u001b[0;1;30mnote: \u001b[0mcandidate template ignored: could not match 'function<type-parameter-0-0\n",
      "      (type-parameter-0-1...)>' against 'Fruit'\u001b[0m\n",
      "    operator==(nullptr_t, const function<_Res(_Args...)>& __f) noexcept\n",
      "\u001b[0;1;32m    ^\n",
      "\u001b[0m\u001b[1m/home/art/Applications/miniconda3/envs/cling/bin/../lib/gcc/x86_64-conda_cos6-linux-gnu/7.3.0/../../../../x86_64-conda_cos6-linux-gnu/include/c++/7.3.0/bits/stl_vector.h:1596:5: \u001b[0m\u001b[0;1;30mnote: \u001b[0mcandidate template ignored: could not match 'vector<type-parameter-0-0,\n",
      "      type-parameter-0-1>' against 'Color'\u001b[0m\n",
      "    operator==(const vector<_Tp, _Alloc>& __x, const vector<_Tp, _Alloc>& __y)\n",
      "\u001b[0;1;32m    ^\n",
      "\u001b[0m\u001b[1m/home/art/Applications/miniconda3/envs/cling/bin/../lib/gcc/x86_64-conda_cos6-linux-gnu/7.3.0/../../../../x86_64-conda_cos6-linux-gnu/include/c++/7.3.0/bits/stl_list.h:287:5: \u001b[0m\u001b[0;1;30mnote: \u001b[0mcandidate template ignored: could not match '_List_iterator<type-parameter-0-0>'\n",
      "      against 'Color'\u001b[0m\n",
      "    operator==(const _List_iterator<_Val>& __x,\n",
      "\u001b[0;1;32m    ^\n",
      "\u001b[0m\u001b[1m/home/art/Applications/miniconda3/envs/cling/bin/../lib/gcc/x86_64-conda_cos6-linux-gnu/7.3.0/../../../../x86_64-conda_cos6-linux-gnu/include/c++/7.3.0/bits/stl_list.h:1884:5: \u001b[0m\u001b[0;1;30mnote: \u001b[0mcandidate template ignored: could not match 'list<type-parameter-0-0,\n",
      "      type-parameter-0-1>' against 'Color'\u001b[0m\n",
      "    operator==(const list<_Tp, _Alloc>& __x, const list<_Tp, _Alloc>& __y)\n",
      "\u001b[0;1;32m    ^\n",
      "\u001b[0m\u001b[1m/home/art/Applications/miniconda3/envs/cling/bin/../lib/gcc/x86_64-conda_cos6-linux-gnu/7.3.0/../../../../x86_64-conda_cos6-linux-gnu/include/c++/7.3.0/bits/stl_tree.h:406:5: \u001b[0m\u001b[0;1;30mnote: \u001b[0mcandidate template ignored: could not match\n",
      "      '_Rb_tree_iterator<type-parameter-0-0>' against 'Color'\u001b[0m\n",
      "    operator==(const _Rb_tree_iterator<_Val>& __x,\n",
      "\u001b[0;1;32m    ^\n",
      "\u001b[0m\u001b[1m/home/art/Applications/miniconda3/envs/cling/bin/../lib/gcc/x86_64-conda_cos6-linux-gnu/7.3.0/../../../../x86_64-conda_cos6-linux-gnu/include/c++/7.3.0/bits/stl_tree.h:1533:5: \u001b[0m\u001b[0;1;30mnote: \u001b[0mcandidate template ignored: could not match '_Rb_tree<type-parameter-0-0,\n",
      "      type-parameter-0-1, type-parameter-0-2, type-parameter-0-3,\n",
      "      type-parameter-0-4>' against 'Color'\u001b[0m\n",
      "    operator==(const _Rb_tree<_Key, _Val, _KeyOfValue, _Compare, _Alloc>& __x,\n",
      "\u001b[0;1;32m    ^\n",
      "\u001b[0m\u001b[1m/home/art/Applications/miniconda3/envs/cling/bin/../lib/gcc/x86_64-conda_cos6-linux-gnu/7.3.0/../../../../x86_64-conda_cos6-linux-gnu/include/c++/7.3.0/bits/stl_map.h:1374:2: \u001b[0m\u001b[0;1;30mnote: \u001b[0mcandidate template ignored: could not match 'map<type-parameter-0-0,\n",
      "      type-parameter-0-1, type-parameter-0-2, type-parameter-0-3>' against\n",
      "      'Color'\u001b[0m\n",
      "        operator==(const map<_K1, _T1, _C1, _A1>&,\n",
      "\u001b[0;1;32m        ^\n",
      "\u001b[0m\u001b[1m/home/art/Applications/miniconda3/envs/cling/bin/../lib/gcc/x86_64-conda_cos6-linux-gnu/7.3.0/../../../../x86_64-conda_cos6-linux-gnu/include/c++/7.3.0/bits/stl_multimap.h:1061:5: \u001b[0m\u001b[0;1;30mnote: \u001b[0mcandidate template ignored: could not match 'multimap<type-parameter-0-0,\n",
      "      type-parameter-0-1, type-parameter-0-2, type-parameter-0-3>' against\n",
      "      'Color'\u001b[0m\n",
      "    operator==(const multimap<_Key, _Tp, _Compare, _Alloc>& __x,\n",
      "\u001b[0;1;32m    ^\n",
      "\u001b[0m\u001b[1m/home/art/Applications/miniconda3/envs/cling/bin/../lib/gcc/x86_64-conda_cos6-linux-gnu/7.3.0/../../../../x86_64-conda_cos6-linux-gnu/include/c++/7.3.0/bits/streambuf_iterator.h:204:5: \u001b[0m\u001b[0;1;30mnote: \u001b[0mcandidate template ignored: could not match\n",
      "      'istreambuf_iterator<type-parameter-0-0, type-parameter-0-1>' against\n",
      "      'Color'\u001b[0m\n",
      "    operator==(const istreambuf_iterator<_CharT, _Traits>& __a,\n",
      "\u001b[0;1;32m    ^\n",
      "\u001b[0m\u001b[1m/home/art/Applications/miniconda3/envs/cling/bin/../lib/gcc/x86_64-conda_cos6-linux-gnu/7.3.0/../../../../x86_64-conda_cos6-linux-gnu/include/c++/7.3.0/bits/stream_iterator.h:130:5: \u001b[0m\u001b[0;1;30mnote: \u001b[0mcandidate template ignored: could not match\n",
      "      'istream_iterator<type-parameter-0-0, type-parameter-0-1,\n",
      "      type-parameter-0-2, type-parameter-0-3>' against 'Color'\u001b[0m\n",
      "    operator==(const istream_iterator<_Tp, _CharT, _Traits, _Dist>& __x,\n",
      "\u001b[0;1;32m    ^\n",
      "\u001b[0m\u001b[1m/home/art/Applications/miniconda3/envs/cling/bin/../lib/gcc/x86_64-conda_cos6-linux-gnu/7.3.0/../../../../x86_64-conda_cos6-linux-gnu/include/c++/7.3.0/bits/unique_ptr.h:683:5: \u001b[0m\u001b[0;1;30mnote: \u001b[0mcandidate template ignored: could not match 'unique_ptr<type-parameter-0-0,\n",
      "      type-parameter-0-1>' against 'Color'\u001b[0m\n",
      "    operator==(const unique_ptr<_Tp, _Dp>& __x,\n",
      "\u001b[0;1;32m    ^\n",
      "\u001b[0m\u001b[1m/home/art/Applications/miniconda3/envs/cling/bin/../lib/gcc/x86_64-conda_cos6-linux-gnu/7.3.0/../../../../x86_64-conda_cos6-linux-gnu/include/c++/7.3.0/bits/unique_ptr.h:689:5: \u001b[0m\u001b[0;1;30mnote: \u001b[0mcandidate template ignored: could not match 'unique_ptr<type-parameter-0-0,\n",
      "      type-parameter-0-1>' against 'Color'\u001b[0m\n",
      "    operator==(const unique_ptr<_Tp, _Dp>& __x, nullptr_t) noexcept\n",
      "\u001b[0;1;32m    ^\n",
      "\u001b[0m\u001b[1m/home/art/Applications/miniconda3/envs/cling/bin/../lib/gcc/x86_64-conda_cos6-linux-gnu/7.3.0/../../../../x86_64-conda_cos6-linux-gnu/include/c++/7.3.0/bits/unique_ptr.h:694:5: \u001b[0m\u001b[0;1;30mnote: \u001b[0mcandidate template ignored: could not match 'unique_ptr<type-parameter-0-0,\n",
      "      type-parameter-0-1>' against 'Fruit'\u001b[0m\n",
      "    operator==(nullptr_t, const unique_ptr<_Tp, _Dp>& __x) noexcept\n",
      "\u001b[0;1;32m    ^\n",
      "\u001b[0m\u001b[1m/home/art/Applications/miniconda3/envs/cling/bin/../lib/gcc/x86_64-conda_cos6-linux-gnu/7.3.0/../../../../x86_64-conda_cos6-linux-gnu/include/c++/7.3.0/bits/shared_ptr_base.h:1409:5: \u001b[0m\u001b[0;1;30mnote: \u001b[0mcandidate template ignored: could not match '__shared_ptr<type-parameter-0-0,\n",
      "      _Lp>' against 'Color'\u001b[0m\n",
      "    operator==(const __shared_ptr<_Tp1, _Lp>& __a,\n",
      "\u001b[0;1;32m    ^\n",
      "\u001b[0m\u001b[1m/home/art/Applications/miniconda3/envs/cling/bin/../lib/gcc/x86_64-conda_cos6-linux-gnu/7.3.0/../../../../x86_64-conda_cos6-linux-gnu/include/c++/7.3.0/bits/shared_ptr_base.h:1415:5: \u001b[0m\u001b[0;1;30mnote: \u001b[0mcandidate template ignored: could not match '__shared_ptr<type-parameter-0-0,\n",
      "      _Lp>' against 'Color'\u001b[0m\n",
      "    operator==(const __shared_ptr<_Tp, _Lp>& __a, nullptr_t) noexcept\n",
      "\u001b[0;1;32m    ^\n",
      "\u001b[0m\u001b[1m/home/art/Applications/miniconda3/envs/cling/bin/../lib/gcc/x86_64-conda_cos6-linux-gnu/7.3.0/../../../../x86_64-conda_cos6-linux-gnu/include/c++/7.3.0/bits/shared_ptr_base.h:1420:5: \u001b[0m\u001b[0;1;30mnote: \u001b[0mcandidate template ignored: could not match '__shared_ptr<type-parameter-0-0,\n",
      "      _Lp>' against 'Fruit'\u001b[0m\n",
      "    operator==(nullptr_t, const __shared_ptr<_Tp, _Lp>& __a) noexcept\n",
      "\u001b[0;1;32m    ^\n",
      "\u001b[0m\u001b[1m/home/art/Applications/miniconda3/envs/cling/bin/../lib/gcc/x86_64-conda_cos6-linux-gnu/7.3.0/../../../../x86_64-conda_cos6-linux-gnu/include/c++/7.3.0/bits/shared_ptr.h:368:5: \u001b[0m\u001b[0;1;30mnote: \u001b[0mcandidate template ignored: could not match 'shared_ptr<type-parameter-0-0>'\n",
      "      against 'Color'\u001b[0m\n",
      "    operator==(const shared_ptr<_Tp>& __a, const shared_ptr<_Up>& __b) noexcept\n",
      "\u001b[0;1;32m    ^\n",
      "\u001b[0m\u001b[1m/home/art/Applications/miniconda3/envs/cling/bin/../lib/gcc/x86_64-conda_cos6-linux-gnu/7.3.0/../../../../x86_64-conda_cos6-linux-gnu/include/c++/7.3.0/bits/shared_ptr.h:373:5: \u001b[0m\u001b[0;1;30mnote: \u001b[0mcandidate template ignored: could not match 'shared_ptr<type-parameter-0-0>'\n",
      "      against 'Color'\u001b[0m\n",
      "    operator==(const shared_ptr<_Tp>& __a, nullptr_t) noexcept\n",
      "\u001b[0;1;32m    ^\n",
      "\u001b[0m\u001b[1m/home/art/Applications/miniconda3/envs/cling/bin/../lib/gcc/x86_64-conda_cos6-linux-gnu/7.3.0/../../../../x86_64-conda_cos6-linux-gnu/include/c++/7.3.0/bits/shared_ptr.h:378:5: \u001b[0m\u001b[0;1;30mnote: \u001b[0mcandidate template ignored: could not match 'shared_ptr<type-parameter-0-0>'\n",
      "      against 'Fruit'\u001b[0m\n",
      "    operator==(nullptr_t, const shared_ptr<_Tp>& __a) noexcept\n",
      "\u001b[0;1;32m    ^\n",
      "\u001b[0m\u001b[1m/home/art/Applications/miniconda3/envs/cling/bin/../lib/gcc/x86_64-conda_cos6-linux-gnu/7.3.0/../../../../x86_64-conda_cos6-linux-gnu/include/c++/7.3.0/bits/forward_list.h:257:5: \u001b[0m\u001b[0;1;30mnote: \u001b[0mcandidate template ignored: could not match\n",
      "      '_Fwd_list_iterator<type-parameter-0-0>' against 'Color'\u001b[0m\n",
      "    operator==(const _Fwd_list_iterator<_Tp>& __x,\n",
      "\u001b[0;1;32m    ^\n",
      "\u001b[0m\u001b[1m/home/art/Applications/miniconda3/envs/cling/bin/../lib/gcc/x86_64-conda_cos6-linux-gnu/7.3.0/../../../../x86_64-conda_cos6-linux-gnu/include/c++/7.3.0/bits/forward_list.tcc:375:5: \u001b[0m\u001b[0;1;30mnote: \u001b[0mcandidate template ignored: could not match 'forward_list<type-parameter-0-0,\n",
      "      type-parameter-0-1>' against 'Color'\u001b[0m\n",
      "    operator==(const forward_list<_Tp, _Alloc>& __lx,\n",
      "\u001b[0;1;32m    ^\n",
      "\u001b[0m\u001b[1m/home/art/Applications/miniconda3/envs/cling/bin/../lib/gcc/x86_64-conda_cos6-linux-gnu/7.3.0/../../../../x86_64-conda_cos6-linux-gnu/include/c++/7.3.0/bits/unordered_map.h:1911:5: \u001b[0m\u001b[0;1;30mnote: \u001b[0mcandidate template ignored: could not match 'unordered_map<type-parameter-0-0,\n",
      "      type-parameter-0-1, type-parameter-0-2, type-parameter-0-3,\n",
      "      type-parameter-0-4>' against 'Color'\u001b[0m\n",
      "    operator==(const unordered_map<_Key, _Tp, _Hash, _Pred, _Alloc>& __x,\n",
      "\u001b[0;1;32m    ^\n",
      "\u001b[0m\u001b[1m/home/art/Applications/miniconda3/envs/cling/bin/../lib/gcc/x86_64-conda_cos6-linux-gnu/7.3.0/../../../../x86_64-conda_cos6-linux-gnu/include/c++/7.3.0/bits/unordered_map.h:1923:5: \u001b[0m\u001b[0;1;30mnote: \u001b[0mcandidate template ignored: could not match\n",
      "      'unordered_multimap<type-parameter-0-0, type-parameter-0-1,\n",
      "      type-parameter-0-2, type-parameter-0-3, type-parameter-0-4>' against\n",
      "      'Color'\u001b[0m\n",
      "    operator==(const unordered_multimap<_Key, _Tp, _Hash, _Pred, _Alloc>& __x,\n",
      "\u001b[0;1;32m    ^\n"
     ]
    },
    {
     "name": "stderr",
     "output_type": "stream",
     "text": [
      "\u001b[0m\u001b[1m/home/art/Applications/miniconda3/envs/cling/bin/../lib/gcc/x86_64-conda_cos6-linux-gnu/7.3.0/../../../../x86_64-conda_cos6-linux-gnu/include/c++/7.3.0/bits/valarray_after.h:414:5: \u001b[0m\u001b[0;1;30mnote: \u001b[0mcandidate template ignored: could not match '_Expr<type-parameter-0-0, typename\n",
      "      type-parameter-0-0::value_type>' against 'Color'\u001b[0m\n",
      "    _DEFINE_EXPR_BINARY_OPERATOR(==, __equal_to)\n",
      "\u001b[0;1;32m    ^\n",
      "\u001b[0m\u001b[1m/home/art/Applications/miniconda3/envs/cling/bin/../lib/gcc/x86_64-conda_cos6-linux-gnu/7.3.0/../../../../x86_64-conda_cos6-linux-gnu/include/c++/7.3.0/bits/valarray_after.h:341:5: \u001b[0m\u001b[0;1;30mnote: \u001b[0mexpanded from macro '_DEFINE_EXPR_BINARY_OPERATOR'\u001b[0m\n",
      "    operator _Op(const _Expr<_Dom1, typename _Dom1::value_type>& __v,   \\\n",
      "\u001b[0;1;32m    ^\n",
      "\u001b[0m\u001b[1m/home/art/Applications/miniconda3/envs/cling/bin/../lib/gcc/x86_64-conda_cos6-linux-gnu/7.3.0/../../../../x86_64-conda_cos6-linux-gnu/include/c++/7.3.0/bits/valarray_after.h:414:5: \u001b[0m\u001b[0;1;30mnote: \u001b[0mcandidate template ignored: could not match '_Expr<type-parameter-0-0, typename\n",
      "      type-parameter-0-0::value_type>' against 'Color'\u001b[0m\n",
      "\u001b[1m/home/art/Applications/miniconda3/envs/cling/bin/../lib/gcc/x86_64-conda_cos6-linux-gnu/7.3.0/../../../../x86_64-conda_cos6-linux-gnu/include/c++/7.3.0/bits/valarray_after.h:354:5: \u001b[0m\u001b[0;1;30mnote: \u001b[0mexpanded from macro '_DEFINE_EXPR_BINARY_OPERATOR'\u001b[0m\n",
      "    operator _Op(const _Expr<_Dom, typename _Dom::value_type>& __v,     \\\n",
      "\u001b[0;1;32m    ^\n",
      "\u001b[0m\u001b[1m/home/art/Applications/miniconda3/envs/cling/bin/../lib/gcc/x86_64-conda_cos6-linux-gnu/7.3.0/../../../../x86_64-conda_cos6-linux-gnu/include/c++/7.3.0/bits/valarray_after.h:414:5: \u001b[0m\u001b[0;1;30mnote: \u001b[0mcandidate template ignored: could not match '_Expr<type-parameter-0-0, typename\n",
      "      type-parameter-0-0::value_type>' against 'Fruit'\u001b[0m\n",
      "\u001b[1m/home/art/Applications/miniconda3/envs/cling/bin/../lib/gcc/x86_64-conda_cos6-linux-gnu/7.3.0/../../../../x86_64-conda_cos6-linux-gnu/include/c++/7.3.0/bits/valarray_after.h:367:5: \u001b[0m\u001b[0;1;30mnote: \u001b[0mexpanded from macro '_DEFINE_EXPR_BINARY_OPERATOR'\u001b[0m\n",
      "    operator _Op(const typename _Dom::value_type& __t,                  \\\n",
      "\u001b[0;1;32m    ^\n",
      "\u001b[0m\u001b[1m/home/art/Applications/miniconda3/envs/cling/bin/../lib/gcc/x86_64-conda_cos6-linux-gnu/7.3.0/../../../../x86_64-conda_cos6-linux-gnu/include/c++/7.3.0/bits/valarray_after.h:414:5: \u001b[0m\u001b[0;1;30mnote: \u001b[0mcandidate template ignored: could not match '_Expr<type-parameter-0-0, typename\n",
      "      type-parameter-0-0::value_type>' against 'Color'\u001b[0m\n",
      "\u001b[1m/home/art/Applications/miniconda3/envs/cling/bin/../lib/gcc/x86_64-conda_cos6-linux-gnu/7.3.0/../../../../x86_64-conda_cos6-linux-gnu/include/c++/7.3.0/bits/valarray_after.h:380:5: \u001b[0m\u001b[0;1;30mnote: \u001b[0mexpanded from macro '_DEFINE_EXPR_BINARY_OPERATOR'\u001b[0m\n",
      "    operator _Op(const _Expr<_Dom,typename _Dom::value_type>& __e,      \\\n",
      "\u001b[0;1;32m    ^\n",
      "\u001b[0m\u001b[1m/home/art/Applications/miniconda3/envs/cling/bin/../lib/gcc/x86_64-conda_cos6-linux-gnu/7.3.0/../../../../x86_64-conda_cos6-linux-gnu/include/c++/7.3.0/bits/valarray_after.h:414:5: \u001b[0m\u001b[0;1;30mnote: \u001b[0mcandidate template ignored: could not match '_Expr<type-parameter-0-0, typename\n",
      "      type-parameter-0-0::value_type>' against 'Fruit'\u001b[0m\n",
      "\u001b[1m/home/art/Applications/miniconda3/envs/cling/bin/../lib/gcc/x86_64-conda_cos6-linux-gnu/7.3.0/../../../../x86_64-conda_cos6-linux-gnu/include/c++/7.3.0/bits/valarray_after.h:393:5: \u001b[0m\u001b[0;1;30mnote: \u001b[0mexpanded from macro '_DEFINE_EXPR_BINARY_OPERATOR'\u001b[0m\n",
      "    operator _Op(const valarray<typename _Dom::value_type>& __v,        \\\n",
      "\u001b[0;1;32m    ^\n",
      "\u001b[0m\u001b[1m/home/art/Applications/miniconda3/envs/cling/bin/../lib/gcc/x86_64-conda_cos6-linux-gnu/7.3.0/../../../../x86_64-conda_cos6-linux-gnu/include/c++/7.3.0/valarray:1184:1: \u001b[0m\u001b[0;1;30mnote: \u001b[0mcandidate template ignored: could not match 'valarray<type-parameter-0-0>'\n",
      "      against 'Color'\u001b[0m\n",
      "_DEFINE_BINARY_OPERATOR(==, __equal_to)\n",
      "\u001b[0;1;32m^\n",
      "\u001b[0m\u001b[1m/home/art/Applications/miniconda3/envs/cling/bin/../lib/gcc/x86_64-conda_cos6-linux-gnu/7.3.0/../../../../x86_64-conda_cos6-linux-gnu/include/c++/7.3.0/valarray:1144:5: \u001b[0m\u001b[0;1;30mnote: \u001b[0mexpanded from macro '_DEFINE_BINARY_OPERATOR'\u001b[0m\n",
      "    operator _Op(const valarray<_Tp>& __v, const valarray<_Tp>& __w)    \\\n",
      "\u001b[0;1;32m    ^\n",
      "\u001b[0m\u001b[1m/home/art/Applications/miniconda3/envs/cling/bin/../lib/gcc/x86_64-conda_cos6-linux-gnu/7.3.0/../../../../x86_64-conda_cos6-linux-gnu/include/c++/7.3.0/valarray:1184:1: \u001b[0m\u001b[0;1;30mnote: \u001b[0mcandidate template ignored: could not match 'valarray<type-parameter-0-0>'\n",
      "      against 'Color'\u001b[0m\n",
      "\u001b[1m/home/art/Applications/miniconda3/envs/cling/bin/../lib/gcc/x86_64-conda_cos6-linux-gnu/7.3.0/../../../../x86_64-conda_cos6-linux-gnu/include/c++/7.3.0/valarray:1155:5: \u001b[0m\u001b[0;1;30mnote: \u001b[0mexpanded from macro '_DEFINE_BINARY_OPERATOR'\u001b[0m\n",
      "    operator _Op(const valarray<_Tp>& __v, const _Tp& __t)              \\\n",
      "\u001b[0;1;32m    ^\n",
      "\u001b[0m\u001b[1m/home/art/Applications/miniconda3/envs/cling/bin/../lib/gcc/x86_64-conda_cos6-linux-gnu/7.3.0/../../../../x86_64-conda_cos6-linux-gnu/include/c++/7.3.0/valarray:1184:1: \u001b[0m\u001b[0;1;30mnote: \u001b[0mcandidate template ignored: could not match 'valarray<type-parameter-0-0>'\n",
      "      against 'Fruit'\u001b[0m\n",
      "\u001b[1m/home/art/Applications/miniconda3/envs/cling/bin/../lib/gcc/x86_64-conda_cos6-linux-gnu/7.3.0/../../../../x86_64-conda_cos6-linux-gnu/include/c++/7.3.0/valarray:1165:5: \u001b[0m\u001b[0;1;30mnote: \u001b[0mexpanded from macro '_DEFINE_BINARY_OPERATOR'\u001b[0m\n",
      "    operator _Op(const _Tp& __t, const valarray<_Tp>& __v)              \\\n",
      "\u001b[0;1;32m    ^\n",
      "\u001b[0m\u001b[1m/home/art/Applications/miniconda3/envs/cling/bin/../lib/gcc/x86_64-conda_cos6-linux-gnu/7.3.0/../../../../x86_64-conda_cos6-linux-gnu/include/c++/7.3.0/bits/stl_deque.h:267:5: \u001b[0m\u001b[0;1;30mnote: \u001b[0mcandidate template ignored: could not match '_Deque_iterator<type-parameter-0-0,\n",
      "      type-parameter-0-1, type-parameter-0-2>' against 'Color'\u001b[0m\n",
      "    operator==(const _Deque_iterator<_Tp, _Ref, _Ptr>& __x,\n",
      "\u001b[0;1;32m    ^\n",
      "\u001b[0m\u001b[1m/home/art/Applications/miniconda3/envs/cling/bin/../lib/gcc/x86_64-conda_cos6-linux-gnu/7.3.0/../../../../x86_64-conda_cos6-linux-gnu/include/c++/7.3.0/bits/stl_deque.h:274:5: \u001b[0m\u001b[0;1;30mnote: \u001b[0mcandidate template ignored: could not match '_Deque_iterator<type-parameter-0-0,\n",
      "      type-parameter-0-1, type-parameter-0-2>' against 'Color'\u001b[0m\n",
      "    operator==(const _Deque_iterator<_Tp, _RefL, _PtrL>& __x,\n",
      "\u001b[0;1;32m    ^\n",
      "\u001b[0m\u001b[1m/home/art/Applications/miniconda3/envs/cling/bin/../lib/gcc/x86_64-conda_cos6-linux-gnu/7.3.0/../../../../x86_64-conda_cos6-linux-gnu/include/c++/7.3.0/bits/stl_deque.h:2258:5: \u001b[0m\u001b[0;1;30mnote: \u001b[0mcandidate template ignored: could not match 'deque<type-parameter-0-0,\n",
      "      type-parameter-0-1>' against 'Color'\u001b[0m\n",
      "    operator==(const deque<_Tp, _Alloc>& __x,\n",
      "\u001b[0;1;32m    ^\n",
      "\u001b[0m"
     ]
    },
    {
     "ename": "Interpreter Error",
     "evalue": "",
     "output_type": "error",
     "traceback": [
      "Interpreter Error: "
     ]
    }
   ],
   "source": [
    "{\n",
    "    enum class Color // \"enum class\" defines this as a scoped enumeration instead of a standard enumeration\n",
    "    {\n",
    "        red, // red is inside the scope of Color\n",
    "        blue\n",
    "    };\n",
    " \n",
    "    enum class Fruit\n",
    "    {\n",
    "        banana, // banana is inside the scope of Fruit\n",
    "        apple,\n",
    "        red\n",
    "    };\n",
    "    \n",
    "    //Color color{ red }; //error: Color and red are not in the same scope\n",
    "    Color color{ Color::red }; // `red` is not directly accessible any more, we have to use Color::red\n",
    "    Fruit fruit{ Fruit::red }; // Fruit and banana are not in the same scope, use prefix\n",
    "    \n",
    "    // compile error here, as the compiler doesn't know how to compare different types Color and Fruit\n",
    "    color == fruit;\n",
    "}"
   ]
  },
  {
   "cell_type": "markdown",
   "metadata": {
    "slideshow": {
     "slide_type": "slide"
    }
   },
   "source": [
    "## Enum class (cont.)\n",
    "\n",
    "- To reference a scoped enum constant, qualify it with the type name and the scope-resolution operator (`::`), as in `Color::red`.\n",
    "\n",
    "- Qualifying an `enum class` constant with its `typename` and `::` explicitly identifies the constant as being in the scope of the specified enum class.\n",
    "- If another `enum class` contains the same identifier for one of its constants, it's always clear which version of the constant is being used, because the `typename` and `::` are required."
   ]
  },
  {
   "cell_type": "markdown",
   "metadata": {
    "slideshow": {
     "slide_type": "slide"
    }
   },
   "source": [
    "## Tips\n",
    "\n",
    "- Use unique values for an enum’s constants to help prevent hard-to-find logic errors.\n",
    "- Use scoped enums to avoid the potential naming conflicts that can occur with unscoped enum constants."
   ]
  },
  {
   "cell_type": "markdown",
   "metadata": {
    "slideshow": {
     "slide_type": "slide"
    }
   },
   "source": [
    "## Enum class (cont.)\n",
    "\n",
    "A *scoped enum* underlying integral type is `int`.\n",
    "- You to specify a *scoped enum* underlying integral type by following the enum type name with a colon (:) and the integral type.\n",
    "\n",
    "We can specify that the constants in the enum class `Status` should have type `unsigned char`, as in "
   ]
  },
  {
   "cell_type": "code",
   "execution_count": 22,
   "metadata": {
    "scrolled": true,
    "slideshow": {
     "slide_type": "fragment"
    }
   },
   "outputs": [],
   "source": [
    "enum class Status : unsigned char {CONTINUE, WON, LOST}"
   ]
  },
  {
   "cell_type": "markdown",
   "metadata": {
    "slideshow": {
     "slide_type": "fragment"
    }
   },
   "source": [
    "A compilation error occurs if an enum constant's value is outside the range that can be represented by the enum's underlying type."
   ]
  },
  {
   "cell_type": "code",
   "execution_count": 24,
   "metadata": {
    "slideshow": {
     "slide_type": "fragment"
    }
   },
   "outputs": [],
   "source": [
    "{    \n",
    "    Status status = -2; // error\n",
    "    Status status = static_cast<Status>(-2); // logical error\n",
    "}"
   ]
  },
  {
   "cell_type": "markdown",
   "metadata": {
    "slideshow": {
     "slide_type": "slide"
    }
   },
   "source": [
    "## Enum class (cont.)\n",
    "\n",
    "- With `enum class`es, the compiler will no longer implicitly convert enumerator values to integers."
   ]
  },
  {
   "cell_type": "code",
   "execution_count": 28,
   "metadata": {
    "scrolled": true,
    "slideshow": {
     "slide_type": "fragment"
    }
   },
   "outputs": [
    {
     "name": "stderr",
     "output_type": "stream",
     "text": [
      "\u001b[1minput_line_35:4:15: \u001b[0m\u001b[0;1;31merror: \u001b[0m\u001b[1minvalid operands to binary expression ('std::ostream'\n",
      "      (aka 'basic_ostream<char>') and 'Status')\u001b[0m\n",
      "    std::cout << status; // won't work, because there's no implicit conv...\n",
      "\u001b[0;1;32m    ~~~~~~~~~ ^  ~~~~~~\n",
      "\u001b[0m\u001b[1m/home/art/Applications/miniconda3/envs/cling/bin/../lib/gcc/x86_64-conda_cos6-linux-gnu/7.3.0/../../../../x86_64-conda_cos6-linux-gnu/include/c++/7.3.0/ostream:245:7: \u001b[0m\u001b[0;1;30mnote: \u001b[0mcandidate function not viable: no known conversion from 'Status' to\n",
      "      'const void *' for 1st argument; take the address of the argument with &\u001b[0m\n",
      "      operator<<(const void* __p)\n",
      "\u001b[0;1;32m      ^\n",
      "\u001b[0m\u001b[1m/home/art/Applications/miniconda3/envs/cling/bin/../lib/gcc/x86_64-conda_cos6-linux-gnu/7.3.0/../../../../x86_64-conda_cos6-linux-gnu/include/c++/7.3.0/system_error:217:5: \u001b[0m\u001b[0;1;30mnote: \u001b[0mcandidate function not viable: no known conversion from 'Status' to\n",
      "      'const std::error_code' for 2nd argument\u001b[0m\n",
      "    operator<<(basic_ostream<_CharT, _Traits>& __os, const error_code& __e)\n",
      "\u001b[0;1;32m    ^\n",
      "\u001b[0m\u001b[1m/home/art/Applications/miniconda3/envs/cling/bin/../lib/gcc/x86_64-conda_cos6-linux-gnu/7.3.0/../../../../x86_64-conda_cos6-linux-gnu/include/c++/7.3.0/ostream:108:7: \u001b[0m\u001b[0;1;30mnote: \u001b[0mcandidate function not viable: no known conversion from 'Status' to\n",
      "      'std::basic_ostream<char, std::char_traits<char> >::__ostream_type\n",
      "      &(*)(std::basic_ostream<char, std::char_traits<char> >::__ostream_type &)'\n",
      "      (aka 'basic_ostream<char, std::char_traits<char> >\n",
      "      &(*)(basic_ostream<char, std::char_traits<char> > &)') for 1st argument\u001b[0m\n",
      "      operator<<(__ostream_type& (*__pf)(__ostream_type&))\n",
      "\u001b[0;1;32m      ^\n",
      "\u001b[0m\u001b[1m/home/art/Applications/miniconda3/envs/cling/bin/../lib/gcc/x86_64-conda_cos6-linux-gnu/7.3.0/../../../../x86_64-conda_cos6-linux-gnu/include/c++/7.3.0/ostream:117:7: \u001b[0m\u001b[0;1;30mnote: \u001b[0mcandidate function not viable: no known conversion from 'Status' to\n",
      "      'std::basic_ostream<char, std::char_traits<char> >::__ios_type\n",
      "      &(*)(std::basic_ostream<char, std::char_traits<char> >::__ios_type &)'\n",
      "      (aka 'basic_ios<char, std::char_traits<char> > &(*)(basic_ios<char,\n",
      "      std::char_traits<char> > &)') for 1st argument\u001b[0m\n",
      "      operator<<(__ios_type& (*__pf)(__ios_type&))\n",
      "\u001b[0;1;32m      ^\n",
      "\u001b[0m\u001b[1m/home/art/Applications/miniconda3/envs/cling/bin/../lib/gcc/x86_64-conda_cos6-linux-gnu/7.3.0/../../../../x86_64-conda_cos6-linux-gnu/include/c++/7.3.0/ostream:127:7: \u001b[0m\u001b[0;1;30mnote: \u001b[0mcandidate function not viable: no known conversion from 'Status' to\n",
      "      'std::ios_base &(*)(std::ios_base &)' for 1st argument\u001b[0m\n",
      "      operator<<(ios_base& (*__pf) (ios_base&))\n",
      "\u001b[0;1;32m      ^\n",
      "\u001b[0m\u001b[1m/home/art/Applications/miniconda3/envs/cling/bin/../lib/gcc/x86_64-conda_cos6-linux-gnu/7.3.0/../../../../x86_64-conda_cos6-linux-gnu/include/c++/7.3.0/ostream:166:7: \u001b[0m\u001b[0;1;30mnote: \u001b[0mcandidate function not viable: no known conversion from 'Status' to 'long' for\n",
      "      1st argument\u001b[0m\n",
      "      operator<<(long __n)\n",
      "\u001b[0;1;32m      ^\n",
      "\u001b[0m\u001b[1m/home/art/Applications/miniconda3/envs/cling/bin/../lib/gcc/x86_64-conda_cos6-linux-gnu/7.3.0/../../../../x86_64-conda_cos6-linux-gnu/include/c++/7.3.0/ostream:170:7: \u001b[0m\u001b[0;1;30mnote: \u001b[0mcandidate function not viable: no known conversion from 'Status' to\n",
      "      'unsigned long' for 1st argument\u001b[0m\n",
      "      operator<<(unsigned long __n)\n",
      "\u001b[0;1;32m      ^\n",
      "\u001b[0m\u001b[1m/home/art/Applications/miniconda3/envs/cling/bin/../lib/gcc/x86_64-conda_cos6-linux-gnu/7.3.0/../../../../x86_64-conda_cos6-linux-gnu/include/c++/7.3.0/ostream:174:7: \u001b[0m\u001b[0;1;30mnote: \u001b[0mcandidate function not viable: no known conversion from 'Status' to 'bool' for\n",
      "      1st argument\u001b[0m\n",
      "      operator<<(bool __n)\n",
      "\u001b[0;1;32m      ^\n",
      "\u001b[0m\u001b[1m/home/art/Applications/miniconda3/envs/cling/bin/../lib/gcc/x86_64-conda_cos6-linux-gnu/7.3.0/../../../../x86_64-conda_cos6-linux-gnu/include/c++/7.3.0/ostream:178:7: \u001b[0m\u001b[0;1;30mnote: \u001b[0mcandidate function not viable: no known conversion from 'Status' to 'short' for\n",
      "      1st argument\u001b[0m\n",
      "      operator<<(short __n);\n",
      "\u001b[0;1;32m      ^\n",
      "\u001b[0m\u001b[1m/home/art/Applications/miniconda3/envs/cling/bin/../lib/gcc/x86_64-conda_cos6-linux-gnu/7.3.0/../../../../x86_64-conda_cos6-linux-gnu/include/c++/7.3.0/ostream:181:7: \u001b[0m\u001b[0;1;30mnote: \u001b[0mcandidate function not viable: no known conversion from 'Status' to\n",
      "      'unsigned short' for 1st argument\u001b[0m\n",
      "      operator<<(unsigned short __n)\n",
      "\u001b[0;1;32m      ^\n",
      "\u001b[0m\u001b[1m/home/art/Applications/miniconda3/envs/cling/bin/../lib/gcc/x86_64-conda_cos6-linux-gnu/7.3.0/../../../../x86_64-conda_cos6-linux-gnu/include/c++/7.3.0/ostream:189:7: \u001b[0m\u001b[0;1;30mnote: \u001b[0mcandidate function not viable: no known conversion from 'Status' to 'int' for\n",
      "      1st argument\u001b[0m\n",
      "      operator<<(int __n);\n",
      "\u001b[0;1;32m      ^\n",
      "\u001b[0m\u001b[1m/home/art/Applications/miniconda3/envs/cling/bin/../lib/gcc/x86_64-conda_cos6-linux-gnu/7.3.0/../../../../x86_64-conda_cos6-linux-gnu/include/c++/7.3.0/ostream:192:7: \u001b[0m\u001b[0;1;30mnote: \u001b[0mcandidate function not viable: no known conversion from 'Status' to\n",
      "      'unsigned int' for 1st argument\u001b[0m\n",
      "      operator<<(unsigned int __n)\n",
      "\u001b[0;1;32m      ^\n",
      "\u001b[0m\u001b[1m/home/art/Applications/miniconda3/envs/cling/bin/../lib/gcc/x86_64-conda_cos6-linux-gnu/7.3.0/../../../../x86_64-conda_cos6-linux-gnu/include/c++/7.3.0/ostream:201:7: \u001b[0m\u001b[0;1;30mnote: \u001b[0mcandidate function not viable: no known conversion from 'Status' to 'long long'\n",
      "      for 1st argument\u001b[0m\n",
      "      operator<<(long long __n)\n",
      "\u001b[0;1;32m      ^\n",
      "\u001b[0m\u001b[1m/home/art/Applications/miniconda3/envs/cling/bin/../lib/gcc/x86_64-conda_cos6-linux-gnu/7.3.0/../../../../x86_64-conda_cos6-linux-gnu/include/c++/7.3.0/ostream:205:7: \u001b[0m\u001b[0;1;30mnote: \u001b[0mcandidate function not viable: no known conversion from 'Status' to\n",
      "      'unsigned long long' for 1st argument\u001b[0m\n",
      "      operator<<(unsigned long long __n)\n",
      "\u001b[0;1;32m      ^\n",
      "\u001b[0m\u001b[1m/home/art/Applications/miniconda3/envs/cling/bin/../lib/gcc/x86_64-conda_cos6-linux-gnu/7.3.0/../../../../x86_64-conda_cos6-linux-gnu/include/c++/7.3.0/ostream:220:7: \u001b[0m\u001b[0;1;30mnote: \u001b[0mcandidate function not viable: no known conversion from 'Status' to 'double' for\n",
      "      1st argument\u001b[0m\n",
      "      operator<<(double __f)\n",
      "\u001b[0;1;32m      ^\n",
      "\u001b[0m\u001b[1m/home/art/Applications/miniconda3/envs/cling/bin/../lib/gcc/x86_64-conda_cos6-linux-gnu/7.3.0/../../../../x86_64-conda_cos6-linux-gnu/include/c++/7.3.0/ostream:224:7: \u001b[0m\u001b[0;1;30mnote: \u001b[0mcandidate function not viable: no known conversion from 'Status' to 'float' for\n",
      "      1st argument\u001b[0m\n",
      "      operator<<(float __f)\n",
      "\u001b[0;1;32m      ^\n",
      "\u001b[0m\u001b[1m/home/art/Applications/miniconda3/envs/cling/bin/../lib/gcc/x86_64-conda_cos6-linux-gnu/7.3.0/../../../../x86_64-conda_cos6-linux-gnu/include/c++/7.3.0/ostream:232:7: \u001b[0m\u001b[0;1;30mnote: \u001b[0mcandidate function not viable: no known conversion from 'Status' to\n",
      "      'long double' for 1st argument\u001b[0m\n",
      "      operator<<(long double __f)\n",
      "\u001b[0;1;32m      ^\n",
      "\u001b[0m\u001b[1m/home/art/Applications/miniconda3/envs/cling/bin/../lib/gcc/x86_64-conda_cos6-linux-gnu/7.3.0/../../../../x86_64-conda_cos6-linux-gnu/include/c++/7.3.0/ostream:270:7: \u001b[0m\u001b[0;1;30mnote: \u001b[0mcandidate function not viable: no known conversion from 'Status' to\n",
      "      'std::basic_ostream<char, std::char_traits<char> >::__streambuf_type *'\n",
      "      (aka 'basic_streambuf<char, std::char_traits<char> > *') for 1st argument\u001b[0m\n",
      "      operator<<(__streambuf_type* __sb);\n",
      "\u001b[0;1;32m      ^\n",
      "\u001b[0m\u001b[1m/home/art/Applications/miniconda3/envs/cling/bin/../lib/gcc/x86_64-conda_cos6-linux-gnu/7.3.0/../../../../x86_64-conda_cos6-linux-gnu/include/c++/7.3.0/ostream:502:5: \u001b[0m\u001b[0;1;30mnote: \u001b[0mcandidate function not viable: no known conversion from 'Status' to 'char' for\n",
      "      2nd argument\u001b[0m\n",
      "    operator<<(basic_ostream<_CharT, _Traits>& __out, char __c)\n",
      "\u001b[0;1;32m    ^\n",
      "\u001b[0m\u001b[1m/home/art/Applications/miniconda3/envs/cling/bin/../lib/gcc/x86_64-conda_cos6-linux-gnu/7.3.0/../../../../x86_64-conda_cos6-linux-gnu/include/c++/7.3.0/ostream:508:5: \u001b[0m\u001b[0;1;30mnote: \u001b[0mcandidate function not viable: no known conversion from 'Status' to 'char' for\n",
      "      2nd argument\u001b[0m\n",
      "    operator<<(basic_ostream<char, _Traits>& __out, char __c)\n",
      "\u001b[0;1;32m    ^\n",
      "\u001b[0m\u001b[1m/home/art/Applications/miniconda3/envs/cling/bin/../lib/gcc/x86_64-conda_cos6-linux-gnu/7.3.0/../../../../x86_64-conda_cos6-linux-gnu/include/c++/7.3.0/ostream:514:5: \u001b[0m\u001b[0;1;30mnote: \u001b[0mcandidate function not viable: no known conversion from 'Status' to\n",
      "      'signed char' for 2nd argument\u001b[0m\n",
      "    operator<<(basic_ostream<char, _Traits>& __out, signed char __c)\n",
      "\u001b[0;1;32m    ^\n",
      "\u001b[0m\u001b[1m/home/art/Applications/miniconda3/envs/cling/bin/../lib/gcc/x86_64-conda_cos6-linux-gnu/7.3.0/../../../../x86_64-conda_cos6-linux-gnu/include/c++/7.3.0/ostream:519:5: \u001b[0m\u001b[0;1;30mnote: \u001b[0mcandidate function not viable: no known conversion from 'Status' to\n",
      "      'unsigned char' for 2nd argument\u001b[0m\n",
      "    operator<<(basic_ostream<char, _Traits>& __out, unsigned char __c)\n",
      "\u001b[0;1;32m    ^\n",
      "\u001b[0m\u001b[1m/home/art/Applications/miniconda3/envs/cling/bin/../lib/gcc/x86_64-conda_cos6-linux-gnu/7.3.0/../../../../x86_64-conda_cos6-linux-gnu/include/c++/7.3.0/ostream:556:5: \u001b[0m\u001b[0;1;30mnote: \u001b[0mcandidate function not viable: no known conversion from 'Status' to\n",
      "      'const char *' for 2nd argument\u001b[0m\n",
      "    operator<<(basic_ostream<char, _Traits>& __out, const char* __s)\n",
      "\u001b[0;1;32m    ^\n",
      "\u001b[0m\u001b[1m/home/art/Applications/miniconda3/envs/cling/bin/../lib/gcc/x86_64-conda_cos6-linux-gnu/7.3.0/../../../../x86_64-conda_cos6-linux-gnu/include/c++/7.3.0/ostream:569:5: \u001b[0m\u001b[0;1;30mnote: \u001b[0mcandidate function not viable: no known conversion from 'Status' to\n",
      "      'const signed char *' for 2nd argument\u001b[0m\n",
      "    operator<<(basic_ostream<char, _Traits>& __out, const signed char* __s)\n",
      "\u001b[0;1;32m    ^\n",
      "\u001b[0m\u001b[1m/home/art/Applications/miniconda3/envs/cling/bin/../lib/gcc/x86_64-conda_cos6-linux-gnu/7.3.0/../../../../x86_64-conda_cos6-linux-gnu/include/c++/7.3.0/ostream:574:5: \u001b[0m\u001b[0;1;30mnote: \u001b[0mcandidate function not viable: no known conversion from 'Status' to\n",
      "      'const unsigned char *' for 2nd argument\u001b[0m\n",
      "    operator<<(basic_ostream<char, _Traits>& __out, const unsigned char* __s)\n",
      "\u001b[0;1;32m    ^\n",
      "\u001b[0m\u001b[1m/home/art/Applications/miniconda3/envs/cling/bin/../lib/gcc/x86_64-conda_cos6-linux-gnu/7.3.0/../../../../x86_64-conda_cos6-linux-gnu/include/c++/7.3.0/bits/ostream.tcc:321:5: \u001b[0m\u001b[0;1;30mnote: \u001b[0mcandidate function not viable: no known conversion from 'Status' to\n",
      "      'const char *' for 2nd argument\u001b[0m\n",
      "    operator<<(basic_ostream<_CharT, _Traits>& __out, const char* __s)\n",
      "\u001b[0;1;32m    ^\n",
      "\u001b[0m\u001b[1m/home/art/Applications/miniconda3/envs/cling/bin/../lib/gcc/x86_64-conda_cos6-linux-gnu/7.3.0/../../../../x86_64-conda_cos6-linux-gnu/include/c++/7.3.0/iomanip:79:5: \u001b[0m\u001b[0;1;30mnote: \u001b[0mcandidate function not viable: no known conversion from 'Status' to\n",
      "      'std::_Resetiosflags' for 2nd argument\u001b[0m\n",
      "    operator<<(basic_ostream<_CharT, _Traits>& __os, _Resetiosflags __f)\n",
      "\u001b[0;1;32m    ^\n",
      "\u001b[0m\u001b[1m/home/art/Applications/miniconda3/envs/cling/bin/../lib/gcc/x86_64-conda_cos6-linux-gnu/7.3.0/../../../../x86_64-conda_cos6-linux-gnu/include/c++/7.3.0/iomanip:109:5: \u001b[0m\u001b[0;1;30mnote: \u001b[0mcandidate function not viable: no known conversion from 'Status' to\n",
      "      'std::_Setiosflags' for 2nd argument\u001b[0m\n",
      "    operator<<(basic_ostream<_CharT, _Traits>& __os, _Setiosflags __f)\n",
      "\u001b[0;1;32m    ^\n",
      "\u001b[0m\u001b[1m/home/art/Applications/miniconda3/envs/cling/bin/../lib/gcc/x86_64-conda_cos6-linux-gnu/7.3.0/../../../../x86_64-conda_cos6-linux-gnu/include/c++/7.3.0/iomanip:143:5: \u001b[0m\u001b[0;1;30mnote: \u001b[0mcandidate function not viable: no known conversion from 'Status' to\n",
      "      'std::_Setbase' for 2nd argument\u001b[0m\n",
      "    operator<<(basic_ostream<_CharT, _Traits>& __os, _Setbase __f)\n",
      "\u001b[0;1;32m    ^\n",
      "\u001b[0m\u001b[1m/home/art/Applications/miniconda3/envs/cling/bin/../lib/gcc/x86_64-conda_cos6-linux-gnu/7.3.0/../../../../x86_64-conda_cos6-linux-gnu/include/c++/7.3.0/iomanip:208:5: \u001b[0m\u001b[0;1;30mnote: \u001b[0mcandidate function not viable: no known conversion from 'Status' to\n",
      "      'std::_Setprecision' for 2nd argument\u001b[0m\n",
      "    operator<<(basic_ostream<_CharT, _Traits>& __os, _Setprecision __f)\n",
      "\u001b[0;1;32m    ^\n",
      "\u001b[0m\u001b[1m/home/art/Applications/miniconda3/envs/cling/bin/../lib/gcc/x86_64-conda_cos6-linux-gnu/7.3.0/../../../../x86_64-conda_cos6-linux-gnu/include/c++/7.3.0/iomanip:238:5: \u001b[0m\u001b[0;1;30mnote: \u001b[0mcandidate function not viable: no known conversion from 'Status' to 'std::_Setw'\n",
      "      for 2nd argument\u001b[0m\n",
      "    operator<<(basic_ostream<_CharT, _Traits>& __os, _Setw __f)\n",
      "\u001b[0;1;32m    ^\n",
      "\u001b[0m\u001b[1m/home/art/Applications/miniconda3/envs/cling/bin/../lib/gcc/x86_64-conda_cos6-linux-gnu/7.3.0/../../../../x86_64-conda_cos6-linux-gnu/include/c++/7.3.0/ostream:497:5: \u001b[0m\u001b[0;1;30mnote: \u001b[0mcandidate template ignored: deduced conflicting types for parameter '_CharT'\n",
      "      ('char' vs. 'Status')\u001b[0m\n",
      "    operator<<(basic_ostream<_CharT, _Traits>& __out, _CharT __c)\n",
      "\u001b[0;1;32m    ^\n",
      "\u001b[0m\u001b[1m/home/art/Applications/miniconda3/envs/cling/bin/../lib/gcc/x86_64-conda_cos6-linux-gnu/7.3.0/../../../../x86_64-conda_cos6-linux-gnu/include/c++/7.3.0/bits/basic_string.h:6272:5: \u001b[0m\u001b[0;1;30mnote: \u001b[0mcandidate template ignored: could not match 'basic_string<type-parameter-0-0,\n",
      "      type-parameter-0-1, type-parameter-0-2>' against 'Status'\u001b[0m\n",
      "    operator<<(basic_ostream<_CharT, _Traits>& __os,\n",
      "\u001b[0;1;32m    ^\n",
      "\u001b[0m\u001b[1m/home/art/Applications/miniconda3/envs/cling/bin/../lib/gcc/x86_64-conda_cos6-linux-gnu/7.3.0/../../../../x86_64-conda_cos6-linux-gnu/include/c++/7.3.0/ostream:539:5: \u001b[0m\u001b[0;1;30mnote: \u001b[0mcandidate template ignored: could not match 'const _CharT *' against 'Status'\u001b[0m\n",
      "    operator<<(basic_ostream<_CharT, _Traits>& __out, const _CharT* __s)\n",
      "\u001b[0;1;32m    ^\n",
      "\u001b[0m\u001b[1m/home/art/Applications/miniconda3/envs/cling/bin/../lib/gcc/x86_64-conda_cos6-linux-gnu/7.3.0/../../../../x86_64-conda_cos6-linux-gnu/include/c++/7.3.0/bits/shared_ptr.h:66:5: \u001b[0m\u001b[0;1;30mnote: \u001b[0mcandidate template ignored: could not match '__shared_ptr<type-parameter-0-2,\n",
      "      _Lp>' against 'Status'\u001b[0m\n",
      "    operator<<(std::basic_ostream<_Ch, _Tr>& __os,\n",
      "\u001b[0;1;32m    ^\n",
      "\u001b[0m\u001b[1m/home/art/Applications/miniconda3/envs/cling/bin/../lib/gcc/x86_64-conda_cos6-linux-gnu/7.3.0/../../../../x86_64-conda_cos6-linux-gnu/include/c++/7.3.0/bits/valarray_after.h:410:5: \u001b[0m\u001b[0;1;30mnote: \u001b[0mcandidate template ignored: could not match '_Expr' against 'basic_ostream'\u001b[0m\n",
      "    _DEFINE_EXPR_BINARY_OPERATOR(<<, __shift_left)\n",
      "\u001b[0;1;32m    ^\n",
      "\u001b[0m\u001b[1m/home/art/Applications/miniconda3/envs/cling/bin/../lib/gcc/x86_64-conda_cos6-linux-gnu/7.3.0/../../../../x86_64-conda_cos6-linux-gnu/include/c++/7.3.0/bits/valarray_after.h:341:5: \u001b[0m\u001b[0;1;30mnote: \u001b[0mexpanded from macro '_DEFINE_EXPR_BINARY_OPERATOR'\u001b[0m\n",
      "    operator _Op(const _Expr<_Dom1, typename _Dom1::value_type>& __v,   \\\n",
      "\u001b[0;1;32m    ^\n",
      "\u001b[0m\u001b[1m/home/art/Applications/miniconda3/envs/cling/bin/../lib/gcc/x86_64-conda_cos6-linux-gnu/7.3.0/../../../../x86_64-conda_cos6-linux-gnu/include/c++/7.3.0/bits/valarray_after.h:410:5: \u001b[0m\u001b[0;1;30mnote: \u001b[0mcandidate template ignored: could not match '_Expr' against 'basic_ostream'\u001b[0m\n",
      "\u001b[1m/home/art/Applications/miniconda3/envs/cling/bin/../lib/gcc/x86_64-conda_cos6-linux-gnu/7.3.0/../../../../x86_64-conda_cos6-linux-gnu/include/c++/7.3.0/bits/valarray_after.h:354:5: \u001b[0m\u001b[0;1;30mnote: \u001b[0mexpanded from macro '_DEFINE_EXPR_BINARY_OPERATOR'\u001b[0m\n",
      "    operator _Op(const _Expr<_Dom, typename _Dom::value_type>& __v,     \\\n",
      "\u001b[0;1;32m    ^\n",
      "\u001b[0m\u001b[1m/home/art/Applications/miniconda3/envs/cling/bin/../lib/gcc/x86_64-conda_cos6-linux-gnu/7.3.0/../../../../x86_64-conda_cos6-linux-gnu/include/c++/7.3.0/ostream:682:5: \u001b[0m\u001b[0;1;30mnote: \u001b[0mcandidate template ignored: requirement\n",
      "      '__and_<__not_<is_lvalue_reference<basic_ostream<char> &> >,\n",
      "      __is_convertible_to_basic_ostream<basic_ostream<char> &>,\n",
      "      __is_insertable<__rvalue_ostream_type<basic_ostream<char> &>, const Status\n",
      "      &> >::value' was not satisfied [with _Ostream = std::basic_ostream<char>\n",
      "      &, _Tp = Status]\u001b[0m\n",
      "    operator<<(_Ostream&& __os, const _Tp& __x)\n",
      "\u001b[0;1;32m    ^\n"
     ]
    },
    {
     "name": "stderr",
     "output_type": "stream",
     "text": [
      "\u001b[0m\u001b[1m/home/art/Applications/miniconda3/envs/cling/bin/../lib/gcc/x86_64-conda_cos6-linux-gnu/7.3.0/../../../../x86_64-conda_cos6-linux-gnu/include/c++/7.3.0/bits/valarray_after.h:410:5: \u001b[0m\u001b[0;1;30mnote: \u001b[0mcandidate template ignored: could not match '_Expr<type-parameter-0-0, typename\n",
      "      type-parameter-0-0::value_type>' against 'Status'\u001b[0m\n",
      "    _DEFINE_EXPR_BINARY_OPERATOR(<<, __shift_left)\n",
      "\u001b[0;1;32m    ^\n",
      "\u001b[0m\u001b[1m/home/art/Applications/miniconda3/envs/cling/bin/../lib/gcc/x86_64-conda_cos6-linux-gnu/7.3.0/../../../../x86_64-conda_cos6-linux-gnu/include/c++/7.3.0/bits/valarray_after.h:367:5: \u001b[0m\u001b[0;1;30mnote: \u001b[0mexpanded from macro '_DEFINE_EXPR_BINARY_OPERATOR'\u001b[0m\n",
      "    operator _Op(const typename _Dom::value_type& __t,                  \\\n",
      "\u001b[0;1;32m    ^\n",
      "\u001b[0m\u001b[1m/home/art/Applications/miniconda3/envs/cling/bin/../lib/gcc/x86_64-conda_cos6-linux-gnu/7.3.0/../../../../x86_64-conda_cos6-linux-gnu/include/c++/7.3.0/bits/valarray_after.h:410:5: \u001b[0m\u001b[0;1;30mnote: \u001b[0mcandidate template ignored: could not match '_Expr' against 'basic_ostream'\u001b[0m\n",
      "\u001b[1m/home/art/Applications/miniconda3/envs/cling/bin/../lib/gcc/x86_64-conda_cos6-linux-gnu/7.3.0/../../../../x86_64-conda_cos6-linux-gnu/include/c++/7.3.0/bits/valarray_after.h:380:5: \u001b[0m\u001b[0;1;30mnote: \u001b[0mexpanded from macro '_DEFINE_EXPR_BINARY_OPERATOR'\u001b[0m\n",
      "    operator _Op(const _Expr<_Dom,typename _Dom::value_type>& __e,      \\\n",
      "\u001b[0;1;32m    ^\n",
      "\u001b[0m\u001b[1m/home/art/Applications/miniconda3/envs/cling/bin/../lib/gcc/x86_64-conda_cos6-linux-gnu/7.3.0/../../../../x86_64-conda_cos6-linux-gnu/include/c++/7.3.0/bits/valarray_after.h:410:5: \u001b[0m\u001b[0;1;30mnote: \u001b[0mcandidate template ignored: could not match '_Expr<type-parameter-0-0, typename\n",
      "      type-parameter-0-0::value_type>' against 'Status'\u001b[0m\n",
      "\u001b[1m/home/art/Applications/miniconda3/envs/cling/bin/../lib/gcc/x86_64-conda_cos6-linux-gnu/7.3.0/../../../../x86_64-conda_cos6-linux-gnu/include/c++/7.3.0/bits/valarray_after.h:393:5: \u001b[0m\u001b[0;1;30mnote: \u001b[0mexpanded from macro '_DEFINE_EXPR_BINARY_OPERATOR'\u001b[0m\n",
      "    operator _Op(const valarray<typename _Dom::value_type>& __v,        \\\n",
      "\u001b[0;1;32m    ^\n",
      "\u001b[0m\u001b[1m/home/art/Applications/miniconda3/envs/cling/bin/../lib/gcc/x86_64-conda_cos6-linux-gnu/7.3.0/../../../../x86_64-conda_cos6-linux-gnu/include/c++/7.3.0/valarray:1180:1: \u001b[0m\u001b[0;1;30mnote: \u001b[0mcandidate template ignored: could not match 'valarray' against 'basic_ostream'\u001b[0m\n",
      "_DEFINE_BINARY_OPERATOR(<<, __shift_left)\n",
      "\u001b[0;1;32m^\n",
      "\u001b[0m\u001b[1m/home/art/Applications/miniconda3/envs/cling/bin/../lib/gcc/x86_64-conda_cos6-linux-gnu/7.3.0/../../../../x86_64-conda_cos6-linux-gnu/include/c++/7.3.0/valarray:1144:5: \u001b[0m\u001b[0;1;30mnote: \u001b[0mexpanded from macro '_DEFINE_BINARY_OPERATOR'\u001b[0m\n",
      "    operator _Op(const valarray<_Tp>& __v, const valarray<_Tp>& __w)    \\\n",
      "\u001b[0;1;32m    ^\n",
      "\u001b[0m\u001b[1m/home/art/Applications/miniconda3/envs/cling/bin/../lib/gcc/x86_64-conda_cos6-linux-gnu/7.3.0/../../../../x86_64-conda_cos6-linux-gnu/include/c++/7.3.0/valarray:1180:1: \u001b[0m\u001b[0;1;30mnote: \u001b[0mcandidate template ignored: could not match 'valarray' against 'basic_ostream'\u001b[0m\n",
      "\u001b[1m/home/art/Applications/miniconda3/envs/cling/bin/../lib/gcc/x86_64-conda_cos6-linux-gnu/7.3.0/../../../../x86_64-conda_cos6-linux-gnu/include/c++/7.3.0/valarray:1155:5: \u001b[0m\u001b[0;1;30mnote: \u001b[0mexpanded from macro '_DEFINE_BINARY_OPERATOR'\u001b[0m\n",
      "    operator _Op(const valarray<_Tp>& __v, const _Tp& __t)              \\\n",
      "\u001b[0;1;32m    ^\n",
      "\u001b[0m\u001b[1m/home/art/Applications/miniconda3/envs/cling/bin/../lib/gcc/x86_64-conda_cos6-linux-gnu/7.3.0/../../../../x86_64-conda_cos6-linux-gnu/include/c++/7.3.0/valarray:1180:1: \u001b[0m\u001b[0;1;30mnote: \u001b[0mcandidate template ignored: could not match 'valarray<type-parameter-0-0>'\n",
      "      against 'Status'\u001b[0m\n",
      "\u001b[1m/home/art/Applications/miniconda3/envs/cling/bin/../lib/gcc/x86_64-conda_cos6-linux-gnu/7.3.0/../../../../x86_64-conda_cos6-linux-gnu/include/c++/7.3.0/valarray:1165:5: \u001b[0m\u001b[0;1;30mnote: \u001b[0mexpanded from macro '_DEFINE_BINARY_OPERATOR'\u001b[0m\n",
      "    operator _Op(const _Tp& __t, const valarray<_Tp>& __v)              \\\n",
      "\u001b[0;1;32m    ^\n",
      "\u001b[0m\u001b[1m/home/art/Applications/miniconda3/envs/cling/bin/../lib/gcc/x86_64-conda_cos6-linux-gnu/7.3.0/../../../../x86_64-conda_cos6-linux-gnu/include/c++/7.3.0/iomanip:178:5: \u001b[0m\u001b[0;1;30mnote: \u001b[0mcandidate template ignored: could not match '_Setfill<type-parameter-0-0>'\n",
      "      against 'Status'\u001b[0m\n",
      "    operator<<(basic_ostream<_CharT, _Traits>& __os, _Setfill<_CharT> __f)\n",
      "\u001b[0;1;32m    ^\n",
      "\u001b[0m\u001b[1m/home/art/Applications/miniconda3/envs/cling/bin/../lib/gcc/x86_64-conda_cos6-linux-gnu/7.3.0/../../../../x86_64-conda_cos6-linux-gnu/include/c++/7.3.0/iomanip:311:5: \u001b[0m\u001b[0;1;30mnote: \u001b[0mcandidate template ignored: could not match '_Put_money<type-parameter-0-2>'\n",
      "      against 'Status'\u001b[0m\n",
      "    operator<<(basic_ostream<_CharT, _Traits>& __os, _Put_money<_MoneyT> __f)\n",
      "\u001b[0;1;32m    ^\n",
      "\u001b[0m\u001b[1m/home/art/Applications/miniconda3/envs/cling/bin/../lib/gcc/x86_64-conda_cos6-linux-gnu/7.3.0/../../../../x86_64-conda_cos6-linux-gnu/include/c++/7.3.0/iomanip:363:5: \u001b[0m\u001b[0;1;30mnote: \u001b[0mcandidate template ignored: could not match '_Put_time<type-parameter-0-0>'\n",
      "      against 'Status'\u001b[0m\n",
      "    operator<<(basic_ostream<_CharT, _Traits>& __os, _Put_time<_CharT> __f)\n",
      "\u001b[0;1;32m    ^\n",
      "\u001b[0m"
     ]
    },
    {
     "ename": "Interpreter Error",
     "evalue": "",
     "output_type": "error",
     "traceback": [
      "Interpreter Error: "
     ]
    }
   ],
   "source": [
    "{\n",
    "    Status status{ Status::WON };\n",
    "    std::cout << status; // won't work, because there's no implicit conversion to int\n",
    "}"
   ]
  },
  {
   "cell_type": "markdown",
   "metadata": {
    "slideshow": {
     "slide_type": "slide"
    }
   },
   "source": [
    "- However, there are occasionally cases where it is useful to be able to do so.\n",
    "    - You can explicitly convert an `enum class` enumerator to an integer by using a `static_cast` to `int`:"
   ]
  },
  {
   "cell_type": "code",
   "execution_count": 17,
   "metadata": {
    "slideshow": {
     "slide_type": "fragment"
    }
   },
   "outputs": [
    {
     "name": "stdout",
     "output_type": "stream",
     "text": [
      "2"
     ]
    }
   ],
   "source": [
    "{\n",
    "    Status status{ Status::LOST };\n",
    "    std::cout << static_cast<int>(status); // prints 2\n",
    "}"
   ]
  },
  {
   "cell_type": "markdown",
   "metadata": {
    "slideshow": {
     "slide_type": "slide"
    }
   },
   "source": [
    "## Example\n",
    "\n",
    "- There are many instances in programming where we need more than one variable in order to represent an object. Here is an example of employee data.\n",
    "\n",
    "```c++\n",
    "short id;\n",
    "int age;\n",
    "double wage;\n",
    "```\n",
    "\n",
    "- You now have 3 independent variables that are not grouped in any way. If you wanted to pass information about yourself to a function, you'd have to pass each variable individually. "
   ]
  },
  {
   "cell_type": "markdown",
   "metadata": {
    "slideshow": {
     "slide_type": "slide"
    }
   },
   "source": [
    "## User-defined aggregate data types\n",
    "\n",
    "- C++ allows us to create our own *user-defined aggregate data types*.\n",
    "    - An **aggregate data type** is a data type that groups multiple individual variables together.\n",
    "- One of the simplest aggregate data types is the **struct**.\n",
    "    - A struct (short for structure) allows us to group variables of mixed data types together into a single unit."
   ]
  },
  {
   "cell_type": "markdown",
   "metadata": {
    "slideshow": {
     "slide_type": "slide"
    }
   },
   "source": [
    "## Structs\n",
    "\n",
    "Consider the following structure declaration"
   ]
  },
  {
   "cell_type": "code",
   "execution_count": 7,
   "metadata": {
    "slideshow": {
     "slide_type": "fragment"
    }
   },
   "outputs": [],
   "source": [
    "struct Employee\n",
    "{\n",
    "    short id;\n",
    "    int age;\n",
    "    double wage;\n",
    "};"
   ]
  },
  {
   "cell_type": "markdown",
   "metadata": {
    "slideshow": {
     "slide_type": "fragment"
    }
   },
   "source": [
    "- Keyword `struct` introduces the declaration for structure `Employee`\n",
    "- The identifier `Employee` is the structure name and is used in C++ to declare variables of the **structure type**\n",
    "- `Employee` declaration contains tree **members** (or fields) - `id`, `age` and `wage`.\n",
    "- Declaration always ends with semicolon!!!"
   ]
  },
  {
   "cell_type": "markdown",
   "metadata": {
    "slideshow": {
     "slide_type": "slide"
    }
   },
   "source": [
    "## Structure Definitions\n",
    "\n",
    "\n",
    "- The following definitions\n",
    "\n",
    "```c++\n",
    "Employee employee;\n",
    "Employee employees[100];\n",
    "Employee* employePtr;\n",
    "```\n",
    "\n",
    "- Define \n",
    "\n",
    "    - `employee` to be a structure variable of type `Employee`\n",
    "    - `employees` to be an array with 100 elements of type `Employee`\n",
    "    - `employePtr` to be a pointer to a `Employee` structure\n"
   ]
  },
  {
   "cell_type": "markdown",
   "metadata": {
    "slideshow": {
     "slide_type": "slide"
    }
   },
   "source": [
    "## Structure Definitions (cont.)\n",
    "\n",
    "- Variables of a given structure type can also be declared by placing a comma-separated list of the variable names between the closing brace of the structure definition and the semicolon that ends the structure definition.\n",
    "\n",
    "```c++\n",
    "struct Employee\n",
    "{\n",
    "    short id;\n",
    "    int age;\n",
    "    double wage;\n",
    "} employee, employees[100], * employePtr;\n",
    "```"
   ]
  },
  {
   "cell_type": "markdown",
   "metadata": {
    "slideshow": {
     "slide_type": "slide"
    }
   },
   "source": [
    "## Structure Definitions (cont.)\n",
    "\n",
    "- Structure members are not necessarily stored in **consecutive** bytes of memory.\n",
    "\n",
    "- Sometimes there are **holes** in a structure, because some computers store specific data types only on certain memory boundaries for performance reasons, such as half-word, word or double-word boundaries.\n",
    "\n",
    "- A **word** is a standard memory unit used to store data in a computer - usually two, four or eight bytes and typically eight bytes on 64-bit systems\n"
   ]
  },
  {
   "cell_type": "markdown",
   "metadata": {
    "slideshow": {
     "slide_type": "slide"
    }
   },
   "source": [
    "- Consider the following structure definition in which structure objects\n",
    "\n",
    "```c++\n",
    "struct Example\n",
    "{\n",
    "    char c;\n",
    "    short i;\n",
    "} sample1, sample2;\n",
    "```\n",
    "- A computer with two-byte words might require that each of the members of `Example` be aligned on a word boundary (i.e., at the beginning of a word - this is machine dependent)."
   ]
  },
  {
   "cell_type": "markdown",
   "metadata": {
    "slideshow": {
     "slide_type": "slide"
    }
   },
   "source": [
    "<img src=\"../img/struct-align.jpg\" style=\"width:100%\"/>\n",
    "\n",
    "- A sample storage alignment for an object of type `Example` that has been assigned the **character 'a'** and the **integer 97** (the bit representations of the values are shown).\n",
    "- If the members are stored beginning at word boundaries, there is a one-byte hole (byte 1 in the figure) in the storage for objects of type Example.\n",
    "- The value in the one-byte hole is **undefined**.\n",
    "- If the values in `sample1` and `sample2` are in fact equal, the structure objects might not be equal, because the **undefined** one-byte holes are not likely to contain identical values."
   ]
  },
  {
   "cell_type": "code",
   "execution_count": 2,
   "metadata": {
    "slideshow": {
     "slide_type": "subslide"
    }
   },
   "outputs": [],
   "source": [
    "struct Example\n",
    "{\n",
    "    short a; // 16 bits = 2 bytes\n",
    "    char b;  //  8 bits = 1 bytes\n",
    "    int c;   // 32 bits = 4 bytes\n",
    "};"
   ]
  },
  {
   "cell_type": "code",
   "execution_count": 5,
   "metadata": {
    "slideshow": {
     "slide_type": "fragment"
    }
   },
   "outputs": [
    {
     "name": "stdout",
     "output_type": "stream",
     "text": [
      "Example struct size is 8 bytes or 64 bits\n",
      "1111111111111111111111111111111100000000111111101111111111111111\n"
     ]
    }
   ],
   "source": [
    "#include <bitset>\n",
    "{\n",
    "    Example sample1{-1, (char)254, -1};\n",
    "    \n",
    "    cout << \"Example struct size is \" << sizeof(sample1) << \" bytes or \" << sizeof(sample1)*8 << \" bits\" << endl;\n",
    "    cout << bitset<64>(*((long *)((void *)(&sample1)))) << endl;\n",
    "}"
   ]
  },
  {
   "cell_type": "markdown",
   "metadata": {
    "slideshow": {
     "slide_type": "slide"
    }
   },
   "source": [
    "## `typedef`\n",
    "\n",
    "- Keyword **typedef** provides a mechanism for creating **synonyms** (or **aliases**) for previously defined data types.\n",
    "\n",
    "- Names for structure types are often defined with `typedef` to more readable type names.\n",
    "\n",
    "- Creating a new name with typedef **does not create a new type**\n",
    "    - `typedef` simply creates a new type name that can then be used in the program as an alias for an existing type name.\n",
    "\n",
    "For example, the statement\n",
    "```c++\n",
    "typedef Employee* EmployeePtr\n",
    "```\n",
    "defines the new type name `EmployeePtr` as a synonym for type `Employee*`\n",
    "\n"
   ]
  },
  {
   "cell_type": "markdown",
   "metadata": {
    "slideshow": {
     "slide_type": "slide"
    }
   },
   "source": [
    "## Accessing `struct` members\n",
    "\n",
    "```c++\n",
    "Employee joe; // create an Employee struct for Joe\n",
    "Employee frank; // create an Employee struct for Frank\n",
    "```\n",
    "\n",
    "- When we define a variable such as `Employee joe`, `joe` refers to the **entire struct** (which contains the member variables).\n",
    "- In order to access the individual members, we use the **member selection operator** (`.`, a period).\n",
    "\n",
    "```c++\n",
    "Employee joe; // create an Employee struct for Joe\n",
    "joe.id = 14; // assign a value to member id within struct joe\n",
    "joe.age = 32; // assign a value to member age within struct joe\n",
    "joe.wage = 24.15; // assign a value to member wage within struct joe\n",
    "```\n",
    "\n",
    "**Note**: As with normal variables, struct member variables are **not initialized**, and will typically contain junk. We must initialize them manually."
   ]
  },
  {
   "cell_type": "markdown",
   "metadata": {
    "slideshow": {
     "slide_type": "slide"
    }
   },
   "source": [
    "## Initializing structs\n",
    "\n",
    "Initializing structs by assigning values member by member is a little cumbersome, so C++ supports a faster way to initialize structs using an initializer list.\n",
    "- This allows you to initialize some or all the members of a struct at declaration time."
   ]
  },
  {
   "cell_type": "code",
   "execution_count": null,
   "metadata": {
    "slideshow": {
     "slide_type": "fragment"
    }
   },
   "outputs": [],
   "source": [
    "{\n",
    "    Employee joe{ 1, 32, 60000.0 }; // joe.id = 1, joe.age = 32, joe.wage = 60000.0\n",
    "    Employee frank{ 2, 28 }; // frank.id = 2, frank.age = 28, frank.wage = 0.0 (default initialization)\n",
    "    \n",
    "    cout << \"Joe age is \" << joe.age << endl;\n",
    "    cout << \"Frank wage is \" << frank.wage << endl;\n",
    "}"
   ]
  },
  {
   "cell_type": "markdown",
   "metadata": {
    "slideshow": {
     "slide_type": "slide"
    }
   },
   "source": [
    "## Structs and functions\n",
    "\n",
    "A big advantage of using structs over individual variables is that we can pass the entire struct to a function that needs to work with the members:"
   ]
  },
  {
   "cell_type": "code",
   "execution_count": 10,
   "metadata": {
    "slideshow": {
     "slide_type": "fragment"
    }
   },
   "outputs": [],
   "source": [
    "void printInformation(Employee employee)\n",
    "{\n",
    "    std::cout << \"ID:   \" << employee.id << '\\n';\n",
    "    std::cout << \"Age:  \" << employee.age << '\\n';\n",
    "    std::cout << \"Wage: \" << employee.wage << '\\n';\n",
    "}"
   ]
  },
  {
   "cell_type": "code",
   "execution_count": 11,
   "metadata": {
    "slideshow": {
     "slide_type": "fragment"
    }
   },
   "outputs": [
    {
     "name": "stdout",
     "output_type": "stream",
     "text": [
      "ID:   1\n",
      "Age:  32\n",
      "Wage: 60000\n"
     ]
    }
   ],
   "source": [
    "{\n",
    "    Employee joe{ 1, 32, 60000.0 }; \n",
    "    printInformation(joe);\n",
    "}"
   ]
  },
  {
   "cell_type": "markdown",
   "metadata": {
    "slideshow": {
     "slide_type": "slide"
    }
   },
   "source": [
    "## Tips\n",
    "\n",
    "- We pass an entire `Employee` struct to `printInformation()` **by value** (the argument is copied into the parameter)\n",
    "    - To **avoid struct copy**, pass parameters **by reference**.\n",
    "- We *do not use* individual struct members\n",
    "    - if we ever decide to add new members to our `Employee` struct, we will not have to change the function declaration or function call!\n",
    "- A function can also **return a `struct`**, which is one of the few ways to have a function return multiple variables.   "
   ]
  },
  {
   "cell_type": "code",
   "execution_count": 12,
   "metadata": {
    "slideshow": {
     "slide_type": "slide"
    }
   },
   "outputs": [],
   "source": [
    "Employee getNewEmployee()\n",
    "{\n",
    "    return { 1, 1, 0.0 };\n",
    "}"
   ]
  },
  {
   "cell_type": "code",
   "execution_count": 13,
   "metadata": {
    "slideshow": {
     "slide_type": "fragment"
    }
   },
   "outputs": [
    {
     "name": "stdout",
     "output_type": "stream",
     "text": [
      "ID:   1\n",
      "Age:  1\n",
      "Wage: 0\n"
     ]
    }
   ],
   "source": [
    "{\n",
    "    Employee newone = getNewEmployee(); \n",
    "    printInformation(newone);\n",
    "}"
   ]
  },
  {
   "cell_type": "markdown",
   "metadata": {
    "slideshow": {
     "slide_type": "slide"
    }
   },
   "source": [
    "## Classes\n",
    "\n",
    "**Class** is a user defined data type, which holds its own data members and member functions, which can be accessed and used by creating an instance of that class.\n",
    "- A class is like a blueprint for an object.\n",
    "- Each class you create becomes a new type you can use to create objects, so C++ is an extensible programming language.\n",
    "- Classes cannot execute by themselves.\n",
    "  - A Person object can drive a Car object by telling it what to do (go faster, go slower, turn left, turn right, etc.) - without knowing how the car’s internal mechanisms work.\n",
    "  - Similarly, the main function can \"drive\" an Account object by calling its member functions - without knowing how the class is implemented."
   ]
  },
  {
   "cell_type": "markdown",
   "metadata": {
    "slideshow": {
     "slide_type": "slide"
    }
   },
   "source": [
    "## Example: Simple bank-account class\n",
    "\n",
    "Maintains as data members the attributes name and balance, and provides member functions for behaviors including\n",
    "- querying the account name (getName)"
   ]
  },
  {
   "cell_type": "code",
   "execution_count": 19,
   "metadata": {
    "slideshow": {
     "slide_type": "fragment"
    }
   },
   "outputs": [],
   "source": [
    "#include <string> // enable program to use C++ string data type\n",
    "\n",
    "class Account {\n",
    "public:\n",
    "    // Account constructor with two parameters  \n",
    "    Account(std::string accountName, int initialBalance) \n",
    "      : name{accountName}, balance{initialBalance} { } // assign data members\n",
    "\n",
    "    // member function that retrieves the account name from the object       \n",
    "    std::string getName() const {\n",
    "        return name; // return name's value to this function's caller\n",
    "    }\n",
    "private:\n",
    "    std::string name; // data member containing account holder's name\n",
    "    int balance{0}; // data member with default initial value\n",
    "}; // end class Account"
   ]
  },
  {
   "cell_type": "markdown",
   "metadata": {
    "slideshow": {
     "slide_type": "slide"
    }
   },
   "source": [
    "## Classes\n",
    "\n",
    "- Classes are defined using either keyword `class` or keyword `struct`, with the following syntax:\n",
    "\n",
    "```cpp\n",
    "class class_name\n",
    "{\n",
    "  access_specifier_1:\n",
    "    member1;\n",
    "  access_specifier_2:\n",
    "    member2;\n",
    "  ...\n",
    "} object_names;\n",
    "```\n",
    "\n",
    "- Where `class_name` is a valid identifier for the class, `object_names` is an optional list of names for objects of this class. The body of the declaration can contain members, which can either be data or function declarations, and optionally access specifiers."
   ]
  },
  {
   "cell_type": "markdown",
   "metadata": {
    "slideshow": {
     "slide_type": "slide"
    }
   },
   "source": [
    "## Classes (cont.)\n",
    "\n",
    "- Classes have the same format as **plain data structures**, except that they can also include functions and have these new things called access specifiers.\n",
    "\n",
    "- An access specifier is one of the following three keywords: **private, public or protected**. These specifiers modify the access rights for the members that follow them:\n",
    "\n",
    "    - **private** members of a class are accessible only from within other members of the same class (or from their \"friends\").\n",
    "    - **protected** members are accessible from other members of the same class (or from their \"friends\"), but also from members of their derived classes.\n",
    "    - **public** members are accessible from anywhere where the object is visible.\n",
    "\n",
    "*Note:* By default, all members of a class declared with the class keyword have private access for all its members."
   ]
  },
  {
   "cell_type": "markdown",
   "metadata": {
    "slideshow": {
     "slide_type": "slide"
    }
   },
   "source": [
    "## Instantiating an Object\n",
    "\n",
    "- **An object** is an instantiation of *a class*. In terms of variables, a class would be the type, and an object would be the variable.\n",
    "\n",
    "- Typically, you cannot call a member function of a class until you create an object of that class."
   ]
  },
  {
   "cell_type": "code",
   "execution_count": 20,
   "metadata": {
    "slideshow": {
     "slide_type": "slide"
    }
   },
   "outputs": [
    {
     "name": "stdout",
     "output_type": "stream",
     "text": [
      "Name in object `acc` is: John Dow\n"
     ]
    }
   ],
   "source": [
    "{\n",
    "    Account myAccount{\"John Dow\", 0};\n",
    "    cout << \"Name in object `acc` is: \" << myAccount.getName() << endl;\n",
    "}"
   ]
  },
  {
   "cell_type": "markdown",
   "metadata": {
    "slideshow": {
     "slide_type": "slide"
    }
   },
   "source": [
    "## Data Members\n",
    "\n",
    " - An object has attributes, implemented as **data members** - the object carries these with it throughout its lifetime.\n",
    "- Each object has its own copy of the class's data members.\n",
    "- Normally, a class also contains one or more member functions that manipulate the data members belonging to particular objects of the class.\n",
    "- Data members are declared inside a class definition but outside the bodies of the class's member functions.\n"
   ]
  },
  {
   "cell_type": "markdown",
   "metadata": {
    "slideshow": {
     "slide_type": "slide"
    }
   },
   "source": [
    "## Members Functions\n",
    "\n",
    "Functions:\n",
    "\n",
    "- E.g. One can get `myAccount` name by calling the object's `getName` member function with the expression `myAccount.getName()`.\n",
    "- To call this member function for a specific object, you specify the object’s name (myAccount), followed by the **dot operator (.)**, then the member function name (getName) and a set of parentheses.\n",
    "- The empty parentheses indicate that getName does not require any additional information to perform its task.\n",
    "- The member function's return type (which appears to the left of the function’s name) specifies the type of data the member function returns to its caller after performing its task.\n",
    "- The return type void indicates that a function does not return (i.e., give back) any information to its calling function."
   ]
  }
 ],
 "metadata": {
  "celltoolbar": "Slideshow",
  "jupytext": {
   "cell_metadata_filter": "-all",
   "main_language": "c++",
   "notebook_metadata_filter": "-all"
  },
  "kernelspec": {
   "display_name": "C++14",
   "language": "C++14",
   "name": "xcpp14"
  },
  "language_info": {
   "codemirror_mode": "text/x-c++src",
   "file_extension": ".cpp",
   "mimetype": "text/x-c++src",
   "name": "c++",
   "version": "-std=c++14"
  }
 },
 "nbformat": 4,
 "nbformat_minor": 4
}
