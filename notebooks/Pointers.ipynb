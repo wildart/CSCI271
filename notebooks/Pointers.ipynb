{
 "cells": [
  {
   "cell_type": "code",
   "execution_count": 1,
   "metadata": {
    "slideshow": {
     "slide_type": "skip"
    }
   },
   "outputs": [],
   "source": [
    "#include <iostream>\n",
    "using namespace std;"
   ]
  },
  {
   "cell_type": "markdown",
   "metadata": {
    "slideshow": {
     "slide_type": "slide"
    }
   },
   "source": [
    "# Pointers"
   ]
  },
  {
   "cell_type": "markdown",
   "metadata": {
    "slideshow": {
     "slide_type": "slide"
    }
   },
   "source": [
    "- Learn what pointers are.\n",
    "\n",
    "- Declare and initialize pointers\n",
    "\n",
    "- Use the address ( & ) and indirection ( * ) pointer operators.\n",
    "\n",
    "- Learn the similarities and differences between pointers and references\n",
    "\n",
    "- Use pointers to pass arguments to functions by reference.\n",
    "\n",
    "- Use built-in arrays.\n",
    "\n",
    "- Use `const` with pointers.\n",
    "\n",
    "- Use operator `sizeof` to determine the number of bytes that store a value of a particular type.\n",
    "\n",
    "- Understand pointer expressions and pointer arithmetic.\n",
    "\n",
    "- Understand the close relationships between pointers and built-in arrays.\n"
   ]
  },
  {
   "cell_type": "markdown",
   "metadata": {
    "slideshow": {
     "slide_type": "slide"
    }
   },
   "source": [
    "## Introduction\n",
    "\n",
    "- Pointers are one of the most powerful, yet challenging to use, C++ capabilities.\n",
    "\n",
    "- Pointers also enable **pass-by-reference** and can be used to create and manipulate pointer-based dynamic data structures.\n",
    "\n",
    "- Pointers have relationship to built-in static arrays\n",
    "    - In new software development projects, you should favor `array` and `vector` objects to built-in arrays.\n"
   ]
  },
  {
   "cell_type": "markdown",
   "metadata": {
    "slideshow": {
     "slide_type": "slide"
    }
   },
   "source": [
    "## Pointer Variable Declarations and Initialization\n",
    "\n",
    "- A pointer contains the **memory address** of a variable that, in turn, contains a specific value.\n",
    "\n",
    "- In this sense, a variable name **directly references a value**, and a pointer **indirectly references a value**.\n",
    "\n",
    "- Referencing a value through a pointer is called **indirection**.\n",
    "\n",
    "<img src=\"../img/pointer.jpg\" style=\"width:100%\"/>"
   ]
  },
  {
   "cell_type": "markdown",
   "metadata": {
    "slideshow": {
     "slide_type": "slide"
    }
   },
   "source": [
    "## Declaring Pointers\n",
    "\n",
    "The declaration\n",
    "\n",
    "```c++\n",
    "int * countPtr, count;\n",
    "```\n",
    "- declares the variable `countPtr` to be a type `int*` (i.e., a pointer to an int value) and is read (right to left), \"countPtr  is a pointer to int\".\n",
    "\n",
    "    - Variable `count` in the preceding declaration is declared to be an `int`\n",
    "    - The `*` in the declaration applies only to `countPtr`\n",
    "    - Each variable being declared as a pointer must be preceded by an asterisk (`*`).\n",
    "\n",
    "- When `*`appears in a declaration, it is **not** an operator\n",
    "    - it indicates that the variable being declared is a pointer.\n",
    "\n",
    "- Pointers can be declared to point to objects of **any** type."
   ]
  },
  {
   "cell_type": "markdown",
   "metadata": {
    "slideshow": {
     "slide_type": "slide"
    }
   },
   "source": [
    "## Declaring Pointers (cont.)\n",
    "\n",
    "- Each pointer must be declared with the `*` prefixed to the name (with or without spaces in between).\n",
    "- Declaring only one variable per declaration helps avoid these types of errors and improves program readability."
   ]
  },
  {
   "cell_type": "markdown",
   "metadata": {
    "slideshow": {
     "slide_type": "slide"
    }
   },
   "source": [
    "## Initializing Pointers \n",
    "\n",
    "- Pointers should be initialized to `nullptr` (new in C++11) or to a memory either when they're declared or in an assignment.\n",
    "\n",
    "- A pointer with the value `nullptr` \"points to nothing\" and is known as a **null pointer**.\n",
    "\n",
    "- Initialize all pointers to prevent pointing to unknown or uninitialized areas of memory."
   ]
  },
  {
   "cell_type": "markdown",
   "metadata": {
    "slideshow": {
     "slide_type": "slide"
    }
   },
   "source": [
    "## Null Pointers Prior to C++11\n",
    "\n",
    "- In earlier versions of C++, the value specified for a null pointer was `0` or `NULL`\n",
    "\n",
    "- `NULL` is defined in several standard library headers to represent the value `0`\n",
    "\n",
    "- Initializing a pointer to `NULL` is equivalent to initializing a pointer to `0`, but prior to C++11, `0` was used by convention.\n",
    "\n",
    "- The value `0` is the **only** integer value that can be assigned directly to a pointer variable without first **casting** the integer to a pointer type"
   ]
  },
  {
   "cell_type": "markdown",
   "metadata": {
    "slideshow": {
     "slide_type": "slide"
    }
   },
   "source": [
    "# Pointer Operators\n",
    "\n",
    "- The unary operators `&` and `*` are used to create pointer values and \"dereference\" pointers, respectively."
   ]
  },
  {
   "cell_type": "markdown",
   "metadata": {
    "slideshow": {
     "slide_type": "slide"
    }
   },
   "source": [
    "## Address (`&`) Operator\n",
    "\n",
    "- The **address operator (`&`)** is a unary operator that **obtains the memory address of its operand**.\n",
    "\n",
    "- Assuming the declarations"
   ]
  },
  {
   "cell_type": "code",
   "execution_count": 2,
   "metadata": {
    "slideshow": {
     "slide_type": "fragment"
    }
   },
   "outputs": [],
   "source": [
    "{\n",
    "    int y{5};           // declare variable y\n",
    "    int* yPtr{nullptr}; // declare pointer variable\n",
    "    yPtr = &y;          // assign address of y to yPtr\n",
    "}"
   ]
  },
  {
   "cell_type": "markdown",
   "metadata": {
    "slideshow": {
     "slide_type": "fragment"
    }
   },
   "source": [
    "<img src=\"../img/amp-op.jpg\" style=\"width:100%\"/>"
   ]
  },
  {
   "cell_type": "markdown",
   "metadata": {
    "slideshow": {
     "slide_type": "slide"
    }
   },
   "source": [
    "## Address (`&`) Operator (cont.)\n",
    "\n",
    "<img src=\"../img/ptr-vals.jpg\" style=\"width:100%\"/>\n",
    "\n",
    "\n",
    "- Representation in memory with integer variable `y` stored at memory location 600000 and pointer variable `yPtr` stored at location 500000.\n",
    "\n",
    "\n",
    "- The operand of the address operator must be an **l-value** - the address operator **cannot** be applied to constants or to expressions that result in temporary values (like the results of calculations)."
   ]
  },
  {
   "cell_type": "markdown",
   "metadata": {
    "slideshow": {
     "slide_type": "slide"
    }
   },
   "source": [
    "## Indirection (`*`) Operator\n",
    "\n",
    "- The **unary `*` operator** - commonly referred to as the **indirection operator** or **dereferencing** operator.\n",
    "\n",
    "    - Returns an *l-value* representing the object to which its pointer operand points.\n",
    "\n",
    "    - Called dereferencing a pointer\n",
    "\n",
    "- A **dereferenced pointer** may also be used as an *l-value* on the **left** side of an assignment.\n",
    "- Dereferencing an **uninitialized** or a null pointer results in **undefined behavior**."
   ]
  },
  {
   "cell_type": "code",
   "execution_count": 6,
   "metadata": {
    "slideshow": {
     "slide_type": "slide"
    }
   },
   "outputs": [
    {
     "name": "stdout",
     "output_type": "stream",
     "text": [
      "The address of `a` is 0x7ffdf95afd64\n",
      "The value of `aPtr` is 0x7ffdf95afd64\n",
      "The value of `a` is 7\n",
      "The value of `*aPtr` is 7\n",
      "The value of `a` after incr. is 8\n",
      "The value of `*aPtr` is 8\n"
     ]
    }
   ],
   "source": [
    "{\n",
    "    int a{7};\n",
    "    int* aPtr = &a;\n",
    "    \n",
    "    cout << \"The address of `a` is \" << &a << endl;\n",
    "    cout << \"The value of `aPtr` is \" << aPtr << endl;\n",
    "    cout << \"The value of `a` is \" << a << endl;\n",
    "    cout << \"The value of `*aPtr` is \" << *aPtr << endl;\n",
    "    a++;\n",
    "    cout << \"The value of `a` after incr. is \" << a << endl;\n",
    "    cout << \"The value of `*aPtr` is \" << *aPtr << endl;\n",
    "}"
   ]
  },
  {
   "cell_type": "markdown",
   "metadata": {
    "slideshow": {
     "slide_type": "slide"
    }
   },
   "source": [
    "## Pass-By-Reference with Pointers\n",
    "\n",
    "- There are three ways in C++ to pass arguments to a function\n",
    "\n",
    "    - pass-by-value\n",
    "\n",
    "    - pass-by-reference with reference arguments\n",
    "\n",
    "    - **pass-by-reference with pointer arguments**"
   ]
  },
  {
   "cell_type": "markdown",
   "metadata": {
    "slideshow": {
     "slide_type": "slide"
    }
   },
   "source": [
    "## Pass-By-Reference with Pointers (cont.)\n",
    "\n",
    "- Pointers can be used to modify one or more variables in the caller or to pass pointers to large data objects to avoid the overhead of copying the objects.\n",
    "\n",
    "- You can use pointers and the indirection operator (`*`) to accomplish *pass-by-reference*.\n",
    "\n",
    "- When calling a function with an argument that should be modified, the **address** of the argument is passed."
   ]
  },
  {
   "cell_type": "code",
   "execution_count": 7,
   "metadata": {
    "slideshow": {
     "slide_type": "slide"
    }
   },
   "outputs": [],
   "source": [
    "// Pass-By-Value\n",
    "int cubeByValue(int x) {\n",
    "    return x*x*x;\n",
    "}"
   ]
  },
  {
   "cell_type": "code",
   "execution_count": 9,
   "metadata": {
    "slideshow": {
     "slide_type": "fragment"
    }
   },
   "outputs": [
    {
     "name": "stdout",
     "output_type": "stream",
     "text": [
      "Original `num` value is 5\n",
      "New `num` value is 125\n"
     ]
    }
   ],
   "source": [
    "{\n",
    "    int number{5};\n",
    "    \n",
    "    cout << \"Original `num` value is \" << number << endl;\n",
    "    number = cubeByValue(number);\n",
    "    cout << \"New `num` value is \" << number << endl;    \n",
    "}"
   ]
  },
  {
   "cell_type": "markdown",
   "metadata": {
    "slideshow": {
     "slide_type": "subslide"
    }
   },
   "source": [
    "<img src=\"../img/pbv1.jpg\" style=\"width:100%\"/>"
   ]
  },
  {
   "cell_type": "markdown",
   "metadata": {
    "slideshow": {
     "slide_type": "subslide"
    }
   },
   "source": [
    "<img src=\"../img/pbv2.jpg\" style=\"width:100%\"/>"
   ]
  },
  {
   "cell_type": "markdown",
   "metadata": {
    "slideshow": {
     "slide_type": "subslide"
    }
   },
   "source": [
    "<img src=\"../img/pbv3.jpg\" style=\"width:100%\"/>"
   ]
  },
  {
   "cell_type": "code",
   "execution_count": 10,
   "metadata": {
    "slideshow": {
     "slide_type": "slide"
    }
   },
   "outputs": [],
   "source": [
    "// Pass-By-Reference with Pointers\n",
    "void cubeByRef(int* xPtr) {\n",
    "    *xPtr = *xPtr * *xPtr * *xPtr;\n",
    "}"
   ]
  },
  {
   "cell_type": "code",
   "execution_count": 11,
   "metadata": {
    "slideshow": {
     "slide_type": "fragment"
    }
   },
   "outputs": [
    {
     "name": "stdout",
     "output_type": "stream",
     "text": [
      "Original `number` value is 15\n",
      "New `number` value is 3375\n"
     ]
    }
   ],
   "source": [
    "{\n",
    "    int number{15};\n",
    "    \n",
    "    cout << \"Original `number` value is \" << number << endl;\n",
    "    cubeByRef(&number);\n",
    "    cout << \"New `number` value is \" << number << endl;    \n",
    "}"
   ]
  },
  {
   "cell_type": "markdown",
   "metadata": {
    "slideshow": {
     "slide_type": "subslide"
    }
   },
   "source": [
    "<img src=\"../img/pbr1.jpg\" style=\"width:100%\"/>"
   ]
  },
  {
   "cell_type": "markdown",
   "metadata": {
    "slideshow": {
     "slide_type": "subslide"
    }
   },
   "source": [
    "<img src=\"../img/pbr2.jpg\" style=\"width:100%\"/>"
   ]
  },
  {
   "cell_type": "markdown",
   "metadata": {
    "slideshow": {
     "slide_type": "subslide"
    }
   },
   "source": [
    "<img src=\"../img/pbr3.jpg\" style=\"width:100%\"/>"
   ]
  },
  {
   "cell_type": "markdown",
   "metadata": {
    "slideshow": {
     "slide_type": "slide"
    }
   },
   "source": [
    "## Pass-By-Reference with Pointers (cont.)\n",
    "\n",
    "- **Insight: All Arguments Are Passed By Value**\n",
    "\n",
    "- Passing a variable by reference with a pointer **does not actually pass anything by reference**\n",
    "\n",
    "    - a pointer to that variable is passed by value and is **copied** into the function's corresponding pointer parameter.\n",
    "\n",
    "- The called function can then access that variable in the caller simply by dereferencing the pointer, thus accomplishing **pass-by-reference**."
   ]
  },
  {
   "cell_type": "markdown",
   "metadata": {
    "slideshow": {
     "slide_type": "slide"
    }
   },
   "source": [
    "## Built-In Arrays\n",
    "\n",
    "- **Built-in arrays** are fixed-size data structures.\n",
    "- To specify the type of the elements and the number of elements required by a built-in array, use a declaration of the form\n",
    "\n",
    "```c++\n",
    "type arrayName[arraySize];\n",
    "```\n",
    "\n",
    "- The compiler reserves the appropriate amount of memory. \n",
    "- **arraySize** must be an integer constant greater than zero.\n",
    "- As with array objects, you use the subscript (`[]`) operator to access the individual elements of a built-in array."
   ]
  },
  {
   "cell_type": "markdown",
   "metadata": {
    "slideshow": {
     "slide_type": "slide"
    }
   },
   "source": [
    "## Initializing Built-In Arrays\n",
    "\n",
    "- To reserve 12 elements for built-in array of `int`s named `c`, use the declaration\n",
    "```c++\n",
    "int c[12];\n",
    "```\n",
    "- You can initialize the elements of a built-in array using an initializer list as\n",
    "```c++\n",
    "int n[5]{10,20,40,50}; // last element is set to default value\n",
    "```\n",
    "- If a built-in array’s size is omitted from a declaration with an initializer list, the compiler sizes the built-in array to the number of elements in the initializer list.\n",
    "```c++\n",
    "int n[]{10,20,40,50,30};\n",
    "```"
   ]
  },
  {
   "cell_type": "markdown",
   "metadata": {
    "slideshow": {
     "slide_type": "slide"
    }
   },
   "source": [
    "## Declaring Built-In Array Parameters\n",
    "\n",
    "- You can declare a built-in array parameter in a function header, as follows\n",
    "\n",
    "```c++\n",
    "int sum(const int values[], const size_t numberOfElements)\n",
    "```\n",
    "\n",
    "- which indicates that the function's first argument should be a one-dimensional built-in array of `int`s that should not be modified by the function.\n",
    "\n",
    "- The preceding header can also be written as\n",
    "\n",
    "```c++\n",
    "int sum(const int* values, const size_t numberOfElements)\n",
    "```"
   ]
  },
  {
   "cell_type": "markdown",
   "metadata": {
    "slideshow": {
     "slide_type": "slide"
    }
   },
   "source": [
    "## Declaring Built-In Array Parameters (cont.)\n",
    "\n",
    "- The compiler does not differentiate between a function that receives a pointer and a function that receives a built-in array.\n",
    "\n",
    "    - The function must \"know\" when it's receiving a built-in array or simply a single variable that's being passed by reference.\n",
    "\n",
    "- When the compiler encounters a function parameter for a one-dimensional built-in array of the form `const int values[]`, the compiler converts the parameter to the pointer notation `const int*`.\n",
    "\n",
    "    - These forms of declaring a one-dimensional built-in array parameter are interchangeable.\n"
   ]
  },
  {
   "cell_type": "markdown",
   "metadata": {
    "slideshow": {
     "slide_type": "slide"
    }
   },
   "source": [
    "## Passing Built-In Arrays to Functions\n",
    "\n",
    "- The value of a built-in array's name is implicitly convertible to the address of the built-in array's first element.\n",
    "    - So `arrayName` is implicitly convertible to `&arrayName[0]`\n",
    "- You don't need to take the address (`&`) of a built-in array to pass it to a function - **you simply pass the built-in array's name**.\n"
   ]
  },
  {
   "cell_type": "code",
   "execution_count": 2,
   "metadata": {
    "slideshow": {
     "slide_type": "slide"
    }
   },
   "outputs": [],
   "source": [
    "int getFirst(int values[]){\n",
    "    return values[0];\n",
    "}"
   ]
  },
  {
   "cell_type": "code",
   "execution_count": 4,
   "metadata": {
    "slideshow": {
     "slide_type": "fragment"
    }
   },
   "outputs": [],
   "source": [
    "int getFirstWithPtr(int* values){\n",
    "    return *values;\n",
    "}"
   ]
  },
  {
   "cell_type": "code",
   "execution_count": 8,
   "metadata": {
    "slideshow": {
     "slide_type": "fragment"
    }
   },
   "outputs": [
    {
     "name": "stdout",
     "output_type": "stream",
     "text": [
      "First element is 100\n",
      "First element is 100\n",
      "First element is 100"
     ]
    }
   ],
   "source": [
    "{\n",
    "    int numbers[3]{100,20,30};\n",
    "    cout << \"First element is \" << numbers[0] << endl;\n",
    "    cout << \"First element is \" << getFirst(numbers) << endl;\n",
    "    cout << \"First element is \" << getFirstWithPtr(numbers);\n",
    "}"
   ]
  },
  {
   "cell_type": "markdown",
   "metadata": {
    "slideshow": {
     "slide_type": "slide"
    }
   },
   "source": [
    "## Built-In Array Limitations\n",
    "\n",
    "- They **cannot be compared** using the relational and equality operators - you must use a loop to compare two built-in arrays element by element.\n",
    "\n",
    "- They **cannot be assigned** to one another.\n",
    "\n",
    "- They **don't know their own size** - a function that processes a built-in array typically receives **both** the built-in array's **name** and its **size** as arguments.\n",
    "\n",
    "- They **don't provide automatic bounds checking** - you must ensure that array-access expressions use subscripts that are within the built-in array's bounds."
   ]
  },
  {
   "cell_type": "markdown",
   "metadata": {
    "slideshow": {
     "slide_type": "slide"
    }
   },
   "source": [
    "## Using `Const` with Pointers\n",
    "\n",
    "- Many possibilities exist for using (or not using) `const` with function parameters.\n",
    "\n",
    "- **Principle of least privilege**\n",
    "\n",
    "    - Always give a function **enough** access to the data in its parameters to accomplish its specified task, **but no more**.\n",
    "    \n",
    "- If a value does not (or should not) change in the body of a function to which it's passed, the parameter should be declared `const`."
   ]
  },
  {
   "cell_type": "markdown",
   "metadata": {
    "slideshow": {
     "slide_type": "slide"
    }
   },
   "source": [
    "## `sizeof` Operator\n",
    "\n",
    "- The unary operator `sizeof` determines the size in bytes of a built-in array or of any other data type, variable or constant **during program compilation**.\n",
    "\n",
    "- When applied to a built-in array's name, the `sizeof` operator returns the **total number of bytes in the built-in array** as a value of type `size_t`.\n",
    "\n",
    "- When applied to a **pointer parameter** in a function that **receives receives a built-in array as an argument**, the size of operator returns the size of the pointer in **bytes** - **not** the built-in array's size.\n"
   ]
  },
  {
   "cell_type": "code",
   "execution_count": 9,
   "metadata": {
    "slideshow": {
     "slide_type": "slide"
    }
   },
   "outputs": [],
   "source": [
    "size_t getSize(double* ptr){\n",
    "    return sizeof(ptr);\n",
    "}"
   ]
  },
  {
   "cell_type": "code",
   "execution_count": 10,
   "metadata": {
    "slideshow": {
     "slide_type": "fragment"
    }
   },
   "outputs": [
    {
     "name": "stdout",
     "output_type": "stream",
     "text": [
      "Number of bytes in the array is 80\n",
      "Number of bytes retured by `getSize` is 8"
     ]
    }
   ],
   "source": [
    "{\n",
    "    double numbers[10];\n",
    "    cout << \"Number of bytes in the array is \" << sizeof(numbers);;\n",
    "    cout << \"\\nNumber of bytes retured by `getSize` is \" << getSize(numbers);\n",
    "}"
   ]
  },
  {
   "cell_type": "markdown",
   "metadata": {
    "slideshow": {
     "slide_type": "slide"
    }
   },
   "source": [
    "## Sizeof Operator (cont.)\n",
    "\n",
    "- To determine the number of elements in the built-in array numbers, use the following expression (which is evaluated at **compile time**):\n",
    "```c++\n",
    "sizeof numbers / sizeof(numbers[0])\n",
    "```\n",
    "- The expression divides the number of bytes in `numbers` by the number of bytes in the built-in array's zeroth element.\n"
   ]
  },
  {
   "cell_type": "code",
   "execution_count": 10,
   "metadata": {
    "slideshow": {
     "slide_type": "fragment"
    }
   },
   "outputs": [
    {
     "name": "stdout",
     "output_type": "stream",
     "text": [
      "Number of elements in the array is 20"
     ]
    }
   ],
   "source": [
    "{\n",
    "    double numbers[20];\n",
    "    cout << \"Number of elements in the array is \" <<\n",
    "        sizeof numbers / sizeof(numbers[0]);\n",
    "}"
   ]
  },
  {
   "cell_type": "markdown",
   "metadata": {
    "slideshow": {
     "slide_type": "slide"
    }
   },
   "source": [
    "## Pointer Expressions and Pointer Arithmetic\n",
    "\n",
    "- Pointers are valid operands in arithmetic expressions, assignment expressions and comparison expressions.\n",
    "\n",
    "- C++ enables **pointer arithmetic** - a few arithmetic operations may be performed on pointers:\n",
    "\n",
    "    - increment (`++`)\n",
    "    - decremented (`--`)\n",
    "    - an integer may be added to a pointer (`+` or `+=`)\n",
    "    - an integer may be subtracted from a pointer (`-` or `-=`)\n",
    "    - one pointer may be subtracted from another of the same type"
   ]
  },
  {
   "cell_type": "code",
   "execution_count": 14,
   "metadata": {
    "slideshow": {
     "slide_type": "slide"
    }
   },
   "outputs": [
    {
     "name": "stdout",
     "output_type": "stream",
     "text": [
      "Elements 1 is 10\n",
      "Elements 3 is 30"
     ]
    }
   ],
   "source": [
    "{\n",
    "    int v[5]{10,20,30,40,50};\n",
    "    int* vPtr{v};\n",
    "    //int* vPtr{&v[0]};\n",
    "    cout << \"Elements 1 is \" << (*vPtr);\n",
    "    vPtr += 2;\n",
    "    cout << \"\\nElements 3 is \" << (*vPtr);\n",
    "    //cout << \"\\nElements 1000 is \" << v[1000]; // no bound checks\n",
    "}"
   ]
  },
  {
   "cell_type": "markdown",
   "metadata": {
    "slideshow": {
     "slide_type": "fragment"
    }
   },
   "source": [
    "- Assume that `int v[5]` has been declared and that its first element is at memory location *3000*.\n",
    "\n",
    "- When an integer is added to, or subtracted from, a pointer, the pointer is  incremented or decremented by that **integer times the size of the memory object** to which the pointer refers\n",
    "\n",
    "    - `vPtr +=2;` would produce *3008* (from the calculation 3000 + 2 * 4), assuming that an int is stored in **four bytes** of memory.\n"
   ]
  },
  {
   "cell_type": "markdown",
   "metadata": {
    "slideshow": {
     "slide_type": "slide"
    }
   },
   "source": [
    "## Pointer Assignment\n",
    "\n",
    "- A pointer can be assigned to another pointer if both pointers are of the **same** type.\n",
    "\n",
    "- Otherwise, a cast operator (normally a `reinterpret_cast`) must be used to convert the value of the pointer on the right of the assignment to the pointer type on the left of the assignment.\n",
    "\n",
    "    - Exception to this rule is the **pointer to void** (`void*`)\n",
    "\n",
    "- **Any pointer to a fundamental type or class type can be assigned to a pointer of type `void*`**"
   ]
  },
  {
   "cell_type": "markdown",
   "metadata": {
    "slideshow": {
     "slide_type": "subslide"
    }
   },
   "source": [
    "## Cannot Dereference a `void*`\n",
    "\n",
    "- A `void*` pointer cannot be dereferenced.\n",
    "\n",
    "- The compiler \"knows\" that an `int*` points to four bytes of memory on a machine with four-byte integers - dereferencing an `int*` creates an *lvalue* that is an alias for the `int`s four bytes in memory.\n",
    "\n",
    "- A `void*` simply contains a memory address for an unknown data type.\n",
    "\n",
    "    - You cannot dereference a `void*` because the compiler does not know the type of the data to which the pointer refers and thus not the number of bytes."
   ]
  },
  {
   "cell_type": "markdown",
   "metadata": {
    "slideshow": {
     "slide_type": "slide"
    }
   },
   "source": [
    "## Pointer/Offset Notation\n",
    "\n",
    "- Built-in array element `b[3]` can alternatively be referenced with the pointer expression\n",
    "```c++\n",
    "*(bPtr+3)\n",
    "```\n",
    "- The **3** in the preceding expression is the **offset** to the pointer.\n",
    "- This notation is referred to as **pointer/offset notation**.\n",
    "    - The parentheses are necessary, because the precedence of `*` is higher than that of `+`."
   ]
  }
 ],
 "metadata": {
  "celltoolbar": "Slideshow",
  "jupytext": {
   "cell_metadata_filter": "-all",
   "main_language": "python",
   "notebook_metadata_filter": "-all"
  },
  "kernelspec": {
   "display_name": "C++14",
   "language": "C++14",
   "name": "xcpp14"
  },
  "language_info": {
   "codemirror_mode": "text/x-c++src",
   "file_extension": ".cpp",
   "mimetype": "text/x-c++src",
   "name": "c++",
   "version": "-std=c++14"
  }
 },
 "nbformat": 4,
 "nbformat_minor": 4
}
