{
 "cells": [
  {
   "cell_type": "code",
   "execution_count": 1,
   "metadata": {
    "slideshow": {
     "slide_type": "skip"
    }
   },
   "outputs": [],
   "source": [
    "#include <iostream>\n",
    "using namespace std;"
   ]
  },
  {
   "cell_type": "markdown",
   "metadata": {
    "slideshow": {
     "slide_type": "slide"
    }
   },
   "source": [
    "# Functions"
   ]
  },
  {
   "cell_type": "markdown",
   "metadata": {
    "slideshow": {
     "slide_type": "slide"
    }
   },
   "source": [
    "## Intro\n",
    "\n",
    "Develop and maintain a large program by constructing it from small, simple pieces, or components.\n",
    "\n",
    "    divide and conquer\n",
    "\n",
    "Emphasize how to declare and use **functions** to facilitate the design, implementation, operation and maintenance of large programs.\n",
    "\n",
    "- Function prototypes\n",
    "- Function overloading\n",
    "- Function templates\n",
    "- Recursion"
   ]
  },
  {
   "cell_type": "code",
   "execution_count": null,
   "metadata": {
    "slideshow": {
     "slide_type": "slide"
    }
   },
   "outputs": [],
   "source": [
    "// math f(x) = x^2\n",
    "double val = x*x;\n",
    "double val = f(x);"
   ]
  },
  {
   "cell_type": "markdown",
   "metadata": {
    "slideshow": {
     "slide_type": "slide"
    }
   },
   "source": [
    "## General\n",
    "\n",
    "Functions allow you to **modularize** a program by separating its tasks into self-contained units.\n",
    "\n",
    "- To promote software reusability, every function should be limited to performing a single, well-defined task, and the name of the function should express that task effectively.\n",
    "\n",
    "A function is invoked by a **function call**, and when the called function completes its task:\n",
    "- it either **returns a result**,\n",
    "- or simply **returns control** to the caller.\n",
    "\n",
    "This hiding of implementation details promotes good software engineering."
   ]
  },
  {
   "cell_type": "markdown",
   "metadata": {
    "slideshow": {
     "slide_type": "slide"
    }
   },
   "source": [
    "## Global Functions\n",
    "\n",
    "Sometimes functions are not members of a class. They are called **global functions**.\n",
    "\n",
    "*Example:* The `<cmath>` header provides a collection of functions that enable you to perform common mathematical calculations.\n",
    "- All functions in the `<cmath>` header are global functions\n",
    "- Each is called simply by specifying the name of the function followed by parentheses containing the function's arguments.\n"
   ]
  },
  {
   "cell_type": "markdown",
   "metadata": {
    "slideshow": {
     "slide_type": "slide"
    }
   },
   "source": [
    "## Problem\n",
    "\n",
    "Write program that returns the largest of three inputted integer numbers."
   ]
  },
  {
   "cell_type": "code",
   "execution_count": null,
   "metadata": {
    "slideshow": {
     "slide_type": "fragment"
    }
   },
   "outputs": [],
   "source": [
    "#include <iostream>\n",
    "using namespace std;\n",
    "\n",
    "int main()\n",
    "{\n",
    "    int a, b, c;\n",
    "    cout << \"Enter three integer numbers: \";\n",
    "    cin >> a >> b >> c;\n",
    "    \n",
    "    int maxval = a;\n",
    "    // determine if b is larger than maximum\n",
    "    if (maxval < b) {\n",
    "        maxval = b; // make b new maximum\n",
    "    }\n",
    "    // determine if c is larger than maximum\n",
    "    if (maxval < c) {\n",
    "        maxval = c; // make c new maximum\n",
    "    }\n",
    "    cout << \"Maximum number is \" << maxval << endl;\n",
    "}"
   ]
  },
  {
   "cell_type": "markdown",
   "metadata": {
    "slideshow": {
     "slide_type": "slide"
    }
   },
   "source": [
    "Rewrite above problem with function."
   ]
  },
  {
   "cell_type": "code",
   "execution_count": null,
   "metadata": {
    "slideshow": {
     "slide_type": "fragment"
    }
   },
   "outputs": [],
   "source": [
    "#include <iostream>\n",
    "using namespace std;\n",
    "\n",
    "int maximum(int, int, int z); // function prototype\n",
    "\n",
    "int main()\n",
    "{\n",
    "    int a, b, c;\n",
    "    cout << \"Enter three integer numbers: \";\n",
    "    cin >> a >> b >> c;\n",
    "\n",
    "    cout << \"Maximum number is \" << maximum(a,b,c) << endl;\n",
    "}\n",
    "\n",
    "int maximum(int x, int y, int z) // function implementation\n",
    "{\n",
    "    int maxval = x;\n",
    "    // determine if y is larger than maximum\n",
    "    if (maxval < y) {\n",
    "        int m;\n",
    "        maxval = y; // make y new maximum\n",
    "    }\n",
    "    // determine if z is larger than maximum\n",
    "    if (maxval < z) {\n",
    "        maxval = z; // make z new maximum\n",
    "    }\n",
    "    return maxval;\n",
    "}"
   ]
  },
  {
   "cell_type": "markdown",
   "metadata": {
    "cell_style": "center",
    "lines_to_next_cell": 0,
    "slideshow": {
     "slide_type": "slide"
    }
   },
   "source": [
    "## Function Prototypes\n",
    "\n",
    "You must either **define the function before using it** or you must **declare that the function exists** through function prototype:\n",
    "```c++\n",
    "<return_type> <function_name>(<par1_type>, <par2_type>, ...);\n",
    "```"
   ]
  },
  {
   "cell_type": "markdown",
   "metadata": {
    "slideshow": {
     "slide_type": "fragment"
    }
   },
   "source": [
    "A function prototype is a declaration of a function tells the compiler\n",
    "- the function's name,\n",
    "- its return type,\n",
    "- and the types of its parameters."
   ]
  },
  {
   "cell_type": "markdown",
   "metadata": {
    "slideshow": {
     "slide_type": "slide"
    }
   },
   "source": [
    "## Function Prototypes (cont.)\n",
    "\n",
    "This is a function prototype, which describes the maximum function without revealing its implementation."
   ]
  },
  {
   "cell_type": "code",
   "execution_count": null,
   "metadata": {
    "lines_to_next_cell": 0,
    "slideshow": {
     "slide_type": "fragment"
    }
   },
   "outputs": [],
   "source": [
    "int maximum(int, int y, int z); // function prototype"
   ]
  },
  {
   "cell_type": "markdown",
   "metadata": {
    "slideshow": {
     "slide_type": "fragment"
    }
   },
   "source": [
    "Above prototype indicates that the function returns an `int`, has the name `maximum` and requires **three** `int` parameters to perform its task.\n",
    "- The function prototype is the same as the first line of the corresponding function definition, but ends with a required semicolon."
   ]
  },
  {
   "cell_type": "markdown",
   "metadata": {
    "slideshow": {
     "slide_type": "slide"
    }
   },
   "source": [
    "## Function Prototypes (cont.)\n",
    "\n",
    "A function prototype is required unless the function is defined before it's used.\n",
    "- When you use a standard library function like `sqrt`, you do not have access to the function's definition, therefore it cannot be defined in your code before you call the function.\n",
    "- Instead, you must include its corresponding header (`<cmath>`), which contains the function's prototype.\n",
    "\n",
    "**Always provide function prototypes**, even though it's possible to omit them when functions are defined before they're used.\n",
    "- Providing the prototypes avoids tying the code to the order in which functions are defined (which can easily change as a program evolves)."
   ]
  },
  {
   "cell_type": "markdown",
   "metadata": {
    "slideshow": {
     "slide_type": "slide"
    }
   },
   "source": [
    "## Tips\n",
    "\n",
    "- Parameter names in function prototypes are optional (they're ignored by the compiler), but many programmers use these names for documentation purposes.\n",
    "\n",
    "- Declaring function parameters of the same type as `int x, y` instead of `int x, int y` is a syntax error - a **type** is required for each parameter in the parameter list.\n",
    "\n",
    "- Compilation (linker) errors occur if the function prototype, header and calls do not all agree in the number, type and order of arguments and parameters, and in the return type."
   ]
  },
  {
   "cell_type": "markdown",
   "metadata": {
    "slideshow": {
     "slide_type": "slide"
    }
   },
   "source": [
    "## Tips (cont.)\n",
    "\n",
    "- A function that has many parameters may be performing too many tasks. Consider dividing the function into smaller functions that perform the separate tasks. Limit the function header to one line if possible.\n",
    "\n",
    "- Multiple parameters are specified in both the function prototype and the function header as a comma-separated list, as are multiple arguments in a function call.\n",
    "\n",
    "- In a function that **does not return** a result (i.e., it has a void return type), we showed that control returns when the program reaches the function-ending right brace.\n",
    "    - You also can explicitly return control to the caller by executing the statement `return;`"
   ]
  },
  {
   "cell_type": "markdown",
   "metadata": {
    "lines_to_next_cell": 0,
    "slideshow": {
     "slide_type": "slide"
    }
   },
   "source": [
    "## Argument Coercion\n",
    "\n",
    "An important feature of function prototypes is **argument coercion**:\n",
    "- forcing arguments to the appropriate types specified by the parameter declarations.\n",
    "- these conversions occur as specified by C++'s promotion rules.\n",
    "\n",
    "The promotion rules indicate how to convert between types without losing data.\n",
    "- The promotion rules apply to expressions containing values of two or more data types.\n",
    "- The type of each value in a mixed-type expression is promoted to the \"highest\" type in the expression.\n",
    "- Converting values to lower fundamental types can result in incorrect values.\n",
    "    - a value can be converted to a lower fundamental type only by explicitly assigning the value to a variable of lower type or by using a cast operator."
   ]
  },
  {
   "cell_type": "markdown",
   "metadata": {
    "lines_to_next_cell": 0,
    "slideshow": {
     "slide_type": "slide"
    }
   },
   "source": [
    "## Argument Coercion (cont.)\n",
    "\n",
    "Lists the arithmetic data types in order from \"highest type\" to \"lowest type.\"\n",
    "![Promotion Hierarchy](../img/typehier.png)"
   ]
  },
  {
   "cell_type": "markdown",
   "metadata": {
    "lines_to_next_cell": 0,
    "slideshow": {
     "slide_type": "slide"
    }
   },
   "source": [
    "## Random Number Generator\n",
    "\n",
    "The function **rand** generates an unsigned integer between `0` and `RAND_MAX`.\n",
    "\n",
    "- The function prototype for the **rand** function is in `<cstdlib>`.\n",
    "- The value of `RAND_MAX` must be at least 32767 - the maximum positive value for a two-byte (16-bit) integer (a symbolic constant defined in the `<cstdlib>` header file).\n",
    "- For GNU C++, the value of `RAND_MAX` is 2147483647; for Visual Studio, the value of `RAND_MAX` is 32767.\n",
    "- If **rand** truly produces integers at random, every number between `0` and `RAND_MAX` has an equal chance (or probability) of being chosen each time **rand** is called.\n",
    "\n",
    "**rand** generates pseudorandom numbers:\n",
    "- a sequence of numbers that appears to be random.\n",
    "- sequence repeats itself each time the program executes."
   ]
  },
  {
   "cell_type": "markdown",
   "metadata": {
    "lines_to_next_cell": 0,
    "slideshow": {
     "slide_type": "slide"
    }
   },
   "source": [
    "## Random Number Generator (cont.)\n",
    "\n",
    "Program can be conditioned to produce a different sequence of random numbers for each execution.\n",
    "- This is called *randomizing* and is accomplished with the C++ Standard Library function **srand**.\n",
    "- Takes an unsigned integer argument and seeds **rand** to produce a different sequence of random numbers for each execution.\n",
    "\n",
    "To randomize without having to enter a seed use"
   ]
  },
  {
   "cell_type": "code",
   "execution_count": null,
   "metadata": {
    "lines_to_next_cell": 0,
    "slideshow": {
     "slide_type": "fragment"
    }
   },
   "outputs": [],
   "source": [
    "srand(static_cast<unsigned>(time(0)))"
   ]
  },
  {
   "cell_type": "markdown",
   "metadata": {
    "slideshow": {
     "slide_type": "fragment"
    }
   },
   "source": [
    "- Causes the computer to read its clock to obtain the value for the seed.\n",
    "- Function **time** (with the argument 0 as written in the preceding statement) returns the current time as the number of seconds since January 1, 1970.\n",
    "- The function prototype for time is in `<ctime>`."
   ]
  },
  {
   "cell_type": "code",
   "execution_count": 3,
   "metadata": {
    "slideshow": {
     "slide_type": "slide"
    }
   },
   "outputs": [
    {
     "name": "stdout",
     "output_type": "stream",
     "text": [
      "0.955622\n",
      "0.572393\n",
      "0.100292\n",
      "0.882096\n",
      "0.447111\n"
     ]
    }
   ],
   "source": [
    "{\n",
    "    for(int i=0; i<5; ++i)\n",
    "        cout << rand() / (float)RAND_MAX << endl;\n",
    "}"
   ]
  },
  {
   "cell_type": "code",
   "execution_count": 4,
   "metadata": {
    "slideshow": {
     "slide_type": "fragment"
    }
   },
   "outputs": [
    {
     "name": "stdout",
     "output_type": "stream",
     "text": [
      "2\n",
      "0\n",
      "1\n",
      "1\n",
      "0\n"
     ]
    }
   ],
   "source": [
    "#include <cstdlib>\n",
    "{\n",
    "    srand(static_cast<unsigned>(time(0)));\n",
    "    for(int i=0; i<5; ++i)\n",
    "        cout << rand() % 3 << endl;\n",
    "}"
   ]
  },
  {
   "cell_type": "markdown",
   "metadata": {
    "slideshow": {
     "slide_type": "slide"
    }
   },
   "source": [
    "## Scope\n",
    "\n",
    "The portion of the program where an identifier can be used is known as its **scope**.\n",
    "- block scope\n",
    "- global namespace scope"
   ]
  },
  {
   "cell_type": "markdown",
   "metadata": {
    "slideshow": {
     "slide_type": "slide"
    }
   },
   "source": [
    "## Scope (cont.)\n",
    "\n",
    "Identifiers declared **inside** a block have **block scope**, which begins at the identifier's declaration and ends at the terminating right brace (}) of the enclosing block.\n",
    "- Local variables have block scope, as do function parameters.\n",
    "- Any block can contain variable declarations.\n",
    "- In nested blocks, if an identifier in an outer block has the same name as an identifier in an inner block, the one in the outer block is \"hidden\" until the inner block terminates.\n",
    "- The inner block \"sees\" its own local variable's value and not that of the enclosing block's identically named variable.\n",
    "\n",
    "_Note: Avoid variable names in inner scopes that hide names in outer scopes. Most compilers will warn you about this issue._"
   ]
  },
  {
   "cell_type": "markdown",
   "metadata": {
    "slideshow": {
     "slide_type": "slide"
    }
   },
   "source": [
    "## Example"
   ]
  },
  {
   "cell_type": "code",
   "execution_count": 5,
   "metadata": {
    "slideshow": {
     "slide_type": "fragment"
    }
   },
   "outputs": [
    {
     "name": "stdout",
     "output_type": "stream",
     "text": [
      "1\n"
     ]
    }
   ],
   "source": [
    "{\n",
    "    int a{1};\n",
    "    {\n",
    "        int b{2};\n",
    "        {\n",
    "            int c{3};\n",
    "        }        \n",
    "//         cout << c << endl; // error \n",
    "    }\n",
    "    cout << a << endl;\n",
    "//     cout << b << endl; // error \n",
    "}"
   ]
  },
  {
   "cell_type": "markdown",
   "metadata": {
    "slideshow": {
     "slide_type": "slide"
    }
   },
   "source": [
    "## Scope (cont.)\n",
    "\n",
    "An identifier declared **outside** any function or class has **global namespace scope**.\n",
    "- \"known\" in all functions from the point at which it’s declared until the end of the file.\n",
    "- Function definitions, function prototypes placed outside a function, class definitions and global variables all have global namespace scope.\n",
    "- Global variables are created by placing variable declarations outside any class or function definition. Such variables retain their values throughout a program’s execution.\n",
    "\n",
    "_Note: Variables used only in a particular function should be declared as local variables in that function rather than as global variables._"
   ]
  },
  {
   "cell_type": "code",
   "execution_count": null,
   "metadata": {
    "slideshow": {
     "slide_type": "slide"
    }
   },
   "outputs": [],
   "source": [
    "// Scoping example.\n",
    "#include <iostream>\n",
    "using namespace std;\n",
    "\n",
    "void useLocal(); // function prototype\n",
    "void useStaticLocal(); // function prototype\n",
    "void useGlobal(); // function prototype\n",
    "\n",
    "int x{1}; // global variable\n",
    "\n",
    "int main() {\n",
    "   cout << \"global x in main is \" << x << endl;\n",
    "\n",
    "   int x{5}; // local variable to main\n",
    "\n",
    "   cout << \"local x in main's outer scope is \" << x << endl;\n",
    "\n",
    "   { // block starts a new scope\n",
    "      int x{7}; // hides both x in outer scope and global x\n",
    "\n",
    "      cout << \"local x in main's inner scope is \" << x << endl;\n",
    "   }\n",
    "\n",
    "   cout << \"local x in main's outer scope is \" << x << endl;\n",
    "\n",
    "   useLocal(); // useLocal has local x\n",
    "   useStaticLocal(); // useStaticLocal has static local x\n",
    "   useGlobal(); // useGlobal uses global x\n",
    "   useLocal(); // useLocal reinitializes its local x\n",
    "   useStaticLocal(); // static local x retains its prior value\n",
    "   useGlobal(); // global x also retains its prior value\n",
    "\n",
    "   cout << \"\\nlocal x in main is \" << x << endl;\n",
    "}\n",
    "\n",
    "// useLocal reinitializes local variable x during each call\n",
    "void useLocal() {\n",
    "   int x{25}; // initialized each time useLocal is called\n",
    "\n",
    "   cout << \"\\nlocal x is \" << x << \" on entering useLocal\" << endl;\n",
    "   ++x;\n",
    "   cout << \"local x is \" << x << \" on exiting useLocal\" << endl;\n",
    "}\n",
    "\n",
    "// useStaticLocal initializes static local variable x only the\n",
    "// first time the function is called; value of x is saved\n",
    "// between calls to this function\n",
    "void useStaticLocal() {\n",
    "   static int x{50}; // initialized first time useStaticLocal is called\n",
    "\n",
    "   cout << \"\\nlocal static x is \" << x << \" on entering useStaticLocal\" << endl;\n",
    "   ++x;\n",
    "   cout << \"local static x is \" << x << \" on exiting useStaticLocal\" << endl;\n",
    "}\n",
    "\n",
    "// useGlobal modifies global variable x during each call\n",
    "void useGlobal() {\n",
    "   cout << \"\\nglobal x is \" << x << \" on entering useGlobal\" << endl;\n",
    "   x *= 10;\n",
    "   cout << \"global x is \" << x << \" on exiting useGlobal\" << endl;\n",
    "}"
   ]
  },
  {
   "cell_type": "markdown",
   "metadata": {
    "slideshow": {
     "slide_type": "slide"
    }
   },
   "source": [
    "### Unary Scope Resolution Operator\n",
    "\n",
    "- C++ provides the **unary scope resolution operator (::)** to access a global variable when a local variable of the same name is in scope.\n",
    "- Using the unary scope resolution operator (::) with a given variable name is optional when the only variable with that name is a global variable."
   ]
  },
  {
   "cell_type": "code",
   "execution_count": null,
   "metadata": {
    "slideshow": {
     "slide_type": "fragment"
    }
   },
   "outputs": [],
   "source": [
    "// Unary scope resolution operator.\n",
    "#include <iostream>\n",
    "using namespace std;\n",
    "\n",
    "int number{7}; // global variable named number\n",
    "\n",
    "int main() {\n",
    "   double number{10.5}; // local variable named number\n",
    "\n",
    "   // display values of local and global variables\n",
    "   cout << \"Local double value of number = \" << number\n",
    "      << \"\\nGlobal int value of number = \" << ::number << endl;\n",
    "}"
   ]
  },
  {
   "cell_type": "markdown",
   "metadata": {
    "slideshow": {
     "slide_type": "slide"
    }
   },
   "source": [
    "## Tips\n",
    "\n",
    "- Always using the unary scope resolution operator (::) to refer to global variables (even if there is no collision with a local-variable name) makes it clear that you're intending to access a global variable rather than a local variable.\n",
    "    - Always using the unary scope resolution operator (::) to refer to a global variable eliminates logic errors that might occur if a nonglobal variable hides the global variable.\n",
    "- Avoid using variables of the same name for different purposes in a program. Although this is allowed in various circumstances, it can lead to errors."
   ]
  },
  {
   "cell_type": "markdown",
   "metadata": {
    "slideshow": {
     "slide_type": "slide"
    }
   },
   "source": [
    "## Function Call Stack\n",
    "\n",
    "To understand how C++ performs function calls, we first need to consider a data structure (i.e., collection of related data items) known as a **stack**. It is analogous to a pile of dishes.\n",
    "- When a dish is placed on the pile, it's normally placed at the top - referred to as **pushing**.\n",
    "- Similarly, when a dish is removed from the pile, it's normally removed from the top - referred to as **popping**.\n",
    "\n",
    "Last-in, first-out (**LIFO**) data structures - the last item pushed (inserted) is the first item popped (removed).\n",
    "\n",
    "Function call stack mechanism:\n",
    "\n",
    "- supports the function call/return mechanism\n",
    "- supports the creation, maintenance and destruction of each called function's automatic variables"
   ]
  },
  {
   "cell_type": "markdown",
   "metadata": {
    "slideshow": {
     "slide_type": "slide"
    }
   },
   "source": [
    "## Stack Frames\n",
    "\n",
    "- Each function eventually must return control to the function that called it.\n",
    "- Each time a function calls another function, an entry is pushed onto the function call stack.\n",
    "    - This entry, called a stack frame or an activation record, contains the return address that the called function needs in order to return to the calling function.\n",
    "- When a function call returns, the stack frame for the function call is popped, and control transfers to the return address in the popped stack frame."
   ]
  },
  {
   "cell_type": "markdown",
   "metadata": {
    "slideshow": {
     "slide_type": "slide"
    }
   },
   "source": [
    "## Stack Overflow\n",
    "\n",
    "- The amount of memory in a computer is finite, so only a certain amount of memory can be used to store activation records on the function call stack.\n",
    "- If more function calls occur than can have their activation records stored on the function call stack, an a fatal error known as stack overflow occurs."
   ]
  },
  {
   "cell_type": "markdown",
   "metadata": {
    "slideshow": {
     "slide_type": "slide"
    }
   },
   "source": [
    "## Example"
   ]
  },
  {
   "cell_type": "code",
   "execution_count": null,
   "metadata": {
    "slideshow": {
     "slide_type": "fragment"
    }
   },
   "outputs": [],
   "source": [
    "#include <iostream>\n",
    "using namespace std;\n",
    "\n",
    "int square(int); // prototype\n",
    "\n",
    "int main() {\n",
    "    int a = 10;\n",
    "    cout << a << \" squared: \" << square(a) << endl;\n",
    "}\n",
    "\n",
    "int square(int x){ // x is a local variable\n",
    "    return x*x;\n",
    "}"
   ]
  },
  {
   "cell_type": "markdown",
   "metadata": {
    "slideshow": {
     "slide_type": "subslide"
    }
   },
   "source": [
    "First, the operating system calls `main` - this pushes an activation record onto the stack.\n",
    "- The activation record tells main how to return to the operating system (i.e., transfer to return address R1) and contains the space for main's automatic variable (i.e., a, which is initialized to 10).\n",
    "\n",
    "![stack1](../img/fstack1.png)"
   ]
  },
  {
   "cell_type": "markdown",
   "metadata": {
    "slideshow": {
     "slide_type": "subslide"
    }
   },
   "source": [
    "Function `main` - before returning to the operating system - now calls function `square`.\n",
    "- This causes a stack frame for `square` to be pushed onto the function call stack.\n",
    "- This stack frame contains the return address that square needs to return to main (i.e., R2) and the memory for square's automatic variable (i.e., x).\n",
    "\n",
    "![stack2](../img/fstack2.png)"
   ]
  },
  {
   "cell_type": "markdown",
   "metadata": {
    "slideshow": {
     "slide_type": "subslide"
    }
   },
   "source": [
    "After square calculates the square of its argument, it needs to return to `main` - and no longer needs the memory for its automatic variable x. So `square` stack frame is popped from the stack - giving square the return location in main (i.e., R2) and losing square's automatic variable.\n",
    "\n",
    "![stack3](../img/fstack3.png)"
   ]
  },
  {
   "cell_type": "markdown",
   "metadata": {
    "slideshow": {
     "slide_type": "slide"
    }
   },
   "source": [
    "## References and Reference Parameters\n",
    "\n",
    "Two ways to pass arguments to functions in many programming languages are\n",
    "- **pass-by-value**\n",
    "- **pass-by-reference**\n",
    "\n",
    "![Pass](../img/pass-by-reference-vs-pass-by-value-animation.gif)"
   ]
  },
  {
   "cell_type": "markdown",
   "metadata": {
    "slideshow": {
     "slide_type": "slide"
    }
   },
   "source": [
    "## Pass-by-Value\n",
    "\n",
    "When an argument is __passed by value__, a copy of the argument's value is made and passed (on the function call stack) to the called function.\n",
    "- Changes to the copy do not affect the original variable's value in the caller.\n",
    "    - To specify a reference to a constant, place the `const` qualifier before the type specifier in the parameter declaration.\n",
    "\n",
    "- One disadvantage of pass-by-value is that, if a large data item is being passed, copying that data can take a considerable amount of execution time and memory space."
   ]
  },
  {
   "cell_type": "markdown",
   "metadata": {
    "slideshow": {
     "slide_type": "slide"
    }
   },
   "source": [
    "## Pass-by-Reference\n",
    "\n",
    "With __pass-by-reference__, the caller gives the called function the ability to access the caller's data directly, and to modify that data.\n",
    "- A reference parameter is an alias for its corresponding argument in a function call.\n",
    "- To indicate that a function parameter is passed by reference, simply follow the parameter's type in the function prototype by an ampersand (&); use the same convention when listing the parameter's type in the function header.\n",
    "- Pass-by-reference is good for performance reasons, because it can eliminate the pass-by-value overhead of copying large amounts of data."
   ]
  },
  {
   "cell_type": "code",
   "execution_count": null,
   "metadata": {
    "slideshow": {
     "slide_type": "slide"
    }
   },
   "outputs": [],
   "source": [
    "// Passing arguments by value and by reference.\n",
    "#include <iostream>\n",
    "using namespace std;\n",
    "\n",
    "int squareByValue(int); // function prototype (value pass)\n",
    "void squareByReference(int&); // function prototype (reference pass)\n",
    "\n",
    "int main() {\n",
    "   int x{2}; // value to square using squareByValue\n",
    "   int z{4}; // value to square using squareByReference\n",
    "\n",
    "   // demonstrate squareByValue\n",
    "   cout << \"x = \" << x << \" before squareByValue\\n\";\n",
    "   cout << \"Value returned by squareByValue: \"\n",
    "      << squareByValue(x) << endl;\n",
    "   cout << \"x = \" << x << \" after squareByValue\\n\" << endl;\n",
    "\n",
    "   // demonstrate squareByReference\n",
    "   cout << \"z = \" << z << \" before squareByReference\" << endl;\n",
    "   squareByReference(z);\n",
    "   cout << \"z = \" << z << \" after squareByReference\" << endl;\n",
    "}\n",
    "\n",
    "// squareByValue multiplies number by itself, stores the\n",
    "// result in number and returns the new value of number\n",
    "int squareByValue(int number) {\n",
    "   return number *= number; // caller's argument not modified\n",
    "}\n",
    "\n",
    "// squareByReference multiplies numberRef by itself and stores the result\n",
    "// in the variable to which numberRef refers in function main\n",
    "void squareByReference(int& numberRef) {\n",
    "   numberRef *= numberRef; // caller's argument modified\n",
    "}"
   ]
  },
  {
   "cell_type": "markdown",
   "metadata": {
    "slideshow": {
     "slide_type": "slide"
    }
   },
   "source": [
    "## References\n",
    "\n",
    "- References can also be used as aliases for other variables within a function.\n",
    "- Reference variables must be initialized in their declarations and cannot be reassigned as aliases to other variables.\n",
    "- Once a reference is declared as an alias for another variable, all operations supposedly performed on the alias are actually performed on the original variable.\n",
    "- To specify that a reference parameter should not be allowed to modify the corresponding argument, place the `const` qualifier before the type name in the parameter's declaration.\n",
    "- `string` objects can be large, so they should be passed to functions by reference."
   ]
  },
  {
   "cell_type": "markdown",
   "metadata": {
    "slideshow": {
     "slide_type": "slide"
    }
   },
   "source": [
    "## References (cont.)\n",
    "\n",
    "Functions can return references, but this can be dangerous.\n",
    "- When returning a reference to a variable declared in the called function, the variable should be declared static in that function.\n",
    "- Returning a reference to a local variable in a called function is a **logic error** for which compilers typically issue a warning.\n",
    "- Compilation warnings indicate potential problems, so most software-engineering teams have policies requiring code to compile without warnings.\n"
   ]
  },
  {
   "cell_type": "markdown",
   "metadata": {
    "slideshow": {
     "slide_type": "slide"
    }
   },
   "source": [
    "## Function Overloading\n",
    "\n",
    "- C++ enables several functions of the same name to be defined, as long as they have different signatures.\n",
    "- This is called **function overloading**.\n",
    "- The C++ compiler selects the proper function to call by examining the number, types and order of the arguments in the call.\n",
    "- Function overloading is used to create several functions of the same name that perform similar tasks, but on different data types."
   ]
  },
  {
   "cell_type": "code",
   "execution_count": null,
   "metadata": {
    "slideshow": {
     "slide_type": "slide"
    }
   },
   "outputs": [],
   "source": [
    "// Overloaded square functions.\n",
    "#include <iostream>\n",
    "using namespace std;\n",
    "\n",
    "// function square for int values\n",
    "int square(int x) {\n",
    "   cout << \"square of integer \" << x << \" is \";\n",
    "   return x * x;\n",
    "}\n",
    "\n",
    "// function square for double values\n",
    "double square(double y) {\n",
    "   cout << \"square of double \" << y << \" is \";\n",
    "   return y * y;\n",
    "}\n",
    "\n",
    "int main() {\n",
    "   cout << square(7); // calls int version\n",
    "   cout << endl;\n",
    "   cout << square(7.5); // calls double version\n",
    "   cout << endl;\n",
    "}"
   ]
  },
  {
   "cell_type": "markdown",
   "metadata": {
    "slideshow": {
     "slide_type": "slide"
    }
   },
   "source": [
    "## Function Overloading (cont.)\n",
    "\n",
    "Compiler differentiates among overloaded functions.\n",
    "- Overloaded functions are distinguished by their signatures.\n",
    "    - A signature is a combination of a function's name and its parameter types (in order).\n",
    "- The compiler encodes each function identifier with the types of its parameters."
   ]
  },
  {
   "cell_type": "markdown",
   "metadata": {
    "slideshow": {
     "slide_type": "slide"
    }
   },
   "source": [
    "## Function Templates\n",
    "\n",
    "- If the program logic and operations are identical for each data type, overloading may be performed more compactly and conveniently by using function templates.\n",
    "- You write a single function template definition.\n",
    "- Given the argument types provided in calls to this function, C++ automatically generates separate **function template specializations** to handle each type of call appropriately.\n",
    "- All function template definitions begin with the **template** keyword followed by a **template parameter list** enclosed in angle brackets (< and >).\n",
    "- Every parameter in the template parameter list is preceded by keyword typename or keyword class.\n",
    "- The type parameters are placeholders for fundamental types or user-defined types.\n",
    "    - Used to specify the types of the function’s parameters, to specify the function’s return type and to declare variables within the body of the function definition."
   ]
  },
  {
   "cell_type": "code",
   "execution_count": 1,
   "metadata": {
    "lines_to_next_cell": 0,
    "slideshow": {
     "slide_type": "slide"
    }
   },
   "outputs": [],
   "source": [
    "// Function template maximum header.\n",
    "template <typename T>  // or template<class T>\n",
    "T maximum(T value1, T value2, T value3) {\n",
    "   T maximumValue{value1}; // assume value1 is maximum\n",
    "   // determine whether value2 is greater than maximumValue\n",
    "   if (value2 > maximumValue) {\n",
    "      maximumValue = value2;\n",
    "   }\n",
    "   // determine whether value3 is greater than maximumValue\n",
    "   if (value3 > maximumValue) {\n",
    "      maximumValue = value3;\n",
    "   }\n",
    "   return maximumValue;\n",
    "}"
   ]
  },
  {
   "cell_type": "code",
   "execution_count": 6,
   "metadata": {
    "slideshow": {
     "slide_type": "fragment"
    }
   },
   "outputs": [
    {
     "data": {
      "text/plain": [
       "3"
      ]
     },
     "execution_count": 6,
     "metadata": {},
     "output_type": "execute_result"
    }
   ],
   "source": [
    "maximum(1, 2, 3)"
   ]
  },
  {
   "cell_type": "code",
   "execution_count": 7,
   "metadata": {
    "slideshow": {
     "slide_type": "fragment"
    }
   },
   "outputs": [
    {
     "data": {
      "text/plain": [
       "3.5"
      ]
     },
     "execution_count": 7,
     "metadata": {},
     "output_type": "execute_result"
    }
   ],
   "source": [
    "maximum(1.0, 3.0, 3.5)"
   ]
  },
  {
   "cell_type": "code",
   "execution_count": 8,
   "metadata": {
    "slideshow": {
     "slide_type": "fragment"
    }
   },
   "outputs": [
    {
     "name": "stderr",
     "output_type": "stream",
     "text": [
      "\u001b[1minput_line_21:3:24: \u001b[0m\u001b[0;1;35mwarning: \u001b[0m\u001b[1mimplicit conversion from 'double' to 'int' changes value from 3.5 to 3\n",
      "      [-Wliteral-conversion]\u001b[0m\n",
      "maximum<int>(1.0, 3.0, 3.5)\n",
      "\u001b[0;1;32m~~~~~~~                ^~~\n",
      "\u001b[0m"
     ]
    },
    {
     "data": {
      "text/plain": [
       "3"
      ]
     },
     "execution_count": 8,
     "metadata": {},
     "output_type": "execute_result"
    }
   ],
   "source": [
    "// force type parameter during the function call\n",
    "maximum<int>(1.0, 3.0, 3.5)"
   ]
  },
  {
   "cell_type": "markdown",
   "metadata": {
    "slideshow": {
     "slide_type": "slide"
    }
   },
   "source": [
    "## Recursion\n",
    "\n",
    "A **recursive function** is a function that calls itself, either directly, or indirectly (through another function).\n",
    "\n",
    "Recursive problem-solving approaches have a number of elements in common.\n",
    "- A recursive function is called to solve a problem.\n",
    "- The function actually knows how to solve only the simplest case(s), or so-called base case(s).\n",
    "- If the function is called with a **base case**, the function simply returns a result (value).\n",
    "- If the function is called with a more complex problem, it typically divides the problem into two conceptual pieces - a piece that the function knows how to do and a piece that it does not know how to do.\n",
    "- This new problem looks like the original, so the function calls a copy of itself to work on the smaller problem - this is referred to as a **recursive call** and is also called the **recursion step**.\n"
   ]
  },
  {
   "cell_type": "markdown",
   "metadata": {
    "slideshow": {
     "slide_type": "slide"
    }
   },
   "source": [
    "## Example: Factorial\n",
    "\n",
    "Write a function that calculates a factorial value:\n",
    "\n",
    "$$n! = 1 \\cdot 2 \\cdot \\cdots \\cdot n$$\n",
    "\n",
    "- This is an iterative approach"
   ]
  },
  {
   "cell_type": "code",
   "execution_count": 45,
   "metadata": {
    "slideshow": {
     "slide_type": "fragment"
    }
   },
   "outputs": [],
   "source": [
    "// iterative definition of factorial function\n",
    "unsigned long factorial(unsigned int number) {\n",
    "   unsigned long result{1};\n",
    "\n",
    "   // iterative factorial calculation\n",
    "   for (unsigned int i{number}; i >= 1; --i) {\n",
    "      result *= i;\n",
    "   }\n",
    "\n",
    "   return result;\n",
    "}"
   ]
  },
  {
   "cell_type": "markdown",
   "metadata": {
    "slideshow": {
     "slide_type": "slide"
    }
   },
   "source": [
    "Recursive formula for the factorial function:\n",
    "\n",
    "$$n! = n \\cdot (n-1)!$$\n",
    "\n",
    "- Base case: if $n$ is 1 then $n!$ is 1"
   ]
  },
  {
   "cell_type": "code",
   "execution_count": null,
   "metadata": {
    "slideshow": {
     "slide_type": "fragment"
    }
   },
   "outputs": [],
   "source": [
    "// recursive definition of factorial function \n",
    "unsigned long factorial(unsigned long number) {\n",
    "   if (number <= 1) { // test for base case\n",
    "      return 1; // base cases: 0! = 1 and 1! = 1\n",
    "   }\n",
    "   else { // recursion step\n",
    "      return number * factorial(number - 1);\n",
    "   }\n",
    "}"
   ]
  },
  {
   "cell_type": "code",
   "execution_count": null,
   "metadata": {
    "slideshow": {
     "slide_type": "subslide"
    }
   },
   "outputs": [],
   "source": [
    "// Calling the factorial function\n",
    "#include <iostream>\n",
    "using namespace std;\n",
    "int main() {\n",
    "    unsigned int n;\n",
    "    cout << \"Enter an integer number: \";\n",
    "    cin >> n;    \n",
    "    cout << \"Factorial of \"<< n\n",
    "         << \" is \" << factorial(n) << endl;    \n",
    "    return 0;\n",
    "}"
   ]
  },
  {
   "cell_type": "markdown",
   "metadata": {
    "slideshow": {
     "slide_type": "slide"
    }
   },
   "source": [
    "![Factorial](../img/factorial-code-animation.gif)"
   ]
  },
  {
   "cell_type": "markdown",
   "metadata": {
    "slideshow": {
     "slide_type": "slide"
    }
   },
   "source": [
    "## Recursion\n",
    "\n",
    "- The recursion step often includes the key-word return, because its result will be combined with the portion of the problem the function knew how to solve to form the result passed back to the original caller, possibly main.\n",
    "- The recursion step executes while the original call to the function is still \"open\", i.e., it has not yet finished executing.\n",
    "- The recursion step can result in many more such recursive calls."
   ]
  },
  {
   "cell_type": "markdown",
   "metadata": {
    "slideshow": {
     "slide_type": "slide"
    }
   },
   "source": [
    "## Recursion vs Iteration\n",
    "\n",
    "Both iteration and recursion are based on a control statement:\n",
    "- Iteration uses an iteration statement\n",
    "- Recursion uses a selection statement.\n",
    "\n",
    "Both iteration and recursion involve iteration:\n",
    "- Iteration explicitly uses an iteration statement\n",
    "- Recursion achieves repetition through repeated function calls.\n",
    "\n",
    "Iteration and recursion each involve a termination test:\n",
    "- Iteration terminates when the loop-continuation condition fails\n",
    "- Recursion terminates when a base case is recognized."
   ]
  },
  {
   "cell_type": "markdown",
   "metadata": {
    "slideshow": {
     "slide_type": "slide"
    }
   },
   "source": [
    "## Recursion vs Iteration (cont.)\n",
    "\n",
    "Counter-controlled iteration and recursion both gradually approach termination:\n",
    "- Iteration modifies a counter until the counter assumes a value that makes the loop-continuation condition fail\n",
    "- Recursion produces simpler versions of the original problem until the base case is reached.\n",
    "\n",
    "Both iteration and recursion can occur infinitely:\n",
    "- An infinite loop occurs with iteration if the loop-continuation test never becomes false\n",
    "- Infinite recursion occurs if the recursion step does not reduce the problem during each recursive call in a manner that converges on the base case."
   ]
  }
 ],
 "metadata": {
  "celltoolbar": "Slideshow",
  "jupytext": {
   "cell_metadata_filter": "-all",
   "main_language": "c++",
   "notebook_metadata_filter": "-all"
  },
  "kernelspec": {
   "display_name": "C++11",
   "language": "C++11",
   "name": "xcpp11"
  },
  "language_info": {
   "codemirror_mode": "text/x-c++src",
   "file_extension": ".cpp",
   "mimetype": "text/x-c++src",
   "name": "c++",
   "version": "-std=c++11"
  }
 },
 "nbformat": 4,
 "nbformat_minor": 4
}
