{
 "cells": [
  {
   "cell_type": "code",
   "execution_count": 1,
   "metadata": {
    "slideshow": {
     "slide_type": "skip"
    }
   },
   "outputs": [],
   "source": [
    "#include <iostream>\n",
    "#include <array>\n",
    "#include <vector>\n",
    "using namespace std;"
   ]
  },
  {
   "cell_type": "markdown",
   "metadata": {
    "slideshow": {
     "slide_type": "slide"
    }
   },
   "source": [
    "# Arrays"
   ]
  },
  {
   "cell_type": "markdown",
   "metadata": {
    "slideshow": {
     "slide_type": "slide"
    }
   },
   "source": [
    "## Introduction\n",
    "\n",
    "Two new data structures - collections of related data items.\n",
    "- **arrays** which are fixed-size collections consisting of data items of the same type, and\n",
    "- **vectors** which are collections (also of data items of the same type) that can grow and shrink dynamically at execution time.\n",
    "\n",
    "Both array and vector are C++ standard library class templates."
   ]
  },
  {
   "cell_type": "markdown",
   "metadata": {
    "slideshow": {
     "slide_type": "slide"
    }
   },
   "source": [
    "## Arrays\n",
    "\n",
    "An **array** is a **contiguous group** of memory locations that all have the **same type**.\n",
    "\n",
    "To refer to a particular location or element in the array, *specify* the **name** of the array and the **position number** of the particular element.\n",
    "- The position number is more formally called a **subscript** or **index** (this number specifies the number of elements from the beginning of the array).\n",
    "\n",
    "- A subscript must be an integer or integer expression (using any integral type)."
   ]
  },
  {
   "cell_type": "markdown",
   "metadata": {
    "slideshow": {
     "slide_type": "slide"
    }
   },
   "source": [
    "## Elements\n",
    "\n",
    "- Each of the variables in an array is called an **element**.\n",
    "- Elements **do not have** their own unique **names**. \n",
    "- To access individual elements of an array, we **use the array name**, along with the **subscript operator (`[]`)**\n",
    "    - a parameter called a **subscript (or index)** that tells the compiler which element we want\n",
    "    - this process is called subscripting or indexing the array."
   ]
  },
  {
   "cell_type": "markdown",
   "metadata": {
    "slideshow": {
     "slide_type": "slide"
    }
   },
   "source": [
    "## Example\n",
    "\n",
    "- The **first element** in every array has subscript **0 (zero)** and is sometimes called the zeroth element.\n",
    "- The highest subscript in array c is 11, which is 1 less than the number of elements in the array (12).\n",
    "\n",
    "<img alt=\"Array\" src=\"../img/array.png\" style=\"width:50%\" />"
   ]
  },
  {
   "cell_type": "markdown",
   "metadata": {
    "slideshow": {
     "slide_type": "slide"
    }
   },
   "source": [
    "## Declaring Arrays\n",
    "\n",
    "Arrays occupy space in memory.\n",
    "- arrays can be declared to contain values of most data types.\n",
    "\n",
    "To specify the type of the elements and the number of elements required by an array use a declaration of the form:\n",
    "\n",
    "```c++\n",
    "array<type, arraySize> arrayName;\n",
    "```\n",
    "\n",
    "The notation `<type, arraySize>` indicates that array is a class template.\n",
    "- The compiler reserves the appropriate amount of memory based on the type of the elements and the arraySize.\n",
    "- This is C++11 style declaration, and it requires to include `<array>` header file."
   ]
  },
  {
   "cell_type": "code",
   "execution_count": 4,
   "metadata": {
    "slideshow": {
     "slide_type": "slide"
    }
   },
   "outputs": [
    {
     "name": "stdout",
     "output_type": "stream",
     "text": [
      "1: 10, 2: 20, 3: 30"
     ]
    }
   ],
   "source": [
    "{\n",
    "    array<int, 3> arr;\n",
    "    arr[0] = 10;\n",
    "    arr[1] = 20;\n",
    "    arr[2] = 30;\n",
    "    cout << \"1: \" << arr[0] << \", 2: \" << arr[1] << \", 3: \" << arr[2];\n",
    "    \n",
    "}"
   ]
  },
  {
   "cell_type": "markdown",
   "metadata": {
    "slideshow": {
     "slide_type": "slide"
    }
   },
   "source": [
    "## Initialization\n",
    "\n",
    "The elements of an array also can be initialized in the array declaration by following the array name with an equals sign and a brace-delimited comma-separated list of **initializers**.\n",
    "- If there are **fewer** initializers than elements in the array, the remaining array elements are initialized to zero."
   ]
  },
  {
   "cell_type": "code",
   "execution_count": 5,
   "metadata": {
    "slideshow": {
     "slide_type": "fragment"
    }
   },
   "outputs": [
    {
     "name": "stdout",
     "output_type": "stream",
     "text": [
      "1: 30, 2: 20, 3: 0"
     ]
    }
   ],
   "source": [
    "{\n",
    "    array<int, 3> arr{30, 20};\n",
    "    cout << \"1: \" << arr[0] << \", 2: \" << arr[1] << \", 3: \" << arr[2];\n",
    "    \n",
    "}"
   ]
  },
  {
   "cell_type": "markdown",
   "metadata": {
    "slideshow": {
     "slide_type": "slide"
    }
   },
   "source": [
    "## Initialization (cont.)\n",
    "\n",
    "- There is also old *C-style* array declaration:\n",
    "\n",
    "```c++\n",
    "type arrayName[arraySize];\n",
    "```\n",
    "\n",
    "- The following examples demonstrate how to declare arrays, how to initialize arrays and how to perform common array manipulations."
   ]
  },
  {
   "cell_type": "code",
   "execution_count": 7,
   "metadata": {
    "slideshow": {
     "slide_type": "fragment"
    }
   },
   "outputs": [
    {
     "name": "stdout",
     "output_type": "stream",
     "text": [
      "1: 30, 2: 1, 3: 10"
     ]
    }
   ],
   "source": [
    "{\n",
    "    int arr[3] {30, 1, 10};\n",
    "    cout << \"1: \" << arr[0] << \", 2: \" << arr[1] << \", 3: \" << arr[2];\n",
    "    \n",
    "}"
   ]
  },
  {
   "cell_type": "code",
   "execution_count": null,
   "metadata": {
    "slideshow": {
     "slide_type": "slide"
    }
   },
   "outputs": [],
   "source": [
    "// Initializing an array in a declaration.\n",
    "#include <iostream>\n",
    "#include <iomanip>\n",
    "#include <array>\n",
    "using namespace std;\n",
    "\n",
    "int main() {\n",
    "   array<int, 5> n{32, 27, 64, 18, 95}; // list initializer\n",
    "\n",
    "   cout << \"Element\" << setw(10) << \"Value\" << endl;\n",
    "\n",
    "   // output each array element's value\n",
    "   for (size_t i{0}; i < n.size(); ++i) {\n",
    "      cout << setw(7) << i << setw(10) << n[i] << endl;\n",
    "   }\n",
    "}"
   ]
  },
  {
   "cell_type": "code",
   "execution_count": null,
   "metadata": {
    "slideshow": {
     "slide_type": "slide"
    }
   },
   "outputs": [],
   "source": [
    "// Initializing an array ’s elements to zeros and printing the array .\n",
    "#include <iostream>\n",
    "#include <iomanip>\n",
    "using namespace std;\n",
    "\n",
    "int main() {\n",
    "   int n[5]; // n is an array of 5 int values\n",
    "\n",
    "   // initialize elements of array n to 0\n",
    "   for (int i{0}; i < 5; ++i) {\n",
    "      n[i] = 0; // set element at location i to 0\n",
    "   }\n",
    "\n",
    "   cout << \"Element\" << setw(10) << \"Value\" << endl;\n",
    "\n",
    "   // output each array element's value\n",
    "   for (int j{0}; j < 5; ++j) {\n",
    "      cout << setw(7) << j << setw(10) << n[j] << endl;\n",
    "   }\n",
    "}"
   ]
  },
  {
   "cell_type": "markdown",
   "metadata": {
    "slideshow": {
     "slide_type": "slide"
    }
   },
   "source": [
    "## Initialization (cont.)\n",
    "\n",
    "A constant variable can be used to specify array's size.\n",
    "- Use `const` modifier.\n",
    "- It must be initialized with a constant expression when it's declared and cannot be modified thereafter.\n",
    "- Constant variables are also called named constants or read-only variables.\n",
    "- Not initializing a constant variable when it’s declared is a compilation error.\n",
    "- Assigning a value to a constant variable in a separate statement from its declaration is a compilation error."
   ]
  },
  {
   "cell_type": "code",
   "execution_count": null,
   "metadata": {
    "slideshow": {
     "slide_type": "slide"
    }
   },
   "outputs": [],
   "source": [
    "// Set array s to the even integers from 2 to 10.\n",
    "#include <iostream>\n",
    "#include <iomanip>\n",
    "#include <array>\n",
    "using namespace std;\n",
    "\n",
    "int main() {\n",
    "   // constant variable can be used to specify array size\n",
    "   const size_t arraySize{5}; // must initialize in declaration\n",
    "\n",
    "   array<int, arraySize> values; // array values has 5 elements\n",
    "\n",
    "   for (size_t i{0}; i < values.size(); ++i) { // set the values\n",
    "      values[i] = 2 + 2 * i;\n",
    "   }\n",
    "\n",
    "   cout << \"Element\" << setw(10) << \"Value\" << endl;\n",
    "\n",
    "   // output contents of array s in tabular format\n",
    "   for (size_t j{0}; j < values.size(); ++j) {\n",
    "      cout << setw(7) << j << setw(10) << values[j] << endl;\n",
    "   }\n",
    "}"
   ]
  },
  {
   "cell_type": "markdown",
   "metadata": {
    "slideshow": {
     "slide_type": "slide"
    }
   },
   "source": [
    "## Example: Summation\n",
    "\n",
    "Often, the elements of an array represent a series of values to be used in a calculation."
   ]
  },
  {
   "cell_type": "code",
   "execution_count": null,
   "metadata": {
    "slideshow": {
     "slide_type": "fragment"
    }
   },
   "outputs": [],
   "source": [
    "// Compute the sum of the elements of an array.\n",
    "#include <iostream>\n",
    "#include <array>\n",
    "using namespace std;\n",
    "\n",
    "int main() {\n",
    "   const size_t arraySize{4}; // specifies size of array\n",
    "   array<int, arraySize> a{10, 20, 30, 40};\n",
    "\n",
    "   // sum contents of array a\n",
    "   int total{0};\n",
    "   for (size_t i{0}; i < a.size(); ++i) {\n",
    "      total += a[i];\n",
    "   }\n",
    "\n",
    "   cout << \"Total of array elements: \" << total << endl;\n",
    "}"
   ]
  },
  {
   "cell_type": "markdown",
   "metadata": {
    "slideshow": {
     "slide_type": "slide"
    }
   },
   "source": [
    "## Example: Histogram\n",
    "\n",
    "Use array to draw a histogram:"
   ]
  },
  {
   "cell_type": "code",
   "execution_count": null,
   "metadata": {
    "slideshow": {
     "slide_type": "fragment"
    }
   },
   "outputs": [],
   "source": [
    "#include <iostream>\n",
    "#include <iomanip>\n",
    "#include <array>\n",
    "using namespace std;\n",
    "\n",
    "int main() {\n",
    "   const size_t arraySize{11};\n",
    "   array<unsigned int, arraySize> n{0, 0, 0, 0, 0, 0, 1, 2, 4, 2, 1};\n",
    "\n",
    "   cout << \"Grade distribution:\" << endl;\n",
    "\n",
    "   // for each element of array n, output a bar of the chart\n",
    "   for (size_t i{0}; i < n.size(); ++i) {\n",
    "      // output bar labels (\"0-9:\", ..., \"90-99:\", \"100:\")\n",
    "      if (0 == i) {\n",
    "         cout << \"  0-9: \";\n",
    "      }\n",
    "      else if (10 == i) {\n",
    "         cout << \"  100: \";\n",
    "      }\n",
    "      else {\n",
    "         cout << i * 10 << \"-\" << (i * 10) + 9 << \": \";\n",
    "      }\n",
    "\n",
    "      // print bar of asterisks\n",
    "      for (unsigned int stars{0}; stars < n[i]; ++stars) {\n",
    "         cout << '*';\n",
    "      }\n",
    "\n",
    "      cout << endl; // start a new line of output\n",
    "   }\n",
    "}"
   ]
  },
  {
   "cell_type": "markdown",
   "metadata": {
    "slideshow": {
     "slide_type": "slide"
    }
   },
   "source": [
    "### Static Arrays\n",
    "\n",
    "A program initializes **static local arrays** when their declarations are first encountered.\n",
    " - If a static array is not initialized explicitly by you, each element of that array is initialized to zero by the compiler when the array is created.\n",
    "- We can apply `static` to a local array declaration so that it's not created and initialized each time the program calls the function and is not destroyed each time the function terminates. This can improve performance, especially when using large arrays.\n",
    "\n",
    "### Ranges-based iteration\n",
    "\n",
    "The C++ 11 **range-based** for statement allows you to process all the elements of an array **without using** a counter, thus avoiding the possibility of 'stepping outside' the array and eliminating the need for you to implement your own bounds checking.\n",
    "- When processing all elements of an array, if you don’t need access to an array element’s subscript, use the range-based for statement."
   ]
  },
  {
   "cell_type": "code",
   "execution_count": null,
   "metadata": {
    "slideshow": {
     "slide_type": "slide"
    }
   },
   "outputs": [],
   "source": [
    "// Using range-based for to multiply an array's elements by 2.\n",
    "#include <iostream>\n",
    "#include <array>\n",
    "using namespace std;\n",
    "\n",
    "int main() {\n",
    "   array<int, 5> items{1, 2, 3, 4, 5};\n",
    "\n",
    "   // display items before modification\n",
    "   cout << \"items before modification: \";\n",
    "   for (int item : items) {\n",
    "      cout << item << \" \";\n",
    "   }\n",
    "\n",
    "   // multiply the elements of items by 2\n",
    "   for (int& itemRef : items) {\n",
    "      itemRef *= 2;\n",
    "   }\n",
    "\n",
    "   // display items after modification\n",
    "   cout << \"\\nitems after modification: \";\n",
    "   for (int item : items) {\n",
    "      cout << item << \" \";\n",
    "   }\n",
    "\n",
    "   cout << endl;\n",
    "}"
   ]
  },
  {
   "cell_type": "markdown",
   "metadata": {
    "slideshow": {
     "slide_type": "slide"
    }
   },
   "source": [
    "### Sorting and Searching Arrays\n",
    "\n",
    "**Sorting** data - placing it into ascending or descending order - is one of the most important computing applications.\n",
    "\n",
    "**Searching:** Often it may be necessary to determine whether an array contains a value that matches a certain key value.\n",
    "\n",
    "Use the built-in C++ Standard Library:\n",
    "- **sort** function to arrange the elements in an array into ascending order,\n",
    "- **binary_search** function to determine whether a value is in the array.\n",
    "- include header `<algorithm>`"
   ]
  },
  {
   "cell_type": "code",
   "execution_count": null,
   "metadata": {
    "slideshow": {
     "slide_type": "slide"
    }
   },
   "outputs": [],
   "source": [
    "// Sorting and searching arrays.\n",
    "#include <iostream>\n",
    "#include <iomanip>\n",
    "#include <array>\n",
    "#include <string>\n",
    "#include <algorithm> // contains sort and binary_search\n",
    "using namespace std;\n",
    "\n",
    "int main() {\n",
    "   const size_t arraySize{7}; // size of array colors\n",
    "   array<string, arraySize> colors{\"red\", \"orange\", \"yellow\",\n",
    "      \"green\", \"blue\", \"indigo\", \"violet\"};\n",
    "\n",
    "   // output original array\n",
    "   cout << \"Unsorted array:\\n\";\n",
    "   for (string color : colors) {\n",
    "      cout << color << \" \";\n",
    "   }\n",
    "\n",
    "   sort(colors.begin(), colors.end()); // sort contents of colors\n",
    "\n",
    "   // output sorted array\n",
    "   cout << \"\\nSorted array:\\n\";\n",
    "   for (string item : colors) {\n",
    "      cout << item << \" \";\n",
    "   }\n",
    "\n",
    "   // search for \"indigo\" in colors\n",
    "   bool found{binary_search(colors.begin(), colors.end(), \"indigo\")};\n",
    "   cout << \"\\n\\n\\\"indigo\\\" \" << (found ? \"was\" : \"was not\")\n",
    "      << \" found in colors\" << endl;\n",
    "\n",
    "   // search for \"cyan\" in colors\n",
    "   found = binary_search(colors.begin(), colors.end(), \"cyan\");\n",
    "   cout << \"\\\"cyan\\\" \" << (found ? \"was\" : \"was not\")\n",
    "      << \" found in colors\" << endl;\n",
    "}"
   ]
  },
  {
   "cell_type": "markdown",
   "metadata": {
    "slideshow": {
     "slide_type": "slide"
    }
   },
   "source": [
    "### Multidimensional Arrays\n",
    "\n",
    "You can use arrays with **two dimensions** (i.e., subscripts) to represent tables of values consisting of information arranged in rows and columns.\n",
    "- To identify a particular table element, specify two subscripts - by convention, the first identifies the element's **row** and the second identifies the element's **column**.\n",
    "- Arrays with two or more dimensions are known as **multidimensional arrays**.\n",
    "- In general, an array with m rows and n columns is called an **m-by-n array**.\n",
    "\n",
    "![MD Array](../img/md-array.png)\n",
    "\n",
    "*Note: Referencing a two-dimensional array element `a[x][y]` as `a[x,y]` is an error.*"
   ]
  },
  {
   "cell_type": "code",
   "execution_count": null,
   "metadata": {
    "slideshow": {
     "slide_type": "slide"
    }
   },
   "outputs": [],
   "source": [
    "// Initializing multidimensional arrays.\n",
    "#include <iostream>\n",
    "#include <array>\n",
    "using namespace std;\n",
    "\n",
    "const size_t rows{2};\n",
    "const size_t columns{3};\n",
    "void printArray(const array<array<int, columns>, rows>&);\n",
    "\n",
    "int main() {\n",
    "   array<array<int, columns>, rows> array1{1, 2, 3, 4, 5, 6};\n",
    "   array<array<int, columns>, rows> array2{1, 2, 3, 4, 5};\n",
    "\n",
    "   cout << \"Values in array1 by row are:\" << endl;\n",
    "   printArray(array1);\n",
    "\n",
    "   cout << \"\\nValues in array2 by row are:\" << endl;\n",
    "   printArray(array2);\n",
    "}\n",
    "\n",
    "// output array with two rows and three columns\n",
    "void printArray(const array<array<int, columns>, rows>& a) {\n",
    "   // loop through array's rows\n",
    "   for (auto const& row : a) {\n",
    "      // loop through columns of current row\n",
    "      for (auto const& element : row) {\n",
    "         cout << element << ' ';\n",
    "      }\n",
    "\n",
    "      cout << endl; // start new line of output\n",
    "   }\n",
    "}"
   ]
  },
  {
   "cell_type": "markdown",
   "metadata": {
    "slideshow": {
     "slide_type": "slide"
    }
   },
   "source": [
    "### Nested Range-Based for Statements\n",
    "\n",
    "To process the elements of a two-dimensional array, we use a nested loop in which the outer loop iterates through the rows and the inner loop iterates through the columns of a given row.\n",
    "- The C++11 auto keyword tells the compiler to infer (determine) a variable’s data type based on the variable’s initializer value."
   ]
  },
  {
   "cell_type": "code",
   "execution_count": 16,
   "metadata": {
    "slideshow": {
     "slide_type": "fragment"
    }
   },
   "outputs": [
    {
     "name": "stdout",
     "output_type": "stream",
     "text": [
      "21"
     ]
    }
   ],
   "source": [
    "{\n",
    "    const size_t rows{2}, columns{3};\n",
    "    array<array<int, columns>, rows> arr{1, 2, 3, 4, 5, 6};\n",
    "\n",
    "    int total = 0;\n",
    "    for (auto row : arr) { // for each row\n",
    "        for (auto column : row) { // for each column in row\n",
    "            total += column;\n",
    "        }\n",
    "    }\n",
    "    cout << total;\n",
    "}"
   ]
  },
  {
   "cell_type": "markdown",
   "metadata": {
    "slideshow": {
     "slide_type": "slide"
    }
   },
   "source": [
    "- We could have implemented the nested loop with counter-controlled iteration as follows:"
   ]
  },
  {
   "cell_type": "code",
   "execution_count": null,
   "metadata": {
    "slideshow": {
     "slide_type": "fragment"
    }
   },
   "outputs": [],
   "source": [
    "{\n",
    "    const size_t rows{2}, columns{3};\n",
    "    array<array<int, columns>, rows> arr{1, 2, 3, 4, 5, 6};\n",
    "\n",
    "    int total = 0;\n",
    "    for (size_t row{0}; row < arr.size(); ++row) { // for each row\n",
    "        for (size_t column{0}; column < arr[row].size(); ++column) { // for each column in row\n",
    "            cout << arr[row][column] << ' ';\n",
    "            total += arr[row][column];\n",
    "        }\n",
    "        cout << endl;        \n",
    "    }\n",
    "    cout << total;\n",
    "}"
   ]
  },
  {
   "cell_type": "markdown",
   "metadata": {
    "slideshow": {
     "slide_type": "slide"
    }
   },
   "source": [
    "## Vectors\n",
    "\n",
    "C++ Standard Library class template `vector` is similar to class template `array`, but also supports **dynamic resizing**.\n",
    "- Standard class template vector is defined in header `<vector>` and belongs to namespace `std`.\n",
    "- By default, all the elements of a vector object are set to 0.\n",
    "- `vectors` can be defined to store most data types.\n",
    "- vector member function `size` obtain the number of elements in the vector.\n",
    "- As with class template array, you can also do this using a counter-controlled loop and the subscript ([]) operator."
   ]
  },
  {
   "cell_type": "markdown",
   "metadata": {
    "slideshow": {
     "slide_type": "slide"
    }
   },
   "source": [
    "## Vectors (cont.)\n",
    "\n",
    "- Parentheses used, rather than braces, to pass the size argument to each vector object's constructor.\n",
    "- When creating a vector, if the braces contain one value of the vector's element type, the braces are treated as a one-element initializer list, rather than a call to the constructor that sets the vector's size.\n",
    "- The following declaration actually creates a one-element `vector<int>` containing the int value 7, not a 7-element vector\n",
    "\n",
    "```c++\n",
    "vector<int> integers1{7};\n",
    "```"
   ]
  },
  {
   "cell_type": "markdown",
   "metadata": {
    "slideshow": {
     "slide_type": "slide"
    }
   },
   "source": [
    "## Vectors (cont.)\n",
    "\n",
    "Element access:\n",
    "\n",
    "- You can use the assignment (=) operator with vector objects.\n",
    "- As is the case with arrays, C++ is not required to perform bounds checking when vector elements are accessed with square brackets.\n",
    "- Standard class template vector provides bounds checking in its member function at (as does class template array).\n",
    "\n",
    "One of the key differences between a vector and an array is that a vector can dynamically grow and shrink as the number of elements it needs to accommodate varies.\n",
    "- Use the vector's `push_back` member function to add a new element."
   ]
  },
  {
   "cell_type": "code",
   "execution_count": null,
   "metadata": {
    "lines_to_next_cell": 0,
    "slideshow": {
     "slide_type": "skip"
    }
   },
   "outputs": [],
   "source": [
    "// Demonstrating C++ Standard Library class template vector.\n",
    "#include <iostream>\n",
    "#include <iomanip>\n",
    "#include <vector>\n",
    "#include <stdexcept>\n",
    "using namespace std;\n",
    "\n",
    "void outputVector(const vector<int>&); // display the vector\n",
    "void inputVector(vector<int>&); // input values into the vector\n",
    "\n",
    "int main() {\n",
    "   vector<int> integers1(7); // 7-element vector<int>\n",
    "   vector<int> integers2(10); // 10-element vector<int>\n",
    "\n",
    "   // print integers1 size and contents\n",
    "   cout << \"Size of vector integers1 is \" << integers1.size()\n",
    "      << \"\\nvector after initialization: \";\n",
    "   outputVector(integers1);\n",
    "\n",
    "   // print integers2 size and contents\n",
    "   cout << \"\\nSize of vector integers2 is \" << integers2.size()\n",
    "      << \"\\nvector after initialization: \";\n",
    "   outputVector(integers2);\n",
    "\n",
    "   // input and print integers1 and integers2\n",
    "   cout << \"\\nEnter 17 integers:\" << endl;\n",
    "   inputVector(integers1);\n",
    "   inputVector(integers2);\n",
    "\n",
    "   cout << \"\\nAfter input, the vectors contain:\\n\"\n",
    "      << \"integers1: \";\n",
    "   outputVector(integers1);\n",
    "   cout << \"integers2: \";\n",
    "   outputVector(integers2);\n",
    "\n",
    "   // use inequality (!=) operator with vector objects\n",
    "   cout << \"\\nEvaluating: integers1 != integers2\" << endl;\n",
    "\n",
    "   if (integers1 != integers2) {\n",
    "      cout << \"integers1 and integers2 are not equal\" << endl;\n",
    "   }\n",
    "\n",
    "   // create vector integers3 using integers1 as an\n",
    "   // initializer; print size and contents\n",
    "   vector<int> integers3{integers1}; // copy constructor\n",
    "\n",
    "   cout << \"\\nSize of vector integers3 is \" << integers3.size()\n",
    "      << \"\\nvector after initialization: \";\n",
    "   outputVector(integers3);\n",
    "\n",
    "   // use overloaded assignment (=) operator\n",
    "   cout << \"\\nAssigning integers2 to integers1:\" << endl;\n",
    "   integers1 = integers2; // assign integers2 to integers1\n",
    "\n",
    "   cout << \"integers1: \";\n",
    "   outputVector(integers1);\n",
    "   cout << \"integers2: \";\n",
    "   outputVector(integers2);\n",
    "\n",
    "   // use equality (==) operator with vector objects\n",
    "   cout << \"\\nEvaluating: integers1 == integers2\" << endl;\n",
    "\n",
    "   if (integers1 == integers2) {\n",
    "      cout << \"integers1 and integers2 are equal\" << endl;\n",
    "   }\n",
    "\n",
    "   // use square brackets to use the value at location 5 as an rvalue\n",
    "   cout << \"\\nintegers1[5] is \" << integers1[5];\n",
    "\n",
    "   // use square brackets to create lvalue\n",
    "   cout << \"\\n\\nAssigning 1000 to integers1[5]\" << endl;\n",
    "   integers1[5] = 1000;\n",
    "   cout << \"integers1: \";\n",
    "   outputVector(integers1);\n",
    "\n",
    "   // attempt to use out-of-range subscript\n",
    "   try {\n",
    "      cout << \"\\nAttempt to display integers1.at(15)\" << endl;\n",
    "      cout << integers1.at(15) << endl; // ERROR: out of range\n",
    "   }\n",
    "   catch (out_of_range& ex) {\n",
    "      cerr << \"An exception occurred: \" << ex.what() << endl;\n",
    "   }\n",
    "\n",
    "   // changing the size of a vector\n",
    "   cout << \"\\nCurrent integers3 size is: \" << integers3.size() << endl;\n",
    "   integers3.push_back(1000); // add 1000 to the end of the vector\n",
    "   cout << \"New integers3 size is: \" << integers3.size() << endl;\n",
    "   cout << \"integers3 now contains: \";\n",
    "   outputVector(integers3);\n",
    "}\n",
    "\n",
    "// output vector contents\n",
    "void outputVector(const vector<int>& items) {\n",
    "   for (int item : items) {\n",
    "      cout << item << \" \";\n",
    "   }\n",
    "\n",
    "   cout << endl;\n",
    "}\n",
    "\n",
    "// input vector contents\n",
    "void inputVector(vector<int>& items) {\n",
    "   for (int& item : items) {\n",
    "      cin >> item;\n",
    "   }\n",
    "}"
   ]
  }
 ],
 "metadata": {
  "celltoolbar": "Slideshow",
  "jupytext": {
   "cell_metadata_filter": "-all",
   "main_language": "c++",
   "notebook_metadata_filter": "-all"
  },
  "kernelspec": {
   "display_name": "C++14",
   "language": "C++14",
   "name": "xcpp14"
  },
  "language_info": {
   "codemirror_mode": "text/x-c++src",
   "file_extension": ".cpp",
   "mimetype": "text/x-c++src",
   "name": "c++",
   "version": "-std=c++14"
  }
 },
 "nbformat": 4,
 "nbformat_minor": 4
}
