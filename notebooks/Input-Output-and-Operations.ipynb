{
 "cells": [
  {
   "cell_type": "markdown",
   "metadata": {
    "slideshow": {
     "slide_type": "slide"
    }
   },
   "source": [
    "# Input/Output and Operators"
   ]
  },
  {
   "cell_type": "markdown",
   "metadata": {
    "slideshow": {
     "slide_type": "slide"
    }
   },
   "source": [
    "## Input/Output"
   ]
  },
  {
   "cell_type": "code",
   "execution_count": null,
   "metadata": {
    "slideshow": {
     "slide_type": "slide"
    }
   },
   "outputs": [],
   "source": [
    "#include <iostream> // allows program to output data to the screen\n",
    "\n",
    "int main() // function main begins program execution\n",
    "{\n",
    "    std::cout << \"Welcome to C++!\\n\"; // display message\n",
    "\n",
    "    return 0; // indicate that program ended successfully\n",
    "    \n",
    "} // end function main"
   ]
  },
  {
   "cell_type": "markdown",
   "metadata": {
    "slideshow": {
     "slide_type": "fragment"
    }
   },
   "source": [
    "Edit and run to above program: https://coliru.stacked-crooked.com/a/0ddabf5f1e1e0792"
   ]
  },
  {
   "cell_type": "markdown",
   "metadata": {
    "slideshow": {
     "slide_type": "slide"
    }
   },
   "source": [
    "### Comments\n",
    "\n",
    "\n",
    "- **//** indicates that the remainder of each line is a comment.\n",
    "\n",
    "  - You insert comments to document your programs and to help other people read and understand them.\n",
    "  - Comments are ignored by the C++ compiler and do not cause any machine-language object code to be generated.\n",
    "  - A comment beginning with // is called a single-line comment because it terminates at the end of the current line.\n",
    "\n",
    "- You also may use comments containing one or more lines enclosed in **/*** and ***/**.\n",
    "\n",
    "- Every program should begin with a comment that describes the purpose of the program."
   ]
  },
  {
   "cell_type": "markdown",
   "metadata": {
    "slideshow": {
     "slide_type": "slide"
    }
   },
   "source": [
    "### Preprocessing\n",
    "\n",
    "```c\n",
    "#include <iostream> // allows program to output data to the screen\n",
    "```\n",
    "\n",
    "- A **preprocessing directive** is a message to the C++ preprocessor.\n",
    "- Lines that begin with # are processed by the preprocessor before the program is compiled.\n",
    "- _#include &lt;iostream>_ notifies the preprocessor to include in the program **the contents of the input/output stream header file &lt;iostream>**.\n",
    "  - This header is a file containing information used by the compiler when compiling any program that outputs data to the screen or inputs data from the keyboard using C++-style stream input/output.\n"
   ]
  },
  {
   "cell_type": "markdown",
   "metadata": {
    "slideshow": {
     "slide_type": "slide"
    }
   },
   "source": [
    "### Code\n",
    "\n",
    "- You use blank lines, space characters and tab characters (i.e., \"tabs\") to make programs easier to read.\n",
    "  - Together, these characters are known as white space.\n",
    "  - White-space characters are normally ignored by the compiler.\n",
    "- **main** is a part of every C++ program.\n",
    "- The parentheses after main indicate that main is a program building block called a function.\n",
    "```c\n",
    "    int main()\n",
    "```\n",
    "- C++ programs begin executing at function main, even if main is not the first function defined in the program."
   ]
  },
  {
   "cell_type": "markdown",
   "metadata": {
    "slideshow": {
     "slide_type": "slide"
    }
   },
   "source": [
    "### Code (cont.)\n",
    "\n",
    "- C++ programs typically consist of one or more functions and classes.\n",
    "- Exactly one function in every program must be named **main**.\n",
    "- C++ programs begin executing at function main, even if main is not the first function defined in the program.\n",
    "- The keyword **int** to the left of main indicates that main “returns” an integer (whole number) value.\n",
    "- A keyword is a word in code that is reserved by C++ for a specific use.\n",
    "  - For now, simply include the keyword int to the left of main in each of your programs.\n",
    "```c\n",
    "int main()\n",
    "```"
   ]
  },
  {
   "cell_type": "markdown",
   "metadata": {
    "slideshow": {
     "slide_type": "slide"
    }
   },
   "source": [
    "### C/C++ Basic Syntax\n",
    "\n",
    "Blocks:\n",
    "\n",
    "- A **left brace, {**, must begin the body of every function.\n",
    "- A corresponding **right brace, }**, must end each function's body.\n",
    "- A statement instructs the computer to **perform an action**.\n",
    "- Together, the quotation marks and the characters between them are called **a string, a character string or a string literal**.\n",
    "- We refer to characters between double quotation marks simply as **strings**.\n",
    "  - White-space characters in strings are not ignored by the compiler.\n",
    "- Most C++ statements end with a **semicolon (;)**, also known as the **statement terminator**.\n",
    "  - Preprocessing directives (like #include) do not end with a semicolon."
   ]
  },
  {
   "cell_type": "markdown",
   "metadata": {
    "slideshow": {
     "slide_type": "subslide"
    }
   },
   "source": [
    "### Tips:\n",
    "\n",
    "- Indent the body of each function one level within the braces that delimit the function's body. This makes a program's functional structure stand out, making the program easier to read.\n",
    "- Set a convention for the size of indent you prefer, then apply it uniformly. The tab key may be used to create indents, but tab stops may vary. We prefer three spaces per level of indent."
   ]
  },
  {
   "cell_type": "markdown",
   "metadata": {
    "slideshow": {
     "slide_type": "slide"
    }
   },
   "source": [
    "### Namespase\n",
    "\n",
    "- Namespaces allow us to group named entities that otherwise would have global scope into narrower scopes, giving them namespace scope. This allows organizing the elements of programs into different logical scopes referred to by names.\n",
    "- E.g. **std** namespace designate collection of types and functions related to the C++ standard library.\n",
    "\n",
    "```c++\n",
    "using namespace std;\n",
    "```"
   ]
  },
  {
   "cell_type": "markdown",
   "metadata": {
    "slideshow": {
     "slide_type": "slide"
    }
   },
   "source": [
    "## Streams\n",
    "\n",
    "- Typically, output and input in C++ are accomplished with **streams** of data. \n",
    "- When a *cout* statement executes, it sends a stream of characters to the **standard output stream object - std::cout** - which is normally \"connected\" to the screen.\n",
    "- The *std::* before *cout* is required when we use names that we've brought into the program by the preprocessing directive #include &lt;iostream>.\n",
    "  - The notation *std::cout* specifies that we are using a name, in this case c out, that belongs to \"namespace\" std.\n",
    "  - The names *cin* (the standard input stream) and *cerr* (the standard error stream) also belong to namespace *std*.  \n",
    "- In the context of an output statement, the << operator is referred to as the **stream insertion operator**.\n",
    "  - The value to the operator’s right, the right operand, is inserted in the output stream."
   ]
  },
  {
   "cell_type": "markdown",
   "metadata": {
    "slideshow": {
     "slide_type": "slide"
    }
   },
   "source": [
    "### Escape Characters\n",
    "\n",
    "- The characters **\\n** are not printed on the screen.\n",
    "- The backslash (**\\**) is called an escape character.\n",
    "  - It indicates that a \"special\" character is to be output.\n",
    "- When a backslash is encountered in a string of characters, the next character is combined with the backslash to form an escape sequence.\n",
    "- The escape sequence **\\n** means newline.\n",
    "  - Causes the cursor to move to the beginning of the next line on the screen.\n",
    "  \n",
    "[Escape Characters on Wikipedia](https://en.wikipedia.org/wiki/Escape_character)\n",
    "  \n",
    "  \n",
    "**Note:** Standard library provides a dedicated end line function, **std::endl**. See https://en.cppreference.com/w/cpp/io/manip/endl"
   ]
  },
  {
   "cell_type": "code",
   "execution_count": 4,
   "metadata": {
    "slideshow": {
     "slide_type": "slide"
    }
   },
   "outputs": [
    {
     "name": "stdout",
     "output_type": "stream",
     "text": [
      "Welcome to C++!\n"
     ]
    }
   ],
   "source": [
    "std::cout << \"Welcome \";\n",
    "std::cout << \"to C++!\" << std::endl;"
   ]
  },
  {
   "cell_type": "code",
   "execution_count": 5,
   "metadata": {
    "slideshow": {
     "slide_type": "fragment"
    }
   },
   "outputs": [
    {
     "name": "stdout",
     "output_type": "stream",
     "text": [
      "Welcome\n",
      "to\n",
      "C++!\n"
     ]
    }
   ],
   "source": [
    "std::cout << \"Welcome\\nto\\nC++!\" << std::endl;"
   ]
  },
  {
   "cell_type": "markdown",
   "metadata": {
    "slideshow": {
     "slide_type": "slide"
    }
   },
   "source": [
    "### Exersise\n",
    "\n",
    "Write a program that prints C++ as follows:\n",
    "\n",
    "```\n",
    "  CCC    +      +\n",
    " C       +      +\n",
    "C      +++++  +++++  \n",
    " C       +      +\n",
    "  CCC    +      +\n",
    "```"
   ]
  },
  {
   "cell_type": "markdown",
   "metadata": {
    "slideshow": {
     "slide_type": "slide"
    }
   },
   "source": [
    "## Adding Integers\n",
    "\n",
    "The next program obtains two integers typed by a user at the keyboard using `std:cin`, computes their sum and outputs the result using `std::cout`."
   ]
  },
  {
   "cell_type": "code",
   "execution_count": null,
   "metadata": {
    "slideshow": {
     "slide_type": "slide"
    }
   },
   "outputs": [],
   "source": [
    "// Calculate the product of three integers\n",
    "#include <iostream> // enables program to perform input and output\n",
    "using namespace std; // program uses names from the std namespace\n",
    "\n",
    "// function main begins program execution\n",
    "int main() {\n",
    "    int number1 = 0; // first integer to sum\n",
    "    int number2{0}; // second integer to sum\n",
    "    int result{0}; // the sum of the two integers\n",
    "\n",
    "    cout << \"Enter first integer: \"; // prompt user for data\n",
    "    cin >> number1; // read first integer from user input\n",
    "   \n",
    "    cout << \"Enter second integer: \"; // prompt user for data\n",
    "    cin >> number2; // read second integer from user input\n",
    "    \n",
    "    result = number1 + number2; // sum the two integers; store result\n",
    "    cout << \"The sum is \" << result << endl; // print result; end line\n",
    "} // end function main "
   ]
  },
  {
   "cell_type": "markdown",
   "metadata": {
    "slideshow": {
     "slide_type": "slide"
    }
   },
   "source": [
    "## Variables\n",
    "\n",
    "- Declarations introduce identifiers into programs.\n",
    "- The identifiers *number1*, *number2* and *result* are the names of variables.\n",
    "- A variable is a location in the computer's memory where a value can be stored for use by a program.\n",
    "- Variables *number1*, *number2* and *result* are data of type **int**, meaning that these variables will hold **integers** (whole numbers such as 7, -11, 0 and 31914).\n",
    "- All variables **must** be declared with a name and a data type before they can be used in a program.\n",
    "- If more than one name is declared in a declaration (as shown here), the names are separated by commas (,); this is referred to as a comma-separated list."
   ]
  },
  {
   "cell_type": "markdown",
   "metadata": {
    "slideshow": {
     "slide_type": "slide"
    }
   },
   "source": [
    "## Variables (cont.)\n",
    "\n",
    "- A variable name is any valid **identifier** that is not a keyword.\n",
    "- An **identifier** is a series of characters consisting of letters, digits and underscores ( _ ) that does not begin with a digit.\n",
    "- C++ is **case sensitive**  - uppercase and lowercase letters are different, so a1 and A1 are different identifiers.\n",
    "- Declarations of variables can be placed almost anywhere in a program, but they must appear before their corresponding variables are used in the program."
   ]
  },
  {
   "cell_type": "markdown",
   "metadata": {
    "slideshow": {
     "slide_type": "subslide"
    }
   },
   "source": [
    "### Tips\n",
    "- C++ allows identifiers of any length\n",
    "- Choosing meaningful identifiers helps make a program **self-documenting**\n",
    "- Avoid using abbreviations in identifiers. This improves program readability.\n",
    "- Do not use identifiers that begin with underscores and double underscores, because C++ compilers use names like that for their own purposes internally."
   ]
  },
  {
   "cell_type": "markdown",
   "metadata": {
    "slideshow": {
     "slide_type": "slide"
    }
   },
   "source": [
    "## Assignment\n",
    "\n",
    "- In this program, an assignment statement adds the values of variables number1 and number2 and assigns the result to variable sum using **the assignment operator =**.\n",
    "  - Most calculations are performed in assignment statements.\n",
    "- The = operator and the + operator are called **binary** operators because each has two operands.\n",
    "\n",
    "**Tips**\n",
    "\n",
    "- Place spaces on either side of a binary operator. This makes the operator stand out and makes the program more readable."
   ]
  },
  {
   "cell_type": "markdown",
   "metadata": {
    "slideshow": {
     "slide_type": "slide"
    }
   },
   "source": [
    "## Arithmetic\n",
    "\n",
    "Arithmetic expressions in C++ must be entered into the computer in straight-line form.\n",
    "\n",
    "![arithmetic](../img/arithmetic.png)"
   ]
  },
  {
   "cell_type": "markdown",
   "metadata": {
    "slideshow": {
     "slide_type": "slide"
    }
   },
   "source": [
    "## Precedence\n",
    "\n",
    "C++ applies the operators in arithmetic expressions in a precise sequence determined by the following rules of operator precedence, which are generally the same as those followed in algebra.\n",
    "\n",
    "![precedence](../img/op-precedence.png)"
   ]
  },
  {
   "cell_type": "markdown",
   "metadata": {
    "slideshow": {
     "slide_type": "slide"
    }
   },
   "source": [
    "### Exersise\n",
    "\n",
    "Write a program that calculates the surface area and volume of cubes with face lengths of 0 to 4 cm. Use tabs to print the following neatly formatted table of values:\n",
    "\n",
    "```\n",
    "Side length   Surface area    Volume\n",
    "of cube (cm)  of cube (cm^2)  of cube (cm^3)\n",
    "1             1               1\n",
    "2             4               8\n",
    "3             9               27 \n",
    "4             16              64\n",
    "```"
   ]
  },
  {
   "cell_type": "markdown",
   "metadata": {
    "slideshow": {
     "slide_type": "slide"
    }
   },
   "source": [
    "## Data Types\n",
    "\n",
    "- **Primitive Data Types**: Built-in or predefined data types and can be used directly by the user to declare variables. example: int, char , float, bool etc. Primitive data types available in C++ are:\n",
    "\n",
    "  - int - Integer\n",
    "  - char - Character\n",
    "  - bool - Boolean\n",
    "  - float - Floating Point\n",
    "  - double - Double Floating Point\n",
    "  - void - Valueless or Void\n",
    "\n",
    "- **Abstract or user defined data type**: These data types are defined by user itself. Like, defining a class in C++ or a structure."
   ]
  },
  {
   "cell_type": "code",
   "execution_count": 1,
   "metadata": {
    "slideshow": {
     "slide_type": "slide"
    }
   },
   "outputs": [
    {
     "name": "stdout",
     "output_type": "stream",
     "text": [
      "Size of char : 1 byte\n",
      "Size of int : 4 bytes\n",
      "Size of float : 4 bytes\n",
      "Size of double : 8 bytes\n",
      "Size of wchar_t : 4 bytes\n"
     ]
    }
   ],
   "source": [
    "#include<iostream>\n",
    "using namespace std;\n",
    "\n",
    "cout << \"Size of char : \" << sizeof(char) << \" byte\" << endl;\n",
    "cout << \"Size of int : \" << sizeof(int) << \" bytes\" << endl;\n",
    "cout << \"Size of float : \" << sizeof(float) << \" bytes\" <<endl;\n",
    "cout << \"Size of double : \" << sizeof(double) << \" bytes\" << endl;\n",
    "cout << \"Size of wchar_t : \" << sizeof(wchar_t) << \" bytes\" <<endl;"
   ]
  },
  {
   "cell_type": "markdown",
   "metadata": {
    "slideshow": {
     "slide_type": "slide"
    }
   },
   "source": [
    "## Data Modifiers\n",
    "\n",
    "- **Datatype Modifiers** are used with the built-in data types to modify the length of data that a particular data type can hold.\n",
    "\n",
    "  - signed\n",
    "  - unsigned\n",
    "  - short\n",
    "  - long\n"
   ]
  },
  {
   "cell_type": "code",
   "execution_count": 2,
   "metadata": {
    "slideshow": {
     "slide_type": "slide"
    }
   },
   "outputs": [
    {
     "name": "stdout",
     "output_type": "stream",
     "text": [
      "Size of int : 4 bytes\n",
      "Size of short int : 2 bytes\n",
      "Size of long int : 8 bytes\n",
      "Size of signed long int : 8 bytes\n",
      "Size of unsigned long int : 8 bytes\n"
     ]
    }
   ],
   "source": [
    "#include<iostream>\n",
    "using namespace std;\n",
    "\n",
    "cout << \"Size of int : \" << sizeof(int) << \" bytes\" << endl;\n",
    "cout << \"Size of short int : \" << sizeof(short int) << \" bytes\" << endl;\n",
    "cout << \"Size of long int : \" << sizeof(long int) << \" bytes\" << endl;\n",
    "cout << \"Size of signed long int : \" << sizeof(signed long int) << \" bytes\" << endl;\n",
    "cout << \"Size of unsigned long int : \" << sizeof(unsigned long int) << \" bytes\" << endl;"
   ]
  },
  {
   "cell_type": "markdown",
   "metadata": {
    "slideshow": {
     "slide_type": "slide"
    }
   },
   "source": [
    "## Advanced Stream Usage\n",
    "\n",
    "A stream is an abstraction for input/output. You can think of it as a source (input) or destination (output) of characters of indefinite length. \n",
    "\n",
    "![iostreams](../img/iostream.gif)"
   ]
  },
  {
   "cell_type": "markdown",
   "metadata": {
    "slideshow": {
     "slide_type": "slide"
    }
   },
   "source": [
    "### Stream Manipulators\n",
    "\n",
    "`setw(n)` sets the minimum width of the input for the next stream operation. If the data doesn't meet the minimum field requirement, it is padded with the default fill character until it is proper size."
   ]
  },
  {
   "cell_type": "code",
   "execution_count": 8,
   "metadata": {
    "slideshow": {
     "slide_type": "fragment"
    }
   },
   "outputs": [
    {
     "name": "stdout",
     "output_type": "stream",
     "text": [
      "Output: 10\n"
     ]
    }
   ],
   "source": [
    "#include <iostream> // for setw()\n",
    "\n",
    "std::cout << \"Output: \" << 10 << std::endl;"
   ]
  },
  {
   "cell_type": "code",
   "execution_count": 9,
   "metadata": {
    "slideshow": {
     "slide_type": "fragment"
    }
   },
   "outputs": [
    {
     "name": "stdout",
     "output_type": "stream",
     "text": [
      "Output:    10\n"
     ]
    }
   ],
   "source": [
    "std::cout << \"Output: \" << std::setw(5) << 10 << std::endl;"
   ]
  },
  {
   "cell_type": "markdown",
   "metadata": {
    "slideshow": {
     "slide_type": "slide"
    }
   },
   "source": [
    "`setprecision(n)` sets the precision of the stream **out** or **in** to exactly **n**. "
   ]
  },
  {
   "cell_type": "code",
   "execution_count": 10,
   "metadata": {
    "slideshow": {
     "slide_type": "fragment"
    }
   },
   "outputs": [
    {
     "name": "stdout",
     "output_type": "stream",
     "text": [
      "1 petabyte is 2^50 bytes = 1125899906842624 bytes\n"
     ]
    }
   ],
   "source": [
    "#include <iostream>\n",
    "#include <cmath> // for pow() \n",
    "#include <iomanip> // for setprecision()\n",
    "\n",
    "std::cout << \"1 petabyte is 2^50 bytes = \"\n",
    "          << std::setprecision(20) \n",
    "          << pow(2., 50) << \" bytes\" \n",
    "          << std::endl;"
   ]
  },
  {
   "cell_type": "markdown",
   "metadata": {
    "slideshow": {
     "slide_type": "slide"
    }
   },
   "source": [
    "`boolalpha` determines whether or not the stream should output boolean values as 1 and 0 or as \"true\" and \"false\". The opposite manipulator is noboolalpha, which reverses this behaviour."
   ]
  },
  {
   "cell_type": "code",
   "execution_count": 11,
   "metadata": {
    "slideshow": {
     "slide_type": "fragment"
    }
   },
   "outputs": [
    {
     "name": "stdout",
     "output_type": "stream",
     "text": [
      "1\n"
     ]
    }
   ],
   "source": [
    "std::cout << true << std::endl;"
   ]
  },
  {
   "cell_type": "code",
   "execution_count": 12,
   "metadata": {
    "slideshow": {
     "slide_type": "fragment"
    }
   },
   "outputs": [
    {
     "name": "stdout",
     "output_type": "stream",
     "text": [
      "true\n"
     ]
    }
   ],
   "source": [
    "std::cout << std::boolalpha<< true << std::endl;"
   ]
  },
  {
   "cell_type": "markdown",
   "metadata": {
    "slideshow": {
     "slide_type": "slide"
    }
   },
   "source": [
    "`oct`, `dec`, `hex` set the radix on the stream to either octal (base 8), decimal (base 10), or hexadecimal (base 16). This can be used either to format output or change the base for input."
   ]
  },
  {
   "cell_type": "code",
   "execution_count": 13,
   "metadata": {
    "slideshow": {
     "slide_type": "fragment"
    }
   },
   "outputs": [
    {
     "name": "stdout",
     "output_type": "stream",
     "text": [
      "10\n"
     ]
    }
   ],
   "source": [
    "std::cout << 10 << std::endl;"
   ]
  },
  {
   "cell_type": "code",
   "execution_count": 14,
   "metadata": {
    "slideshow": {
     "slide_type": "fragment"
    }
   },
   "outputs": [
    {
     "name": "stdout",
     "output_type": "stream",
     "text": [
      "10\n"
     ]
    }
   ],
   "source": [
    "std::cout << std::dec << 10 << std::endl;"
   ]
  },
  {
   "cell_type": "code",
   "execution_count": 15,
   "metadata": {
    "slideshow": {
     "slide_type": "fragment"
    }
   },
   "outputs": [
    {
     "name": "stdout",
     "output_type": "stream",
     "text": [
      "12\n"
     ]
    }
   ],
   "source": [
    "std::cout << std::oct << 10 << std::endl;"
   ]
  },
  {
   "cell_type": "code",
   "execution_count": 16,
   "metadata": {
    "slideshow": {
     "slide_type": "fragment"
    }
   },
   "outputs": [
    {
     "name": "stdout",
     "output_type": "stream",
     "text": [
      "a\n"
     ]
    }
   ],
   "source": [
    "std::cout << std::hex << 10 << std::endl;"
   ]
  },
  {
   "cell_type": "markdown",
   "metadata": {
    "slideshow": {
     "slide_type": "subslide"
    }
   },
   "source": [
    "More example of stream library use in here: https://andersy005.github.io/blog/2018/01/20/play-interactively-with-cpp-streams/"
   ]
  },
  {
   "cell_type": "markdown",
   "metadata": {
    "slideshow": {
     "slide_type": "slide"
    }
   },
   "source": [
    "## Conditional Statement\n",
    "\n",
    "The **if statement (conditional statement)** allows a program to take alternative action based on whether a condition is **true or false**.\n",
    "- If the condition is true, the statement in the body of the if statement is executed.\n",
    "- If the condition is false, the body statement is not executed.\n",
    "\n",
    "```c\n",
    "if (logical-condition)\n",
    "{\n",
    "// statements are executed if the condition is true\n",
    "}\n",
    "else\n",
    "{\n",
    "// statements are executed if the condition is false\n",
    "}\n",
    "```"
   ]
  },
  {
   "cell_type": "markdown",
   "metadata": {
    "slideshow": {
     "slide_type": "slide"
    }
   },
   "source": [
    "## Conditional Statement (cont.)\n",
    "\n",
    "Conditions in *if* statements can be formed by using the equality operators and relational operators.\n",
    "- The relational operators all have the same level of precedence and associate left to right.\n",
    "- The equality operators both have the same level of precedence, which is lower than that of the relational operators, and associate left to right.\n",
    "\n",
    "*else* part of the conditional statement is optional, so the following code is valid.\n",
    "```c\n",
    "if (logical-condition)\n",
    "{\n",
    "// statements are executed if the condition is true\n",
    "}\n",
    "```\n",
    "\n",
    "*Tips: Indent the statement(s) in the body of an if statement to enhance readability.*"
   ]
  },
  {
   "cell_type": "markdown",
   "metadata": {
    "slideshow": {
     "slide_type": "slide"
    }
   },
   "source": [
    "## Equality and Relational Operators\n",
    "\n",
    "![relational operators](../img/relational_operators.png)"
   ]
  },
  {
   "cell_type": "markdown",
   "metadata": {
    "slideshow": {
     "slide_type": "slide"
    }
   },
   "source": [
    "## Comparing integers"
   ]
  },
  {
   "cell_type": "code",
   "execution_count": null,
   "metadata": {
    "slideshow": {
     "slide_type": "slide"
    }
   },
   "outputs": [],
   "source": [
    "// Comparing integers using if statements, relational operators\n",
    "// and equality operators.\n",
    "#include <iostream> // enables program to perform input and output\n",
    "\n",
    "using std::cout; // program uses cout\n",
    "using std::cin; // program uses cin\n",
    "using std::endl; // program uses endl\n",
    "\n",
    "// function main begins program execution\n",
    "int main() {\n",
    "   int number1{0}; // first integer to compare (initialized to 0)\n",
    "   int number2{0}; // second integer to compare (initialized to 0)\n",
    "   \n",
    "   cout << \"Enter two integers to compare: \"; // prompt user for data\n",
    "   cin >> number1 >> number2; // read two integers from user\n",
    "\n",
    "   if (number1 == number2) {\n",
    "      cout << number1 << \" == \" << number2 << endl;\n",
    "   }\n",
    "\n",
    "   if (number1 != number2) {\n",
    "      cout << number1 << \" != \" << number2 << endl;\n",
    "   }\n",
    "\n",
    "   if (number1 < number2) {\n",
    "      cout << number1 << \" < \" << number2 << endl;\n",
    "   }\n",
    "\n",
    "   if (number1 > number2) {\n",
    "      cout << number1 << \" > \" << number2 << endl;\n",
    "   }\n",
    "\n",
    "   if (number1 <= number2) {\n",
    "      cout << number1 << \" <= \" << number2 << endl;\n",
    "   }\n",
    "\n",
    "   if (number1 >= number2) {\n",
    "      cout << number1 << \" >= \" << number2 << endl;\n",
    "   }\n",
    "} // end function main"
   ]
  },
  {
   "cell_type": "markdown",
   "metadata": {
    "slideshow": {
     "slide_type": "slide"
    }
   },
   "source": [
    "### Exersise\n",
    "\n",
    "Write a program that asks for the number of calories and fat grams in a food.\n",
    "\n",
    "- The program should display the percentage of calories that come from fat.\n",
    "- If the calories from fat are less than 30% of the total calories of the food, it should also display a message indicating that the food is low in fat.\n",
    "- One gram of fat has 9 calories, so Calories_from_fat = fat_grams * 9\n",
    "- Your program should display instructions to the user, and should check that inputs make sense, exiting with an informative error message if not."
   ]
  }
 ],
 "metadata": {
  "celltoolbar": "Slideshow",
  "kernelspec": {
   "display_name": "C++14",
   "language": "C++14",
   "name": "xcpp14"
  },
  "language_info": {
   "codemirror_mode": "text/x-c++src",
   "file_extension": ".cpp",
   "mimetype": "text/x-c++src",
   "name": "c++",
   "version": "-std=c++14"
  }
 },
 "nbformat": 4,
 "nbformat_minor": 2
}
