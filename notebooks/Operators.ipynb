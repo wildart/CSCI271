{
 "cells": [
  {
   "cell_type": "markdown",
   "metadata": {
    "slideshow": {
     "slide_type": "slide"
    }
   },
   "source": [
    "# Operators"
   ]
  },
  {
   "cell_type": "markdown",
   "metadata": {
    "slideshow": {
     "slide_type": "slide"
    }
   },
   "source": [
    "## Compound Assignment Operators\n",
    "\n",
    "- The **compound assignment operators** abbreviate assignment expressions.\n",
    "- The `+=` operator adds the value of the expression on the right of the operator to the value of the variable on the left of the operator and stores the result in the variable on the left of the operator.\n",
    "\n",
    "Example:\n",
    "```c++\n",
    "a += 1;\n",
    "// the following code is the same as the above\n",
    "a = a + 1;\n",
    "```"
   ]
  },
  {
   "cell_type": "markdown",
   "metadata": {
    "slideshow": {
     "slide_type": "slide"
    }
   },
   "source": [
    "## Syntax\n",
    "\n",
    "Any statement of the form\n",
    "\n",
    "    variable = variable operator expression;\n",
    "\n",
    "in which **the same variable appears on both sides of the assignment operator and operator is one of the binary operators**:\n",
    "\n",
    "    + - * / % & |\n",
    "\n",
    "can be written in the form\n",
    "\n",
    "    variable operator= expression;\n"
   ]
  },
  {
   "cell_type": "code",
   "execution_count": null,
   "metadata": {
    "slideshow": {
     "slide_type": "slide"
    }
   },
   "outputs": [],
   "source": [
    "#include <iostream>\n",
    "using namespace std;\n",
    "\n",
    "int main() {\n",
    "   int a = 21;\n",
    "   int c ;\n",
    "   c =  a;\n",
    "   cout << \"Line 1 - =  Operator, Value of c = : \" <<c<< endl ;\n",
    "   c +=  a;\n",
    "   cout << \"Line 2 - += Operator, Value of c = : \" <<c<< endl ;\n",
    "   c -=  a;\n",
    "   cout << \"Line 3 - -= Operator, Value of c = : \" <<c<< endl ;\n",
    "   c *=  a;\n",
    "   cout << \"Line 4 - *= Operator, Value of c = : \" <<c<< endl ;\n",
    "   c /=  a;\n",
    "   cout << \"Line 5 - /= Operator, Value of c = : \" <<c<< endl ;\n",
    "   c  = 200;\n",
    "   c %=  a;\n",
    "   cout << \"Line 6 - %= Operator, Value of c = : \" <<c<< endl ;\n",
    "   c <<=  2;\n",
    "   cout << \"Line 7 - <<= Operator, Value of c = : \" <<c<< endl ;\n",
    "   c >>=  2;\n",
    "   cout << \"Line 8 - >>= Operator, Value of c = : \" <<c<< endl ;\n",
    "   c &=  2;\n",
    "   cout << \"Line 9 - &= Operator, Value of c = : \" <<c<< endl ;\n",
    "   c ^=  2;\n",
    "   cout << \"Line 10 - ^= Operator, Value of c = : \" <<c<< endl ;\n",
    "   c |=  2;\n",
    "   cout << \"Line 11 - |= Operator, Value of c = : \" <<c<< endl ;\n",
    "   return 0;\n",
    "}"
   ]
  },
  {
   "cell_type": "markdown",
   "metadata": {
    "slideshow": {
     "slide_type": "slide"
    }
   },
   "source": [
    "[Run above example](http://tpcg.io/izo0rn)"
   ]
  },
  {
   "cell_type": "markdown",
   "metadata": {
    "slideshow": {
     "slide_type": "slide"
    }
   },
   "source": [
    "## Logical Operators\n",
    "\n",
    "C++ provides **logical operators** that are used to form more complex conditions by combining simple conditions.\n",
    "\n",
    "- The logical operators are\n",
    "    - logical AND: `&&` \n",
    "    - logical OR: `||` \n",
    "    - logical NOT: `!` (also called logical negation)."
   ]
  },
  {
   "cell_type": "markdown",
   "metadata": {
    "slideshow": {
     "slide_type": "slide"
    }
   },
   "source": [
    "The **&&** (logical AND) operator is used to ensure that two conditions are both true before we choose a certain path of execution.\n",
    "- The simple condition to the left of the && operator evaluates first.\n",
    "- If necessary, the simple condition to the right of the && operator evaluates next.\n",
    "- The right side of a logical AND expression is evaluated only if the left side is true.\n",
    "\n",
    "The **||** (logical OR) operator determines if either or both of two conditions are true before we choose a certain path of execution.\n",
    "- The `&&` operator has a higher precedence than the `||` operator.\n",
    "- Both operators associate from left to right.\n",
    "\n",
    "The **!** (logical negation, also called logical NOT or logical complement) operator \"reverses\" the meaning of a condition.\n",
    "- Unlike the logical operators `&&` and `||`, which are binary operators that combine two conditions, the logical negation operator is a unary operator that has only one condition as an operand.\n"
   ]
  },
  {
   "cell_type": "markdown",
   "metadata": {
    "slideshow": {
     "slide_type": "slide"
    }
   },
   "source": [
    "### Truth table for the logical operators\n",
    "\n",
    "<img src=\"../img/logicops.png\" style=\"width:800px;\" />"
   ]
  },
  {
   "cell_type": "code",
   "execution_count": null,
   "metadata": {
    "slideshow": {
     "slide_type": "slide"
    }
   },
   "outputs": [],
   "source": [
    "// Logical operators.\n",
    "#include <iostream>\n",
    "using namespace std;\n",
    "int main() {\n",
    "    // create truth table for && (logical AND) operator\n",
    "    cout << boolalpha << \"Logical AND (&&)\"\n",
    "        << \"\\nfalse && false: \" << (false && false)\n",
    "        << \"\\nfalse && true: \" << (false && true)\n",
    "        << \"\\ntrue && false: \" << (true && false)\n",
    "        << \"\\ntrue && true: \" << (true && true) << \"\\n\\n\";\n",
    "\n",
    "    // create truth table for || (logical OR) operator\n",
    "    cout << \"Logical OR (||)\"\n",
    "        << \"\\nfalse || false: \" << (false || false)\n",
    "        << \"\\nfalse || true: \" << (false || true)\n",
    "        << \"\\ntrue || false: \" << (true || false)\n",
    "        << \"\\ntrue || true: \" << (true || true) << \"\\n\\n\";\n",
    "\n",
    "    // create truth table for ! (logical negation) operator\n",
    "    cout << \"Logical negation (!)\"\n",
    "        << \"\\n!false: \" << (!false)\n",
    "        << \"\\n!true: \" << (!true) << endl;\n",
    "}"
   ]
  },
  {
   "cell_type": "markdown",
   "metadata": {
    "slideshow": {
     "slide_type": "slide"
    }
   },
   "source": [
    "## Increment/Decrement\n",
    "\n",
    "C++ also provides two unary operators for adding 1 to or subtracting 1 from the value of a numeric variable.\n",
    "\n",
    "- These are the unary increment operator, `++`.\n",
    "- These are the unary decrement operator, `--`.\n",
    "\n",
    "Like all other C++ operators, `++`(`--`) returns a value:\n",
    "\n",
    "- If `++` precedes the variable, e.g. `++counter`, the value returned is the value in counter __after__ it has been incremented.\n",
    "- If `++` follows the variable, e.g. `counter++`, the value returned is the value in counter __before__ it has been incremented.\n",
    "\n",
    "_Fun fact: This allows some C++ pedants to say that C++ is wrong, as it implies the enhanced value isn't used, and that it should be called ++C._"
   ]
  },
  {
   "cell_type": "markdown",
   "metadata": {
    "slideshow": {
     "slide_type": "slide"
    }
   },
   "source": [
    "## Prefix & Postfix operations\n",
    "\n",
    "<img src=\"../img/inc.png\" style=\"width:800px;\" />"
   ]
  },
  {
   "cell_type": "code",
   "execution_count": null,
   "metadata": {
    "slideshow": {
     "slide_type": "slide"
    }
   },
   "outputs": [],
   "source": [
    "#include <iostream>\n",
    "using namespace std;\n",
    "\n",
    "main() {\n",
    "   int a = 21;\n",
    "   int c ;\n",
    "\n",
    "   // Value of a will not be increased before assignment.\n",
    "   c = a++;\n",
    "   cout << \"Line 1 - Value of a++ is :\" << c << endl ;\n",
    "\n",
    "   // After expression value of a is increased\n",
    "   cout << \"Line 2 - Value of a is :\" << a << endl ;\n",
    "\n",
    "   // Value of a will be increased before assignment.\n",
    "   c = ++a;\n",
    "   cout << \"Line 3 - Value of ++a is  :\" << c << endl ;\n",
    "   return 0;\n",
    "}"
   ]
  },
  {
   "cell_type": "markdown",
   "metadata": {
    "slideshow": {
     "slide_type": "slide"
    }
   },
   "source": [
    "[Run above example](http://tpcg.io/LM8eIY)"
   ]
  },
  {
   "cell_type": "markdown",
   "metadata": {
    "slideshow": {
     "slide_type": "slide"
    }
   },
   "source": [
    "## Note\n",
    "\n",
    "Attempting to use the increment or decrement operator on an expression other than one to which a value can be assigned is a syntax error. For example, writing\n",
    "\n",
    "```c++\n",
    "++(x+1) // a syntax error, because (x + 1) is not a variable.\n",
    "```\n"
   ]
  },
  {
   "cell_type": "markdown",
   "metadata": {
    "slideshow": {
     "slide_type": "slide"
    }
   },
   "source": [
    "## Preprocessor Constants\n",
    "\n",
    "\n",
    "Use **#define** command to create a macro, which is the association of an identifier or parameterized identifier with a token string. \n",
    "- After the macro is defined, the compiler can substitute the token string for each occurrence of the identifier in the source file.\n",
    "    \n",
    "Example:\n",
    "\n",
    "    #define WIDTH (x + 80)\n",
    "    var = WIDTH * 20;\n",
    "\n",
    "After the preprocessing stage the statement becomes:\n",
    "\n",
    "    var = (x + 80) * 20;\n"
   ]
  }
 ],
 "metadata": {
  "celltoolbar": "Slideshow",
  "kernelspec": {
   "display_name": "C++14",
   "language": "C++14",
   "name": "xcpp14"
  },
  "language_info": {
   "codemirror_mode": "text/x-c++src",
   "file_extension": ".cpp",
   "mimetype": "text/x-c++src",
   "name": "c++",
   "version": "-std=c++14"
  }
 },
 "nbformat": 4,
 "nbformat_minor": 2
}
