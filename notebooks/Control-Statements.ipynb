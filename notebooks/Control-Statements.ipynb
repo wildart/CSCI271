{
 "cells": [
  {
   "cell_type": "code",
   "execution_count": 2,
   "metadata": {
    "slideshow": {
     "slide_type": "skip"
    }
   },
   "outputs": [],
   "source": [
    "#include <iostream>\n",
    "using namespace std;"
   ]
  },
  {
   "cell_type": "markdown",
   "metadata": {
    "slideshow": {
     "slide_type": "slide"
    }
   },
   "source": [
    "# Control Statements"
   ]
  },
  {
   "cell_type": "markdown",
   "metadata": {
    "slideshow": {
     "slide_type": "slide"
    }
   },
   "source": [
    "## Algorithms\n",
    "\n",
    "- Any solvable computing problem can be solved by the execution a series of actions in a specific order.\n",
    "- An **algorithm** is a **procedure** for solving a problem in terms of\n",
    "  - the **actions** to execute and\n",
    "  - the **order** in which these actions execute\n",
    "- Specifying the order in which statements (actions) execute in a computer program is called **program control**."
   ]
  },
  {
   "cell_type": "markdown",
   "metadata": {
    "slideshow": {
     "slide_type": "slide"
    }
   },
   "source": [
    "## Pseudocode\n",
    "\n",
    "- Pseudocode is an artificial and informal language that helps you develop algorithms.\n",
    "- Similar to everyday English\n",
    "- Convenient and user friendly.\n",
    "- Helps you \"think out\" a program before attempting to write it.\n",
    "- Carefully prepared pseudocode can easily be converted to structured portions of C++ programs.\n",
    "- Normally describes only executable statements.\n",
    "- Declarations (that do not have initializers or do not involve constructor calls) are not executable statements."
   ]
  },
  {
   "cell_type": "markdown",
   "metadata": {
    "slideshow": {
     "slide_type": "slide"
    }
   },
   "source": [
    "## Pseudocode (cont.)\n",
    "\n",
    "**Example:** the algorithm that inputs two integers from the user, adds these integers and displays their sum.\n",
    "```\n",
    "Prompt the user to enter the first integer\n",
    "Input the first integer\n",
    "\n",
    "Prompt the user to enter the second integer\n",
    "Input the second integer\n",
    "\n",
    "Add first and second integers, store result\n",
    "Display result\n",
    "```"
   ]
  },
  {
   "cell_type": "markdown",
   "metadata": {
    "slideshow": {
     "slide_type": "slide"
    }
   },
   "source": [
    "## Control Structures\n",
    "\n",
    "- Normally, statements in a program are executed one after the other in the order in which they’re written.\n",
    "  - Called **sequential execution**.\n",
    "- Various C++ statements enable you to specify that the next statement to execute may be other than the next one in sequence.\n",
    "- Called **transfer of control**.\n",
    "- All programs could be written in terms of only three **control structures**:\n",
    "  - the **sequence structure**\n",
    "  - the **selection structure**\n",
    "  - the **iteration structure**\n"
   ]
  },
  {
   "cell_type": "markdown",
   "metadata": {
    "slideshow": {
     "slide_type": "slide"
    }
   },
   "source": [
    "## Sequence Structure\n",
    "\n",
    "![Sequence-Structure Activity Diagram](../img/seq1.png)\n",
    "\n",
    "*Note: The Unified Modeling Language (UML) activity diagram of  illustrates a typical sequence structure in which two calculations are performed in order*\n",
    "\n",
    "- An activity diagram models the **workflow** (also called the **activity**) of a portion of a software system."
   ]
  },
  {
   "cell_type": "markdown",
   "metadata": {
    "slideshow": {
     "slide_type": "slide"
    }
   },
   "source": [
    "## Activity Diagrams\n",
    "\n",
    "- Activity diagrams help you develop and represent algorithms, but many programmers prefer pseudocode.\n",
    "- Activity diagrams clearly show how control structures operate.\n",
    "- Activity diagrams are composed of special-purpose symbols, such as **action state symbols** (rectangles with their left and right sides replaced with arcs curving outward), **diamonds** and **small circles**; these symbols are connected by **transition arrows**, which represent the flow of the activity."
   ]
  },
  {
   "cell_type": "markdown",
   "metadata": {
    "slideshow": {
     "slide_type": "slide"
    }
   },
   "source": [
    "## Activity Diagrams (cont.)\n",
    "\n",
    "- The **solid circle** at the top of the diagram represents the activity's **initial state** - the beginning of the workflow before the program performs the modeled activities.\n",
    "- The **solid circle surrounded by a hollow circle** that appears at the bottom of the activity diagram represents the **final state** - the end of the workflow after the program performs its activities.\n",
    "- **Action states** represent actions to perform.\n",
    "  - Each contains an **action expression** that specifies a particular action to perform.\n",
    "- The arrows in the activity diagram are called transition arrows.\n",
    "  - Represent **transitions**, which indicate the order in which the actions represented by the action states occur.\n",
    "- Rectangles with the upper-right corners folded over are called **notes** in the UML.\n",
    "  - Explanatory remarks that describe the purpose of symbols in the diagram.\n",
    "- A **dotted line** connects each note with the element that the note describes."
   ]
  },
  {
   "cell_type": "markdown",
   "metadata": {
    "slideshow": {
     "slide_type": "slide"
    }
   },
   "source": [
    "## Selection Statements\n",
    "\n",
    "C++ has three types of selection statements:\n",
    "- The **if** selection statement either performs (selects) an action (or group of actions) if a condition (predicate) is true or skips the action (or group of actions) if the condition is false.\n",
    "- The **if...else** selection statement performs an action (or group of actions) if a condition is true or performs a different action (or group of actions) if the condition is false.\n",
    "- The **switch** selection statement performs one of many different actions (or groups of actions), depending on the value of an integer expression.\n"
   ]
  },
  {
   "cell_type": "markdown",
   "metadata": {
    "slideshow": {
     "slide_type": "slide"
    }
   },
   "source": [
    "## Selection Statements (cont.)\n",
    "\n",
    "C++ has three types of selection statements:\n",
    "- The **if** selection statement is a **single-selection statement** because it selects or ignores a single action (or group of actions).\n",
    "- The **if...else** statement is called a **double-selection statement** because it selects between two different actions (or groups of actions).\n",
    "- The **switch** selection statement is called a **multiple-selection statement** because it selects among many different actions (or groups of actions).\n"
   ]
  },
  {
   "cell_type": "markdown",
   "metadata": {
    "slideshow": {
     "slide_type": "slide"
    }
   },
   "source": [
    "## If Single-Selection Statement\n",
    "\n",
    "Problem:\n",
    "\n",
    "- Determine whether student’s grade is greater than or equal to 60 and inform student about passing a course.\n",
    "\n",
    "Pseudocode:\n",
    "\n",
    "```\n",
    "If student’s grade is greater than or equal to 60\n",
    "  Print \"Passed\"\n",
    "```\n",
    "\n",
    "- If true, \"Passed\" is printed and the next pseudocode statement in order is \"performed\".\n",
    "- If false, the print statement is ignored and the next pseudocode statement in order is performed.\n",
    "- The indentation of the second line is optional, but it’s recommended because it emphasizes the inherent structure of structured programs."
   ]
  },
  {
   "cell_type": "markdown",
   "metadata": {
    "slideshow": {
     "slide_type": "slide"
    }
   },
   "source": [
    "## Blocks\n",
    "\n",
    "- The *if* statement normally expects only one statement in its body.\n",
    "- To include several statements in an *if* (or the body of an else for an *if...else* statement), enclose the statements in braces.\n",
    "- Good practice to always use the braces.\n",
    "- Statements contained in a pair of braces form a **block**.\n",
    "- A block can be placed anywhere in a function that a single statement can be placed.\n",
    "- Just as a block can be placed anywhere a single statement can be placed, it’s also possible to have no statement at all—called a **null statement** (or an **empty statement**).\n",
    "- The null statement is represented by placing a semicolon (;) where a statement would normally be."
   ]
  },
  {
   "cell_type": "markdown",
   "metadata": {
    "slideshow": {
     "slide_type": "slide"
    }
   },
   "source": [
    "## If Single-Selection Statement\n",
    "\n",
    "Diagram:\n",
    "\n",
    "![if single](../img/ifsingle.png)\n",
    "\n",
    "The *diamond* or **decision symbol** indicates that a decision is to be made.\n",
    "- The workflow will continue along a path determined by the symbol's associated guard conditions, which can be true or false.\n",
    "- Each transition arrow emerging from a decision symbol has a guard condition in **square brackets** above or next to the arrow.\n",
    "- If a **guard condition** is true, the workflow enters the action state to which that transition arrow points."
   ]
  },
  {
   "cell_type": "markdown",
   "metadata": {
    "slideshow": {
     "slide_type": "slide"
    }
   },
   "source": [
    "## Program"
   ]
  },
  {
   "cell_type": "code",
   "execution_count": 1,
   "metadata": {
    "slideshow": {
     "slide_type": "fragment"
    }
   },
   "outputs": [
    {
     "name": "stdout",
     "output_type": "stream",
     "text": [
      "Passed"
     ]
    }
   ],
   "source": [
    "#include <iostream>\n",
    "\n",
    "int studentGrade = 80;\n",
    "\n",
    "if (studentGrade >= 60) {\n",
    "    std::cout << \"Passed\";\n",
    "}"
   ]
  },
  {
   "cell_type": "markdown",
   "metadata": {
    "slideshow": {
     "slide_type": "slide"
    }
   },
   "source": [
    "## if...else Double-Selection Statement\n",
    "\n",
    "Specifies an action (or group of actions) to perform when the condition is true and a different action to perform when the condition is false.\n",
    "\n",
    "Problem:\n",
    "\n",
    "- Print “Passed” if the student's grade is greater than or equal to 60, or “Failed” otherwise.\n",
    "\n",
    "Pseudocode:\n",
    "\n",
    "```\n",
    "If student’s grade is greater than or equal to 60\n",
    "  Print \"Passed\"\n",
    "Else\n",
    "  Print \"Failed\"\n",
    "```"
   ]
  },
  {
   "cell_type": "markdown",
   "metadata": {
    "slideshow": {
     "slide_type": "slide"
    }
   },
   "source": [
    "## Diagram\n",
    "\n",
    "![ifsingle](../img/ifdouble.png)"
   ]
  },
  {
   "cell_type": "markdown",
   "metadata": {
    "slideshow": {
     "slide_type": "slide"
    }
   },
   "source": [
    "## Program"
   ]
  },
  {
   "cell_type": "code",
   "execution_count": 2,
   "metadata": {
    "slideshow": {
     "slide_type": "fragment"
    }
   },
   "outputs": [
    {
     "name": "stdout",
     "output_type": "stream",
     "text": [
      "Passed"
     ]
    }
   ],
   "source": [
    "if (studentGrade >= 60) {\n",
    "    std::cout << \"Passed\";\n",
    "}\n",
    "else {\n",
    "    std::cout << \"Failed\";  \n",
    "}"
   ]
  },
  {
   "cell_type": "markdown",
   "metadata": {
    "slideshow": {
     "slide_type": "slide"
    }
   },
   "source": [
    "## Nested if...else Statements\n",
    "\n",
    "**Nested if...else statements** test for multiple cases by placing if...else selection statements inside other if...else selection statements.\n",
    "\n",
    "Problem:\n",
    "\n",
    "- Print symbol grade based on the student's numerical grade."
   ]
  },
  {
   "cell_type": "markdown",
   "metadata": {
    "slideshow": {
     "slide_type": "slide"
    }
   },
   "source": [
    "## Pseudocode:\n",
    "\n",
    "```\n",
    "If student’s grade is greater than or equal to 90\n",
    "  Print \"A\"\n",
    "Else\n",
    "  If student’s grade is greater than or equal to 80\n",
    "    Print \"B\"\n",
    "  Else\n",
    "    If student’s grade is greater than or equal to 70\n",
    "      Print \"C\"\n",
    "    Else\n",
    "      If student’s grade is greater than or equal to 60\n",
    "        Print \"D\"\n",
    "      Else\n",
    "        Print \"F\"\n",
    "```"
   ]
  },
  {
   "cell_type": "markdown",
   "metadata": {
    "slideshow": {
     "slide_type": "slide"
    }
   },
   "source": [
    "## Program"
   ]
  },
  {
   "cell_type": "code",
   "execution_count": 3,
   "metadata": {
    "slideshow": {
     "slide_type": "fragment"
    }
   },
   "outputs": [
    {
     "name": "stdout",
     "output_type": "stream",
     "text": [
      "B"
     ]
    }
   ],
   "source": [
    "if (studentGrade >= 90) {\n",
    "    std::cout << \"A\";\n",
    "}\n",
    "else if (studentGrade >= 80) {\n",
    "    std::cout << \"B\";\n",
    "}\n",
    "else if (studentGrade >= 70) {\n",
    "    std::cout << \"C\";\n",
    "}\n",
    "else if (studentGrade >= 60) {\n",
    "    std::cout << \"D\";\n",
    "}\n",
    "else {\n",
    "    std::cout << \"F\";  \n",
    "}"
   ]
  },
  {
   "cell_type": "markdown",
   "metadata": {
    "slideshow": {
     "slide_type": "slide"
    }
   },
   "source": [
    "## Iteration Statements\n",
    "\n",
    "C++ provides three types of iteration statements (also called **looping statements** or **loops**) for performing statements repeatedly while a condition (called the **loop-continuation condition**) remains true - **while**, **do...while** and **for**.\n",
    "- The **while** and **for** statements perform the action (or group of actions) in their bodies zero or more times.\n",
    "- The **do...while** statement performs the action (or group of actions) in its body **at least once**.\n"
   ]
  },
  {
   "cell_type": "markdown",
   "metadata": {
    "slideshow": {
     "slide_type": "slide"
    }
   },
   "source": [
    "## *while* Iteration Statement\n",
    "\n",
    "An iteration statement (also called a **looping statement** or a **loop**) allows you to specify that a program should repeat an action while some condition remains true.\n",
    "\n",
    "- The syntax of a while loop in C++ is\n",
    "```c++\n",
    "while(condition) {\n",
    "    statement(s);\n",
    "}\n",
    "```"
   ]
  },
  {
   "cell_type": "markdown",
   "metadata": {
    "slideshow": {
     "slide_type": "slide"
    }
   },
   "source": [
    "![while-loop](../img/cpp_while_loop.png)"
   ]
  },
  {
   "cell_type": "markdown",
   "metadata": {
    "slideshow": {
     "slide_type": "slide"
    }
   },
   "source": [
    "## Example\n",
    "\n",
    "    While there are more items on my shopping list\n",
    "        Purchase next item and cross it off my list\n",
    "\n",
    "“There are more items on my shopping list” is true or false.\n",
    "- If true, “Purchase next item and cross it off my list” is performed.\n",
    "    - Performed repeatedly while the condition remains true.\n",
    "- The statement contained in the While iteration statement constitutes the body of the While\n",
    "- Eventually, the condition will become false, the iteration will terminate, and the first pseudocode statement after the iteration statement will execute.\n"
   ]
  },
  {
   "cell_type": "markdown",
   "metadata": {
    "slideshow": {
     "slide_type": "slide"
    }
   },
   "source": [
    "### Example \n",
    "\n",
    "Consider a program segment that finds the first exponent of the base 3 larger than 100. When the following **while** iteration statement finishes executing, product contains the result."
   ]
  },
  {
   "cell_type": "code",
   "execution_count": 6,
   "metadata": {
    "slideshow": {
     "slide_type": "fragment"
    }
   },
   "outputs": [
    {
     "name": "stdout",
     "output_type": "stream",
     "text": [
      "iteration: exp = 3\n",
      "iteration: exp = 9\n",
      "iteration: exp = 27\n",
      "iteration: exp = 81\n",
      "iteration: exp = 243\n",
      "243 = 3^5\n"
     ]
    }
   ],
   "source": [
    "{   // Find 3^k > 100\n",
    "    int ExpOf3 = 1; // initial case: 3^0 = 1\n",
    "    while (ExpOf3 <= 100) {\n",
    "        ExpOf3 = 3 * ExpOf3; // a^n = a * a^(n-1)\n",
    "        cout << \"iteration: exp = \" << ExpOf3 << endl;\n",
    "    }\n",
    "    std::cout << ExpOf3 << \" = 3^5\" << endl;\n",
    "}"
   ]
  },
  {
   "cell_type": "code",
   "execution_count": 10,
   "metadata": {
    "slideshow": {
     "slide_type": "slide"
    }
   },
   "outputs": [
    {
     "name": "stdout",
     "output_type": "stream",
     "text": [
      "iteration: exp = 3, n=1\n",
      "iteration: exp = 9, n=2\n",
      "iteration: exp = 27, n=3\n",
      "iteration: exp = 81, n=4\n",
      "iteration: exp = 243, n=5\n",
      "243 = 3^5\n",
      "power = 5"
     ]
    }
   ],
   "source": [
    "{\n",
    "    // Find 3^k > 100\n",
    "    int ExpOf3 = 1; // initial case: 3^0 = 1\n",
    "    int n = 0;      // power counter \n",
    "\n",
    "    while (ExpOf3 <= 100) {\n",
    "        ExpOf3 = 3 * ExpOf3; // a^n = a * a^(n-1)\n",
    "        ++n; // n = n+1\n",
    "        cout << \"iteration: exp = \" << ExpOf3 << \", n=\" << n << endl;\n",
    "    }\n",
    "    std::cout << ExpOf3 << \" = 3^5\" << endl;\n",
    "    std::cout << \"power = \" << n;\n",
    "}"
   ]
  },
  {
   "cell_type": "code",
   "execution_count": 13,
   "metadata": {
    "slideshow": {
     "slide_type": "slide"
    }
   },
   "outputs": [
    {
     "name": "stdout",
     "output_type": "stream",
     "text": [
      "iteration: exp = 1, n=0\n",
      "iteration: exp = 3, n=1\n",
      "iteration: exp = 9, n=2\n",
      "iteration: exp = 27, n=3\n",
      "iteration: exp = 81, n=4\n",
      "iteration: exp = 243, n=5\n",
      "243 = 3^5\n",
      "power = 5"
     ]
    }
   ],
   "source": [
    "#include <cmath>\n",
    "{\n",
    "    // Find 3^k > 100\n",
    "    int ExpOf3 = 1; // initial case: 3^0 = 1\n",
    "    int n = 0;      // power counter \n",
    "\n",
    "    while (ExpOf3 <= 100) {\n",
    "        ExpOf3 = pow(3, n); // a^n\n",
    "        cout << \"iteration: exp = \" << ExpOf3 << \", n=\" << n << endl;\n",
    "        ++n; // n = n+1\n",
    "    }\n",
    "    std::cout << ExpOf3 << \" = 3^5\" << endl;\n",
    "    std::cout << \"power = \" << n-1;\n",
    "}"
   ]
  },
  {
   "cell_type": "markdown",
   "metadata": {
    "slideshow": {
     "slide_type": "slide"
    }
   },
   "source": [
    "## UML Diagram\n",
    "\n",
    "![while](../img/while.png)"
   ]
  },
  {
   "cell_type": "markdown",
   "metadata": {
    "slideshow": {
     "slide_type": "slide"
    }
   },
   "source": [
    "## Diagram Notes\n",
    "\n",
    "- Introduces the UML's **merge symbol**, which joins two flows of activity into one flow of activity.\n",
    "- The UML represents both the merge symbol and the decision symbol as diamonds.\n",
    "- The merge symbol joins the transitions from the initial state and from the action state, so they both flow into the decision that determines whether the loop should begin (or continue) executing.\n",
    "- The decision and merge symbols can be distinguished by the number of \"incoming\" and \"outgoing\" transition arrows.\n",
    "- A decision symbol has one transition arrow pointing to the diamond and two or more transition arrows pointing out from the diamond to indicate possible transitions from that point.\n",
    "    - Each transition arrow has a guard condition next to it.\n",
    "- A merge symbol has two or more transition arrows pointing to the diamond and only one transition arrow pointing from the diamond, to indicate multiple activity flows merging to continue the activity.\n",
    "- Unlike the decision symbol, the merge symbol does not have a counterpart in C++ code."
   ]
  },
  {
   "cell_type": "markdown",
   "metadata": {
    "slideshow": {
     "slide_type": "slide"
    }
   },
   "source": [
    "### Warning\n",
    "\n",
    "Not providing in the body of a **while** statement an action that eventually causes the condition in the while to become false results in a logic error called an **infinite loop** (the loop never terminates)."
   ]
  },
  {
   "cell_type": "markdown",
   "metadata": {
    "slideshow": {
     "slide_type": "slide"
    }
   },
   "source": [
    "## Problem\n",
    "\n",
    "Develop a class-averaging program that processes grades for an **arbitrary** number of students each time it’s run.\n",
    "- How can it determine when to stop the input of grades?\n",
    "- How will it know when to calculate and print the class average?"
   ]
  },
  {
   "cell_type": "markdown",
   "metadata": {
    "slideshow": {
     "slide_type": "slide"
    }
   },
   "source": [
    "## Sentinel value\n",
    "\n",
    "One way to solve this problem is to use a special value called a **sentinel value** to indicate \"end of data entry.\"\n",
    "- Also called a signal value, a dummy value or a flag value\n",
    "\n",
    "The user enters grades **until all legitimate grades have been entered**.\n",
    "- The user then types the sentinel value to indicate that no more grades will be entered.\n",
    "\n",
    "**Sentinel-controlled iteration** is often called **indefinite iteration** because the number of iterations is not known before the loop begins executing."
   ]
  },
  {
   "cell_type": "markdown",
   "metadata": {
    "slideshow": {
     "slide_type": "slide"
    }
   },
   "source": [
    "## Pseudocode\n",
    "\n",
    "    Determine the class average for the quiz"
   ]
  },
  {
   "cell_type": "markdown",
   "metadata": {
    "slideshow": {
     "slide_type": "slide"
    }
   },
   "source": [
    "## Pseudocode (cont.)\n",
    "\n",
    "    Initialize variables\n",
    "    Input, sum and count the quiz grades\n",
    "    Calculate and print the class average"
   ]
  },
  {
   "cell_type": "markdown",
   "metadata": {
    "slideshow": {
     "slide_type": "slide"
    }
   },
   "source": [
    "## Pseudocode (cont.)\n",
    "\n",
    "    Initialize total to zero\n",
    "    Initialize counter to zero\n",
    "    \n",
    "    Input, sum and count the quiz grades\n",
    "    Calculate and print the class average"
   ]
  },
  {
   "cell_type": "markdown",
   "metadata": {
    "slideshow": {
     "slide_type": "slide"
    }
   },
   "source": [
    "## Pseudocode (cont.)\n",
    "\n",
    "    Initialize total to zero\n",
    "    Initialize counter to zero\n",
    "    \n",
    "    Prompt the user to enter the first grade\n",
    "    Input the first grade (possibly the sentinel)\n",
    "    Continue input\n",
    "    \n",
    "    Calculate and print the class average"
   ]
  },
  {
   "cell_type": "markdown",
   "metadata": {
    "slideshow": {
     "slide_type": "slide"
    }
   },
   "source": [
    "## Pseudocode (cont.)\n",
    "\n",
    "    Initialize total to zero\n",
    "    Initialize counter to zero\n",
    "    \n",
    "    Prompt the user to enter the first grade\n",
    "    Input the first grade (possibly the sentinel)\n",
    "    While the user has not yet entered the sentinel\n",
    "        Add this grade into the running total\n",
    "        Add one to the grade counter\n",
    "        Prompt the user to enter the next grade\n",
    "        Input the next grade (possibly the sentinel)\n",
    "    \n",
    "    Calculate and print the class average"
   ]
  },
  {
   "cell_type": "markdown",
   "metadata": {
    "slideshow": {
     "slide_type": "slide"
    }
   },
   "source": [
    "## Pseudocode (cont.)\n",
    "\n",
    "    Initialize total to zero\n",
    "    Initialize counter to zero\n",
    "    \n",
    "    Prompt the user to enter the first grade\n",
    "    Input the first grade (possibly the sentinel)\n",
    "    While the user has not yet entered the sentinel\n",
    "        Add this grade into the running total\n",
    "        Add one to the grade counter\n",
    "        Prompt the user to enter the next grade\n",
    "        Input the next grade (possibly the sentinel)\n",
    "    \n",
    "    If the counter is not equal to zero\n",
    "        Set the average to the total divided by the counter\n",
    "        Print the average\n",
    "    else\n",
    "        Print \"No grades were entered\""
   ]
  },
  {
   "cell_type": "code",
   "execution_count": null,
   "metadata": {
    "slideshow": {
     "slide_type": "slide"
    }
   },
   "outputs": [],
   "source": [
    "#include <iostream>\n",
    "using namespace std;\n",
    "\n",
    "int main()\n",
    "{\n",
    "    int total = 0, counter = 0; // Initialize variables\n",
    "    int grade;\n",
    "    \n",
    "    // Prompt the user to enter the grade\n",
    "    cout << \"Enter the grade: \";\n",
    "    cin >> grade;\n",
    "    // While the user has not yet entered the sentinel, enter more data\n",
    "    while(grade >= 0){\n",
    "        total += grade; // total = total + grade\n",
    "        counter++;      // counter = counter + 1\n",
    "        cout << \"Enter the grade: \";\n",
    "    }\n",
    "    \n",
    "    if (counter > 0)\n",
    "        cout << \"Average grade is \" << total/counter << endl;\n",
    "    else\n",
    "        cout << \"No grades were entered\" << endl;\n",
    "    \n",
    "    return 0;\n",
    "}"
   ]
  },
  {
   "cell_type": "markdown",
   "metadata": {
    "slideshow": {
     "slide_type": "slide"
    }
   },
   "source": [
    "## Problem\n",
    "\n",
    "A class of ten students took a quiz. The grades (integers in the range 0-100) for this quiz are available to you. Determine the class average on the quiz.\n",
    "- The class average is equal to the sum of the grades divided by the number of students.\n",
    "- The algorithm for solving this problem on a computer must input each grade, keep track of the total of all grades entered, perform the averaging calculation and print the result."
   ]
  },
  {
   "cell_type": "markdown",
   "metadata": {
    "slideshow": {
     "slide_type": "slide"
    }
   },
   "source": [
    "## Pseudocode\n",
    "\n",
    "    Set total to zero\n",
    "    Set grade counter to one\n",
    "    \n",
    "    While grade counter is less than or equal to ten\n",
    "        Prompt the user to enter the next grade\n",
    "        Input the next grade\n",
    "        Add the grade into the total\n",
    "        Add one to the grade counter\n",
    "    \n",
    "    Set the class average to the total divided by ten\n",
    "    Print the class average"
   ]
  },
  {
   "cell_type": "code",
   "execution_count": null,
   "metadata": {
    "slideshow": {
     "slide_type": "slide"
    }
   },
   "outputs": [],
   "source": [
    "// Solving the class-average problem using counter-controlled iteration.\n",
    "#include <iostream>\n",
    "using namespace std;\n",
    "\n",
    "int main() {\n",
    "    // initialization phase\n",
    "    int total{0}; // initialize sum of grades entered by the user\n",
    "    unsigned int gradeCounter{1}; // initialize grade # to be entered next\n",
    "\n",
    "    // processing phase uses counter-controlled iteration\n",
    "    while ( gradeCounter <= 10 ) { // loop 10 times\n",
    "        cout << \"Enter grade: \"; // prompt\n",
    "        int grade;\n",
    "        cin >> grade; // input next grade\n",
    "        total = total + grade; // add grade to total\n",
    "        gradeCounter = gradeCounter + 1; // increment counter by 1\n",
    "    }\n",
    "    \n",
    "    // termination phase\n",
    "    int average = total / 10; // int division yields int result\n",
    "    \n",
    "    // display total and average of grades\n",
    "    cout << \"\\nTotal of all 10 grades is \" << total;\n",
    "    cout << \"\\nClass average is \" << average << endl;\n",
    "}"
   ]
  },
  {
   "cell_type": "markdown",
   "metadata": {
    "slideshow": {
     "slide_type": "slide"
    }
   },
   "source": [
    "## Algorithm with Counter-Controlled Iteration\n",
    "\n",
    "- This technique uses a variable called a **counter** (or **control variable**) to control the number of times a group of statements will execute.\n",
    "- Often called **definite iteration** because the number of iterations is **known before** the loop begins executing."
   ]
  },
  {
   "cell_type": "markdown",
   "metadata": {
    "slideshow": {
     "slide_type": "slide"
    }
   },
   "source": [
    "## Algorithm with Counter-Controlled Iteration\n",
    "\n",
    "- This technique uses a variable called a **counter** (or **control variable**) to control the number of times a group of statements will execute.\n",
    "- Often called **definite iteration** because the number of iterations is known before the loop begins executing.\n",
    "- The syntax of a **for loop** in C++ is\n",
    "```c++\n",
    "for ( init; condition; increment ) {\n",
    "    statement(s);\n",
    "}\n",
    "```"
   ]
  },
  {
   "cell_type": "code",
   "execution_count": null,
   "metadata": {
    "slideshow": {
     "slide_type": "slide"
    }
   },
   "outputs": [],
   "source": [
    "// Solving the class-average problem using counter-controlled iteration.\n",
    "#include <iostream>\n",
    "using namespace std;\n",
    "\n",
    "int main() {\n",
    "    // initialization phase\n",
    "    int total{0}; // initialize sum of grades entered by the user\n",
    "\n",
    "    // processing phase uses counter-controlled iteration\n",
    "    for (int gradeCounter{1}; gradeCounter <= 10; gradeCounter++)\n",
    "        cout << \"Enter grade: \"; // prompt\n",
    "        int grade;\n",
    "        cin >> grade; // input next grade\n",
    "        total = total + grade; // add grade to total\n",
    "    }\n",
    "    \n",
    "    // termination phase\n",
    "    int average = total / 10; // int division yields int result\n",
    "    \n",
    "    // display total and average of grades\n",
    "    cout << \"\\nTotal of all 10 grades is \" << total;\n",
    "    cout << \"\\nClass average is \" << average << endl;\n",
    "}"
   ]
  },
  {
   "cell_type": "markdown",
   "metadata": {
    "slideshow": {
     "slide_type": "slide"
    }
   },
   "source": [
    "![for-loop](../img/cpp_for_loop.png)"
   ]
  }
 ],
 "metadata": {
  "celltoolbar": "Slideshow",
  "kernelspec": {
   "display_name": "C++14",
   "language": "C++14",
   "name": "xcpp14"
  },
  "language_info": {
   "codemirror_mode": "text/x-c++src",
   "file_extension": ".cpp",
   "mimetype": "text/x-c++src",
   "name": "c++",
   "version": "-std=c++14"
  }
 },
 "nbformat": 4,
 "nbformat_minor": 2
}
