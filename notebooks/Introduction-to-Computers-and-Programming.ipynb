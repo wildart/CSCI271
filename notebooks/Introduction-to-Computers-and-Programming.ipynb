{
 "cells": [
  {
   "cell_type": "markdown",
   "metadata": {
    "slideshow": {
     "slide_type": "slide"
    }
   },
   "source": [
    "# Introduction to Computers & C++ Programming"
   ]
  },
  {
   "cell_type": "markdown",
   "metadata": {
    "slideshow": {
     "slide_type": "slide"
    }
   },
   "source": [
    "## Computer Architecture Influence\n",
    "<div style=\"width:40%; float: right\">\n",
    "    <img src=\"../img/vonNeumann.png\"/>\n",
    "</div>\n",
    "\n",
    "- Well-known computer architecture: Von Neumann\n",
    "- Data and programs stored in memory\n",
    "- Memory is separate from CPU\n",
    "- Instructions and data are piped from memory to CPU"
   ]
  },
  {
   "cell_type": "markdown",
   "metadata": {
    "slideshow": {
     "slide_type": "slide"
    }
   },
   "source": [
    "## Hardware and Software\n",
    "\n",
    "**Software** (i.e., the instructions you write) controls **hardware** (i.e., computers).\n",
    "\n",
    "Regardless of differences in physical appearance, computers can be envisioned as divided into various logical units or sections:\n",
    "\n",
    "- **Memory unit:** This rapid-access section retains information that has been entered through the input unit, also retains processed information until it can be placed on output devices by the output unit.\n",
    "\n",
    "- **Arithmetic and logic unit (ALU):** This unit performs calculations, and also contains the decision mechanisms. The ALU is implemented as part of the next logical unit, the CPU.\n",
    "\n",
    "- **Central processing unit (CPU):** The CPU tells the input unit when information should be read into the memory unit, tells the ALU when information from the memory unit should be used in calculations and tells the output unit when to send information from the memory unit to certain output devices."
   ]
  },
  {
   "cell_type": "markdown",
   "metadata": {
    "slideshow": {
     "slide_type": "slide"
    }
   },
   "source": [
    "## Hardware and Software (cont.)\n",
    "\n",
    "- **Input unit:** This “receiving” section obtains information (data and computer programs) from input devices and places it at the disposal of the other units for processing.\n",
    "\n",
    "- **Output unit:** This “shipping” section takes information the computer has processed and places it on various output devices to make it available for use outside the computer. "
   ]
  },
  {
   "cell_type": "markdown",
   "metadata": {
    "slideshow": {
     "slide_type": "slide"
    }
   },
   "source": [
    "## Byte measurements\n",
    "<style type=\"text/css\">\n",
    "  .text_cell.rendered td .rendered_html td {\n",
    "    max-width: none;\n",
    "    white-space: normal;\n",
    "    line-height: normal;\n",
    "    padding: 0.3em 0.5em;\n",
    "    font-size: 15px;\n",
    "  }\n",
    "</style>\n",
    "|Unit            |Bytes          | Exactly | Which is approximately |\n",
    "|----------------|---------------|---------|---------------|\n",
    "|1 kilobyte (KB) |1024 bytes     | $2^{10}$  | $10^3$ (1024) bytes exactly |\n",
    "|1 megabyte (MB) |1024 kilobytes | $2^{20}$  | $10^6$ (1,000,000) bytes |\n",
    "|1 gigabyte (GB) |1024 megabytes | $2^{30}$  | $10^9$ (1,000,000,000) bytes\n",
    "|1 terabyte (TB) |1024 gigabytes | $2^{40}$  | $10^{12}$ (1,000,000,000,000) bytes\n",
    "|1 petabyte (PB) |1024 terabytes | $2^{50}$  | $10^{15}$ (1,000,000,000,000,000) bytes\n",
    "|1 exabyte (EB)  |1024 petabytes | $2^{60}$  | $10^{18}$ (1,000,000,000,000,000,000) bytes\n",
    "|1 zettabyte (ZB)|1024 exabytes  | $2^{70}$  | $10^{21}$ (1,000,000,000,000,000,000,000) bytes"
   ]
  },
  {
   "cell_type": "code",
   "execution_count": 1,
   "metadata": {
    "slideshow": {
     "slide_type": "subslide"
    }
   },
   "outputs": [
    {
     "name": "stdout",
     "output_type": "stream",
     "text": [
      "1 petabyte is 2^50 bytes = 1125899906842624 bytes\n"
     ]
    }
   ],
   "source": [
    "#include <iostream>\n",
    "#include <iomanip>\n",
    "#include <cmath>\n",
    "\n",
    "std::cout << \"1 petabyte is 2^50 bytes = \" << std::setprecision(20) <<  pow(2., 50) << \" bytes\" << std::endl;"
   ]
  },
  {
   "cell_type": "markdown",
   "metadata": {
    "slideshow": {
     "slide_type": "subslide"
    }
   },
   "source": [
    "Edit and run to above program: https://coliru.stacked-crooked.com/a/d856d69604863045"
   ]
  },
  {
   "cell_type": "markdown",
   "metadata": {
    "slideshow": {
     "slide_type": "slide"
    }
   },
   "source": [
    "## Programming Languages\n",
    "\n",
    "- **Machine languages** (also called machine code), defined by the hardware architecture, binary, not portable.\n",
    "- **Assembly languages** instead of binary code, English-like abbreviations used to represent elementary operations, not portable.\n",
    "```asm\n",
    "LOAD A, 9999\n",
    "LOAD B, 8282\n",
    "SUB B\n",
    "MOV C, A\n",
    "```"
   ]
  },
  {
   "cell_type": "markdown",
   "metadata": {
    "slideshow": {
     "slide_type": "slide"
    }
   },
   "source": [
    "## Programming Languages (cont.)\n",
    "\n",
    "- **High-level languages** use instructions that look almost like everyday English and contain commonly used mathematical notations, processor independent & portable.\n",
    "  - Compiling a high-level language program into machine language can take a considerable amount of computer time.\n",
    "  - Interpreter programs were developed to execute high-level language programs directly (without the need for compilation), although more slowly than compiled programs."
   ]
  },
  {
   "cell_type": "markdown",
   "metadata": {
    "slideshow": {
     "slide_type": "slide"
    }
   },
   "source": [
    "### Example of Prgramming Language\n",
    "\n",
    "- C, 1972, Dennis Ritchie (Imperative procedural)\n",
    "\n",
    "```c\n",
    "#include<stdio.h>\n",
    "\n",
    "int main()\n",
    "{\n",
    "  printf(\"\\nHello world!\");\n",
    "  return 0;\n",
    "}\n",
    "```\n",
    "\n",
    "- C++, 1985, Bjarne Stroustrup (Imperative object-oriented)\n",
    "\n",
    "```c++\n",
    "#include <iostream>\n",
    "\n",
    "int main () {\n",
    "  std::cout << \"Hello world!\" << std::endl;\n",
    "}\n",
    "```"
   ]
  },
  {
   "cell_type": "markdown",
   "metadata": {
    "slideshow": {
     "slide_type": "subslide"
    }
   },
   "source": [
    "### Example of Prgramming Language\n",
    "\n",
    "- Python, 1990, Guido van Rossum (Imperative object-oriented & functional)\n",
    "\n",
    "```python\n",
    "import sys\n",
    "sys.stdout.write(\"Hello world!\\n\")\n",
    "```\n",
    "- Java, 1995, James Gosling (Imperative object-oriented)\n",
    "\n",
    "```java\n",
    "public class HelloWorld\n",
    "{\n",
    "  public static void main(String[] args)\n",
    "  {\n",
    "    System.out.println(\"Hello world!\");\n",
    "  }\n",
    "}\n",
    "```"
   ]
  },
  {
   "cell_type": "markdown",
   "metadata": {
    "slideshow": {
     "slide_type": "slide"
    }
   },
   "source": [
    "### C\n",
    "\n",
    "C systems generally consist of several parts: \n",
    "\n",
    "- a program development environment\n",
    "- the language\n",
    "- the C Standard Library.\n"
   ]
  },
  {
   "cell_type": "markdown",
   "metadata": {
    "slideshow": {
     "slide_type": "subslide"
    }
   },
   "source": [
    "![flow](../img/flow.png)"
   ]
  },
  {
   "cell_type": "markdown",
   "metadata": {
    "slideshow": {
     "slide_type": "slide"
    }
   },
   "source": [
    "### C (cont.)\n",
    "\n",
    "C programs typically go through six phases to be executed: \n",
    "\n",
    "- edit: using editor program or IDE (integrated development environment)\n",
    "  - C program file names should end with the .c extension.\n",
    "- preprocess\n",
    "  - the C preprocessor obeys special commands called preprocessor directives, which indicate that certain manipulations are to be performed on the program before compilation.\n",
    "- compile\n",
    "  - the C compiler translates the C program into machine-language code."
   ]
  },
  {
   "cell_type": "markdown",
   "metadata": {
    "slideshow": {
     "slide_type": "subslide"
    }
   },
   "source": [
    "![flow2](../img/flow2.png)"
   ]
  },
  {
   "cell_type": "markdown",
   "metadata": {
    "slideshow": {
     "slide_type": "slide"
    }
   },
   "source": [
    "### C (cont.)\n",
    "\n",
    "C programs typically go through six phases to be executed: \n",
    "\n",
    "- link\n",
    "  - C programs typically contain references to functions defined elsewhere (e.g. the standard libraries).\n",
    "  - A **linker** links the object code with the code for the missing functions to produce an executable image.\n",
    "- load\n",
    "  - The program must first be placed in memory before it can be executed\n",
    "  - The loader takes the executable image from disk and transfers it to memory.\n",
    "- execute\n",
    "  - The computer, under the control of its CPU, executes the program one instruction at a time."
   ]
  },
  {
   "cell_type": "markdown",
   "metadata": {
    "slideshow": {
     "slide_type": "slide"
    }
   },
   "source": [
    "### C++\n",
    "\n",
    "- C++ - a powerful computer programming language that’s appropriate for technically oriented people with little or no programming experience, and for experienced programmers to use in building substantial information systems.\n",
    "\n",
    "- C++ is one of today’s most popular software development languages.\n",
    "\n",
    "- C++11 and C++14 are the latest versions standardized through the International Organization for Standardization (ISO) and the International Electrotechnical Commission (IEC).\n",
    "\n",
    "- C++ Standard Library\n",
    "  - C++ programs consist of pieces called classes and functions.\n",
    "  - Most C++ programmers take advantage of the rich collections of classes and functions in the C++ Standard Library."
   ]
  },
  {
   "cell_type": "markdown",
   "metadata": {
    "slideshow": {
     "slide_type": "slide"
    }
   },
   "source": [
    "## Software Engineering\n",
    "\n",
    "- **Software reuse:** Use existing pieces wherever possible. This practice is central to effective object-oriented programming.\n",
    "  - Avoid reinventing the wheel.\n",
    "  \n",
    "- When programming in C++ use the following building blocks:\n",
    "  - classes and functions from the C++ Standard Library\n",
    "  - classes and functions you and your colleagues create\n",
    "  - classes and functions from various popular third-party libraries.\n",
    "  \n",
    "- Using C++ Standard Library functions and classes instead of writing your own versions can improve program performance, because they are written carefully to perform efficiently.\n",
    "  - This technique also shortens program development time.\n",
    "  - They are included in every C++ implementation."
   ]
  },
  {
   "cell_type": "code",
   "execution_count": 2,
   "metadata": {
    "slideshow": {
     "slide_type": "slide"
    }
   },
   "outputs": [
    {
     "name": "stdout",
     "output_type": "stream",
     "text": [
      "Welcome to C++!\n"
     ]
    },
    {
     "data": {
      "text/plain": [
       "@0x7fc0b078bee0"
      ]
     },
     "execution_count": 2,
     "metadata": {},
     "output_type": "execute_result"
    }
   ],
   "source": [
    "#include <iostream> // allows program to output data to the screen\n",
    "\n",
    "int main() // function main begins program execution\n",
    "{\n",
    "   std::cout << \"Welcome to C++!\\n\"; // display message\n",
    "\n",
    "   return 0; // indicate that program ended successfully\n",
    "\n",
    "} // end function main"
   ]
  },
  {
   "cell_type": "markdown",
   "metadata": {
    "slideshow": {
     "slide_type": "subslide"
    }
   },
   "source": [
    "Edit and run to above program: https://coliru.stacked-crooked.com/a/0ddabf5f1e1e0792"
   ]
  }
 ],
 "metadata": {
  "celltoolbar": "Slideshow",
  "kernelspec": {
   "display_name": "C++14",
   "language": "C++14",
   "name": "xcpp14"
  },
  "language_info": {
   "codemirror_mode": "text/x-c++src",
   "file_extension": ".cpp",
   "mimetype": "text/x-c++src",
   "name": "c++",
   "version": "-std=c++14"
  }
 },
 "nbformat": 4,
 "nbformat_minor": 2
}
