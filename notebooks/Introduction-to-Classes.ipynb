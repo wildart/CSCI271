{
 "cells": [
  {
   "cell_type": "markdown",
   "metadata": {},
   "source": [
    "# Introduction to Classes"
   ]
  },
  {
   "cell_type": "markdown",
   "metadata": {},
   "source": [
    "## Structures\n",
    "\n",
    "A data structure is a group of data elements grouped together under one name. These data elements, known as members, can have different types and different lengths. Data structures can be declared in C++ using the following syntax:\n",
    "\n",
    "```cpp\n",
    "struct type_name {\n",
    "member_type1 member_name1;\n",
    "member_type2 member_name2;\n",
    "member_type3 member_name3;\n",
    ".\n",
    ".\n",
    "} object_names;\n",
    "```\n",
    "\n",
    "Where `type_name` is a name for the structure type, `object_name` can be a set of valid identifiers for objects that have the type of this structure. Within braces {}, there is a list with the **data members**, each one is specified with a type and a valid identifier as its name."
   ]
  },
  {
   "cell_type": "markdown",
   "metadata": {},
   "source": [
    "## Classes\n",
    "\n",
    "**Class** is a user defined data type, which holds its own data members and member functions, which can be accessed and used by creating an instance of that class.\n",
    "- A class is like a blueprint for an object.\n",
    "- Each class you create becomes a new type you can use to create objects, so C++ is an extensible programming language.\n",
    "- Classes cannot execute by themselves.\n",
    "  - A Person object can drive a Car object by telling it what to do (go faster, go slower, turn left, turn right, etc.) - without knowing how the car’s internal mechanisms work.\n",
    "  - Similarly, the main function can \"drive\" an Account object by calling its member functions - without knowing how the class is implemented.\n"
   ]
  },
  {
   "cell_type": "markdown",
   "metadata": {},
   "source": [
    "## Example: Simple bank-account class\n",
    "\n",
    "Maintains as data members the attributes name and balance, and provides member functions for behaviors including\n",
    "- querying the balance (getBalance),\n",
    "- making a deposit that increases the balance (deposit) and\n",
    "- making a withdrawal that decreases the balance (withdraw)."
   ]
  },
  {
   "cell_type": "code",
   "execution_count": null,
   "metadata": {},
   "outputs": [],
   "source": [
    "// Account.h\n",
    "// Account class that contains a name data member \n",
    "// and member functions to set and get its value.\n",
    "#include <string> // enable program to use C++ string data type\n",
    "\n",
    "class Account {\n",
    "public:\n",
    "    // Account constructor with two parameters  \n",
    "    Account(std::string accountName, int initialBalance) \n",
    "      : name{accountName} { // assign accountName to data member name\n",
    "\n",
    "      // validate that the initialBalance is greater than 0; if not,\n",
    "      // data member balance keeps its default initial value of 0\n",
    "      if (initialBalance > 0) { // if the initialBalance is valid\n",
    "         balance = initialBalance; // assign it to data member balance\n",
    "      }\n",
    "    }\n",
    "    \n",
    "    // function that deposits (adds) only a valid amount to the balance\n",
    "    void deposit(int depositAmount) {\n",
    "        if (depositAmount > 0) { // if the depositAmount is valid\n",
    "         balance = balance + depositAmount; // add it to the balance \n",
    "        }\n",
    "    }\n",
    "\n",
    "    // function returns the account balance\n",
    "    int getBalance() const {\n",
    "        return balance;\n",
    "    }\n",
    "    \n",
    "    // member function that sets the account name in the object\n",
    "    void setName(std::string accountName) {\n",
    "        name = accountName; // store the account name           \n",
    "    }\n",
    "\n",
    "    // member function that retrieves the account name from the object       \n",
    "    std::string getName() const {\n",
    "        return name; // return name's value to this function's caller\n",
    "    }\n",
    "private:\n",
    "    std::string name; // data member containing account holder's name\n",
    "    int balance{0}; // data member with default initial value\n",
    "}; // end class Account"
   ]
  },
  {
   "cell_type": "markdown",
   "metadata": {},
   "source": [
    "## Classes\n",
    "\n",
    "Classes are defined using either keyword class or keyword struct, with the following syntax:\n",
    "\n",
    "```cpp\n",
    "class class_name\n",
    "{\n",
    "  access_specifier_1:\n",
    "    member1;\n",
    "  access_specifier_2:\n",
    "    member2;\n",
    "  ...\n",
    "} object_names;\n",
    "```\n",
    "\n",
    "Where `class_name` is a valid identifier for the class, `object_names` is an optional list of names for objects of this class. The body of the declaration can contain members, which can either be data or function declarations, and optionally access specifiers.\n",
    "\n",
    "Classes have the same format as **plain data structures**, except that they can also include functions and have these new things called access specifiers.\n",
    "\n",
    "An access specifier is one of the following three keywords: **private, public or protected**. These specifiers modify the access rights for the members that follow them:\n",
    "\n",
    "- **private** members of a class are accessible only from within other members of the same class (or from their \"friends\").\n",
    "- **protected** members are accessible from other members of the same class (or from their \"friends\"), but also from members of their derived classes.\n",
    "- **public** members are accessible from anywhere where the object is visible.\n",
    "\n",
    "*Note:* By default, all members of a class declared with the class keyword have private access for all its members."
   ]
  },
  {
   "cell_type": "markdown",
   "metadata": {},
   "source": [
    "## Instantiating an Object\n",
    "\n",
    "- **An object** is an instantiation of *a class*. In terms of variables, a class would be the type, and an object would be the variable.\n",
    "\n",
    "- Typically, you cannot call a member function of a class until you create an object of that class."
   ]
  },
  {
   "cell_type": "markdown",
   "metadata": {},
   "source": [
    "## Members\n",
    "\n",
    "Functions:\n",
    "\n",
    "- E.g. One can get `myAccount` name by calling the object’s `getName` member function with the expression `myAccount.getName()`.\n",
    "- To call this member function for a specific object, you specify the object’s name (myAccount), followed by the **dot operator (.)**, then the member function name (getName) and a set of parentheses.\n",
    "- The empty parentheses indicate that getName does not require any additional information to perform its task.\n",
    "- The member function's return type (which appears to the left of the function’s name) specifies the type of data the member function returns to its caller after performing its task.\n",
    "- The return type void indicates that a function does not return (i.e., give back) any information to its calling function.\n",
    "\n",
    "Data:\n",
    " - An object has attributes, implemented as **data members** - the object carries these with it throughout its lifetime.\n",
    "- Each object has its own copy of the class's data members.\n",
    "- Normally, a class also contains one or more member functions that manipulate the data members belonging to particular objects of the class.\n",
    "- Data members are declared inside a class definition but outside the bodies of the class's member functions."
   ]
  },
  {
   "cell_type": "code",
   "execution_count": 2,
   "metadata": {},
   "outputs": [
    {
     "name": "stdout",
     "output_type": "stream",
     "text": [
      "Name in object `acc` is: John Dow\n"
     ]
    }
   ],
   "source": [
    "#include <iostream>\n",
    "#include <string>\n",
    "using namespace std;\n",
    "\n",
    "Account acc{\"John Dow\", 0};\n",
    "cout << \"Name in object `acc` is: \" << acc.getName() << endl;"
   ]
  },
  {
   "cell_type": "markdown",
   "metadata": {},
   "source": [
    "## Example: Simple bank-account class (cont.)\n",
    "\n",
    "- Class **Account** contains a name data member that stores the account holder’s name.\n",
    "- A class's data members maintain data for each object of the class.\n",
    "- Class **Account** also contains member function **setName** that a program can call to store a name in an Account object, and member function **getName** that a program can call to obtain a name from an Account object."
   ]
  },
  {
   "cell_type": "markdown",
   "metadata": {},
   "source": [
    "## (Member) Functions\n",
    "\n",
    "- The first line of each function definition is the function header (signature).\n",
    "- The (member) function's return type (which appears to the left of the function's name) specifies the type of data the member function returns to its caller after performing its task.\n",
    "- The return type **void** indicates that a function does not return (i.e., give back) any information to its calling function.\n",
    "- A member function can require one or more parameters that represent the data it needs to perform its task.\n",
    "  - Parameters are declared in a parameter list located in the required parentheses following the member function’s name.\n",
    "  - Each parameter must specify a type followed by a parameter name.\n",
    "  - Parameters are separated by a comma, as in\n",
    "  \n",
    "          (type1 name1, type2 name2, ...)\n",
    "  \n",
    "  - The number/order of arguments in a function call must match the number/order of parameters in the function definition’s parameter list.\n",
    "- Every (member) function body is delimited by an opening left brace and a closing right brace.\n",
    "- Within the braces are one or more statements that perform the (member) function's task(s).\n",
    "- When program execution reaches the member function's closing brace, the function returns to its caller.\n",
    "- Variables declared in a particular function's body are local variables which can be used only in that function.\n",
    "- When a function terminates, the values of its local variables are lost.\n",
    "- A function’s parameters also are local variables of that function."
   ]
  },
  {
   "cell_type": "code",
   "execution_count": 3,
   "metadata": {},
   "outputs": [],
   "source": [
    "double square(double value)\n",
    "{\n",
    "    return value*value;\n",
    "}"
   ]
  },
  {
   "cell_type": "code",
   "execution_count": 6,
   "metadata": {},
   "outputs": [
    {
     "name": "stdout",
     "output_type": "stream",
     "text": [
      "Square of 12.2 is: 148.84\n"
     ]
    }
   ],
   "source": [
    "#include <iostream>\n",
    "\n",
    "double var2 = 12.2; \n",
    "std::cout << \"Square of \" << var2 << \" is: \" << square(var2) << std::endl;"
   ]
  },
  {
   "cell_type": "markdown",
   "metadata": {},
   "source": [
    "## Access Specifiers\n",
    "\n",
    "- **private** is an access specifier.\n",
    "- Access specifiers are always followed by **a colon (:)**.\n",
    "- Data member name's declaration (line 40) appears after access specifier private: to indicate that name is accessible only to class Account's member functions.\n",
    "  - This is known as data hiding - the data member name is encapsulated (hidden) and can be used only in class Account’s `setName` and `getName` member functions.\n",
    "- Data members or member functions listed after the public access specifier (and before the next access specifier if there is one) are “available to the public.”\n",
    "  - They can be used by other functions in the program, and by member functions of other classes.\n",
    "\n",
    "Tips\n",
    "- By default, everything in a class is private, unless you specify otherwise.\n",
    "- Once you list an access specifier, everything from that point has that access until you list another access specifier.\n",
    "- The access specifiers public and private may be repeated, but this is unnecessary and can be confusing."
   ]
  },
  {
   "cell_type": "markdown",
   "metadata": {},
   "source": [
    "## Example: Simple bank-account class (cont.)"
   ]
  },
  {
   "cell_type": "code",
   "execution_count": null,
   "metadata": {},
   "outputs": [],
   "source": [
    "// AccountTest.cpp\n",
    "// Creating and manipulating an Account object.\n",
    "#include <iostream>\n",
    "#include <string>\n",
    "#include \"Account.h\"\n",
    "\n",
    "using namespace std;\n",
    "\n",
    "int main() { \n",
    "   Account myAccount; // create Account object myAccount\n",
    "\n",
    "   // show that the initial value of myAccount's name is the empty string\n",
    "   cout << \"Initial account name is: \" << myAccount.getName();\n",
    "\n",
    "   // prompt for and read name\n",
    "   cout << \"\\nPlease enter the account name: \";\n",
    "   string theName;\n",
    "   getline(cin, theName); // read a line of text\n",
    "   myAccount.setName(theName); // put theName in myAccount\n",
    "\n",
    "   // display the name stored in object myAccount\n",
    "   cout << \"Name in object myAccount is: \" \n",
    "      << myAccount.getName() << endl;\n",
    "}"
   ]
  }
 ],
 "metadata": {
  "kernelspec": {
   "display_name": "C++14",
   "language": "C++14",
   "name": "xeus-cling-cpp14"
  },
  "language_info": {
   "codemirror_mode": "text/x-c++src",
   "file_extension": ".cpp",
   "mimetype": "text/x-c++src",
   "name": "c++",
   "version": "-std=c++14"
  }
 },
 "nbformat": 4,
 "nbformat_minor": 2
}
